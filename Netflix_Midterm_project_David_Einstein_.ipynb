{
 "cells": [
  {
   "cell_type": "code",
   "execution_count": 1,
   "metadata": {},
   "outputs": [
    {
     "data": {
      "text/html": [
       "        <script type=\"text/javascript\">\n",
       "        window.PlotlyConfig = {MathJaxConfig: 'local'};\n",
       "        if (window.MathJax) {MathJax.Hub.Config({SVG: {font: \"STIX-Web\"}});}\n",
       "        if (typeof require !== 'undefined') {\n",
       "        require.undef(\"plotly\");\n",
       "        requirejs.config({\n",
       "            paths: {\n",
       "                'plotly': ['https://cdn.plot.ly/plotly-2.9.0.min']\n",
       "            }\n",
       "        });\n",
       "        require(['plotly'], function(Plotly) {\n",
       "            window._Plotly = Plotly;\n",
       "        });\n",
       "        }\n",
       "        </script>\n",
       "        "
      ]
     },
     "metadata": {},
     "output_type": "display_data"
    }
   ],
   "source": [
    "#Adding dependecies \n",
    "import numpy as np # linear algebra\n",
    "import pandas as pd # data processing, CSV file I/O (e.g. pd.read_csv)\n",
    "from chart_studio import plotly\n",
    "from plotly.offline import init_notebook_mode,iplot\n",
    "init_notebook_mode(connected=True)\n",
    "import plotly.graph_objs as go\n",
    "from plotly.tools import FigureFactory as ff\n",
    "import matplotlib.pyplot as plt\n",
    "from PIL import Image\n",
    "import os\n",
    "import warnings\n",
    "warnings.filterwarnings(\"ignore\")\n",
    "# Any results you write to the current directory are saved as output.\n",
    "#Change"
   ]
  },
  {
   "cell_type": "code",
   "execution_count": 2,
   "metadata": {},
   "outputs": [],
   "source": [
    "#Opening file and assigning variable. \n",
    "total_sales = pd.read_csv(r\"C:\\Users\\david\\OneDrive\\Desktop\\Video_Games_Sales_as_at_22_Dec_2016.csv\")"
   ]
  },
  {
   "cell_type": "code",
   "execution_count": 3,
   "metadata": {},
   "outputs": [],
   "source": [
    "#finding the column for each genre and assogning variable \n",
    "simulation=total_sales[total_sales.Genre==\"Simulation\"]\n",
    "fight=total_sales[total_sales.Genre==\"Fighting\"]\n",
    "strategy=total_sales[total_sales.Genre==\"Strategy\"]\n",
    "puzzle=total_sales[total_sales.Genre==\"Puzzle\"]\n",
    "misc=total_sales[total_sales.Genre==\"Misc\"]\n",
    "role=total_sales[total_sales.Genre==\"Role-Playing\"]\n",
    "shooter=total_sales[total_sales.Genre==\"Shooter\"]\n",
    "adventure=total_sales[total_sales.Genre==\"Adventure\"]\n",
    "race=total_sales[total_sales.Genre==\"Racing\"]\n",
    "action=total_sales[total_sales.Genre==\"Action\"]\n",
    "sports=total_sales[total_sales.Genre==\"Sports\"]\n",
    "platform=total_sales[total_sales.Genre==\"Platform\"]"
   ]
  },
  {
   "cell_type": "code",
   "execution_count": 4,
   "metadata": {},
   "outputs": [
    {
     "data": {
      "application/vnd.plotly.v1+json": {
       "config": {
        "linkText": "Export to plot.ly",
        "plotlyServerURL": "https://plot.ly",
        "showLink": false
       },
       "data": [
        {
         "marker": {
          "color": "rgb(119,172,238)"
         },
         "name": "Action",
         "opacity": 0.75,
         "type": "bar",
         "x": [
          "2600",
          "3DS",
          "DC",
          "DS",
          "GB",
          "GBA",
          "GC",
          "GEN",
          "N64",
          "NES",
          "PC",
          "PS",
          "PS2",
          "PS3",
          "PS4",
          "PSP",
          "PSV",
          "SAT",
          "SNES",
          "Wii",
          "WiiU",
          "X360",
          "XB",
          "XOne"
         ],
         "y": [
          29.339999999999986,
          58.33000000000003,
          1.26,
          112.69999999999993,
          7.92,
          55.76000000000001,
          37.839999999999996,
          2.7399999999999998,
          29.58,
          28.750000000000004,
          31.710000000000026,
          127.04999999999991,
          272.7599999999997,
          301.54999999999905,
          96.18000000000002,
          64.1100000000001,
          17.080000000000027,
          0.6499999999999999,
          10.079999999999998,
          114.50999999999995,
          19.049999999999994,
          239.69000000000003,
          49.28000000000006,
          37.35
         ]
        },
        {
         "marker": {
          "color": "rgb(21,90,174)"
         },
         "name": "Sports",
         "opacity": 0.75,
         "type": "bar",
         "x": [
          "2600",
          "3DS",
          "DC",
          "DS",
          "GB",
          "GBA",
          "GC",
          "GEN",
          "N64",
          "NES",
          "NG",
          "PC",
          "PS",
          "PS2",
          "PS3",
          "PS4",
          "PSP",
          "PSV",
          "SAT",
          "SNES",
          "Wii",
          "WiiU",
          "X360",
          "XB",
          "XOne"
         ],
         "y": [
          3.4299999999999993,
          6.1899999999999995,
          3.6599999999999997,
          31.41000000000001,
          9.05,
          16.410000000000014,
          25.489999999999988,
          3.2,
          32.8,
          26.849999999999998,
          0.02,
          12.009999999999993,
          120.97,
          273.40999999999946,
          133.88000000000008,
          55.6,
          41.51000000000003,
          4.159999999999999,
          2.7899999999999996,
          17.87,
          288.60999999999973,
          3.1899999999999995,
          138.45000000000002,
          54.27000000000003,
          26.770000000000003
         ]
        },
        {
         "marker": {
          "color": "rgb(156,245,163)"
         },
         "name": "Racing",
         "opacity": 0.75,
         "type": "bar",
         "x": [
          "2600",
          "3DS",
          "DC",
          "DS",
          "GB",
          "GBA",
          "GC",
          "GEN",
          "N64",
          "NES",
          "PC",
          "PS",
          "PS2",
          "PS3",
          "PS4",
          "PSP",
          "PSV",
          "SAT",
          "SCD",
          "SNES",
          "Wii",
          "WiiU",
          "X360",
          "XB",
          "XOne"
         ],
         "y": [
          2.9099999999999997,
          14.94,
          2.65,
          38.100000000000016,
          4.55,
          18.80000000000001,
          21.889999999999997,
          0.26,
          40.090000000000025,
          9.780000000000001,
          3.989999999999995,
          103.18999999999996,
          156.28000000000017,
          72.13000000000001,
          12.160000000000002,
          34.29000000000001,
          2.53,
          2.3999999999999995,
          0.07,
          13.489999999999997,
          60.25,
          7.869999999999999,
          65.00000000000003,
          31.489999999999988,
          9.789999999999996
         ]
        },
        {
         "marker": {
          "color": "rgb(14,135,23)"
         },
         "name": "Shooter",
         "opacity": 0.75,
         "type": "bar",
         "x": [
          "2600",
          "3DS",
          "DC",
          "DS",
          "GB",
          "GBA",
          "GC",
          "GEN",
          "N64",
          "NES",
          "PC",
          "PS",
          "PS2",
          "PS3",
          "PS4",
          "PSP",
          "PSV",
          "SAT",
          "SNES",
          "TG16",
          "Wii",
          "WiiU",
          "X360",
          "XB",
          "XOne"
         ],
         "y": [
          26.480000000000004,
          1.2900000000000003,
          0.33,
          7.919999999999997,
          1.2,
          3.5999999999999983,
          13.629999999999999,
          0.13,
          19.27000000000001,
          35.620000000000005,
          45.92000000000002,
          39.31000000000002,
          108.56999999999998,
          192.45999999999992,
          88.55999999999995,
          19.66,
          3.8800000000000003,
          3.98,
          6.07,
          0.02,
          28.15,
          5.97,
          276.97999999999956,
          63.55000000000003,
          60.39000000000001
         ]
        },
        {
         "marker": {
          "color": "rgb(252,118,103)"
         },
         "name": "Misc",
         "opacity": 0.75,
         "type": "bar",
         "x": [
          "2600",
          "3DS",
          "DS",
          "GB",
          "GBA",
          "GC",
          "GEN",
          "N64",
          "NES",
          "PC",
          "PS",
          "PS2",
          "PS3",
          "PS4",
          "PSP",
          "PSV",
          "SAT",
          "SCD",
          "SNES",
          "Wii",
          "WiiU",
          "X360",
          "XB",
          "XOne"
         ],
         "y": [
          3.58,
          10.979999999999997,
          135.7200000000003,
          13.350000000000001,
          36.24999999999999,
          16.729999999999997,
          0.03,
          11.190000000000001,
          3.59,
          8.569999999999993,
          44.9,
          101.14000000000001,
          46.880000000000045,
          8.209999999999997,
          13.90999999999999,
          4.429999999999997,
          1.2000000000000002,
          0.1,
          5.0200000000000005,
          216.37000000000006,
          12.469999999999995,
          91.53999999999994,
          9.58,
          7.4399999999999995
         ]
        },
        {
         "marker": {
          "color": "rgb(226,28,5)"
         },
         "name": "Role Playing",
         "opacity": 0.75,
         "type": "bar",
         "x": [
          "3DS",
          "DC",
          "DS",
          "GB",
          "GBA",
          "GC",
          "GEN",
          "N64",
          "NES",
          "PC",
          "PCFX",
          "PS",
          "PS2",
          "PS3",
          "PS4",
          "PSP",
          "PSV",
          "SAT",
          "SCD",
          "SNES",
          "WS",
          "Wii",
          "WiiU",
          "X360",
          "XB",
          "XOne"
         ],
         "y": [
          84.28999999999996,
          0.68,
          124.44000000000015,
          88.24000000000001,
          64.20999999999995,
          13.15,
          0.27,
          3.36,
          18.78,
          47.72000000000006,
          0.03,
          78.29999999999993,
          93.49999999999996,
          73.67000000000002,
          28.949999999999992,
          48.980000000000096,
          12.4,
          3.7599999999999993,
          0.06,
          36.429999999999986,
          1.22,
          13.700000000000001,
          2.8899999999999997,
          71.30999999999997,
          13.509999999999994,
          10.55
         ]
        },
        {
         "marker": {
          "color": "rgb(247,173,13)"
         },
         "name": "Fighting",
         "opacity": 0.75,
         "type": "bar",
         "x": [
          "2600",
          "3DS",
          "DC",
          "DS",
          "GBA",
          "GC",
          "GEN",
          "N64",
          "NES",
          "NG",
          "PC",
          "PS",
          "PS2",
          "PS3",
          "PS4",
          "PSP",
          "PSV",
          "SAT",
          "SNES",
          "Wii",
          "WiiU",
          "X360",
          "XB",
          "XOne"
         ],
         "y": [
          1.24,
          10.569999999999997,
          1.8300000000000005,
          7.1099999999999985,
          4.209999999999999,
          18.429999999999993,
          5.9,
          22.08,
          6.54,
          1.4200000000000004,
          0.29000000000000004,
          72.67999999999995,
          92.60000000000001,
          51.080000000000005,
          8.649999999999997,
          21.819999999999993,
          2.629999999999999,
          8.52,
          26.949999999999996,
          23.36,
          6.27,
          37.34000000000001,
          13.549999999999992,
          2.4099999999999997
         ]
        },
        {
         "marker": {
          "color": "rgb(242,122,13)"
         },
         "name": "Platform",
         "opacity": 0.75,
         "type": "bar",
         "x": [
          "2600",
          "3DS",
          "DC",
          "DS",
          "GB",
          "GBA",
          "GC",
          "GEN",
          "GG",
          "N64",
          "NES",
          "PC",
          "PS",
          "PS2",
          "PS3",
          "PS4",
          "PSP",
          "PSV",
          "SAT",
          "SCD",
          "SNES",
          "Wii",
          "WiiU",
          "X360",
          "XB",
          "XOne"
         ],
         "y": [
          13.27,
          32.519999999999996,
          2.54,
          75.91999999999994,
          54.910000000000004,
          78.29999999999998,
          28.660000000000007,
          15.450000000000001,
          0.04,
          36.129999999999995,
          95.78000000000003,
          0.4900000000000001,
          64.21000000000001,
          72.50999999999992,
          29.71,
          7.699999999999998,
          17.090000000000003,
          2.559999999999999,
          0.76,
          1.5,
          65.65000000000002,
          88.92000000000002,
          21.540000000000006,
          11.319999999999997,
          9.659999999999997,
          0.9400000000000001
         ]
        },
        {
         "marker": {
          "color": "rgb(188,145,202)"
         },
         "name": "Simulation",
         "opacity": 0.75,
         "type": "bar",
         "x": [
          "2600",
          "3DO",
          "3DS",
          "DC",
          "DS",
          "GB",
          "GBA",
          "GC",
          "N64",
          "PC",
          "PS",
          "PS2",
          "PS3",
          "PS4",
          "PSP",
          "PSV",
          "SAT",
          "SNES",
          "Wii",
          "WiiU",
          "X360",
          "XB",
          "XOne"
         ],
         "y": [
          0.45,
          0.02,
          27.43000000000001,
          0.52,
          130.29000000000013,
          3.55,
          5.91,
          8.590000000000002,
          10.19,
          52.610000000000056,
          25.33,
          42.66000000000002,
          10.389999999999993,
          1.2000000000000002,
          6.229999999999998,
          0.07999999999999999,
          1.1300000000000001,
          5.630000000000001,
          36.030000000000015,
          0.2,
          14.180000000000003,
          7.1099999999999985,
          0.6900000000000001
         ]
        },
        {
         "marker": {
          "color": "rgb(104,57,119)"
         },
         "name": "Adventure",
         "opacity": 0.75,
         "type": "bar",
         "x": [
          "2600",
          "3DO",
          "3DS",
          "DC",
          "DS",
          "GB",
          "GBA",
          "GC",
          "GEN",
          "N64",
          "NES",
          "PC",
          "PS",
          "PS2",
          "PS3",
          "PS4",
          "PSP",
          "PSV",
          "SAT",
          "SNES",
          "TG16",
          "Wii",
          "WiiU",
          "X360",
          "XB",
          "XOne"
         ],
         "y": [
          1.7000000000000002,
          0.06,
          4.899999999999999,
          2.5000000000000004,
          45.900000000000034,
          17.16,
          14.679999999999998,
          5.930000000000001,
          0.19,
          0.45,
          4.38,
          10.039999999999981,
          20.970000000000006,
          21.160000000000057,
          22.279999999999998,
          6.389999999999997,
          10.67999999999994,
          3.839999999999992,
          4.16,
          1.5,
          0.14,
          17.829999999999995,
          0.16000000000000003,
          14.939999999999992,
          3.059999999999999,
          2.6899999999999995
         ]
        },
        {
         "marker": {
          "color": "rgb(245,253,104)"
         },
         "name": "Strategy",
         "opacity": 0.75,
         "type": "bar",
         "x": [
          "3DS",
          "DS",
          "GB",
          "GBA",
          "GC",
          "GEN",
          "N64",
          "PC",
          "PS",
          "PS2",
          "PS3",
          "PS4",
          "PSP",
          "PSV",
          "SAT",
          "SCD",
          "SNES",
          "WS",
          "Wii",
          "WiiU",
          "X360",
          "XB",
          "XOne"
         ],
         "y": [
          2.0999999999999996,
          14.87,
          8.05,
          7.449999999999999,
          4.319999999999999,
          0.19,
          10.329999999999998,
          46.03000000000013,
          21.69000000000001,
          15.149999999999993,
          4.819999999999999,
          0.6000000000000001,
          10.49999999999999,
          0.35,
          3.2399999999999998,
          0.14,
          4.98,
          0.2,
          5.029999999999999,
          1.2300000000000002,
          10.030000000000001,
          2.7799999999999994,
          0.42
         ]
        },
        {
         "marker": {
          "color": "rgb(138,72,40)"
         },
         "name": "Puzzle",
         "opacity": 0.75,
         "type": "bar",
         "x": [
          "2600",
          "3DO",
          "3DS",
          "DS",
          "GB",
          "GBA",
          "GC",
          "N64",
          "NES",
          "PC",
          "PS",
          "PS2",
          "PS3",
          "PS4",
          "PSP",
          "PSV",
          "SAT",
          "SNES",
          "Wii",
          "WiiU",
          "X360",
          "XB"
         ],
         "y": [
          14.68,
          0.02,
          5.549999999999999,
          82.72000000000008,
          47.469999999999985,
          12.920000000000005,
          4.699999999999998,
          3.4100000000000006,
          21.000000000000004,
          0.9200000000000004,
          12.079999999999998,
          5.8999999999999995,
          0.5800000000000001,
          0.03,
          5.5200000000000005,
          0.18,
          1,
          6.38,
          15.370000000000001,
          1.32,
          0.8500000000000001,
          0.42000000000000004
         ]
        }
       ],
       "layout": {
        "barmode": "stack",
        "paper_bgcolor": "white",
        "plot_bgcolor": "white",
        "template": {
         "data": {
          "bar": [
           {
            "error_x": {
             "color": "#2a3f5f"
            },
            "error_y": {
             "color": "#2a3f5f"
            },
            "marker": {
             "line": {
              "color": "#E5ECF6",
              "width": 0.5
             },
             "pattern": {
              "fillmode": "overlay",
              "size": 10,
              "solidity": 0.2
             }
            },
            "type": "bar"
           }
          ],
          "barpolar": [
           {
            "marker": {
             "line": {
              "color": "#E5ECF6",
              "width": 0.5
             },
             "pattern": {
              "fillmode": "overlay",
              "size": 10,
              "solidity": 0.2
             }
            },
            "type": "barpolar"
           }
          ],
          "carpet": [
           {
            "aaxis": {
             "endlinecolor": "#2a3f5f",
             "gridcolor": "white",
             "linecolor": "white",
             "minorgridcolor": "white",
             "startlinecolor": "#2a3f5f"
            },
            "baxis": {
             "endlinecolor": "#2a3f5f",
             "gridcolor": "white",
             "linecolor": "white",
             "minorgridcolor": "white",
             "startlinecolor": "#2a3f5f"
            },
            "type": "carpet"
           }
          ],
          "choropleth": [
           {
            "colorbar": {
             "outlinewidth": 0,
             "ticks": ""
            },
            "type": "choropleth"
           }
          ],
          "contour": [
           {
            "colorbar": {
             "outlinewidth": 0,
             "ticks": ""
            },
            "colorscale": [
             [
              0,
              "#0d0887"
             ],
             [
              0.1111111111111111,
              "#46039f"
             ],
             [
              0.2222222222222222,
              "#7201a8"
             ],
             [
              0.3333333333333333,
              "#9c179e"
             ],
             [
              0.4444444444444444,
              "#bd3786"
             ],
             [
              0.5555555555555556,
              "#d8576b"
             ],
             [
              0.6666666666666666,
              "#ed7953"
             ],
             [
              0.7777777777777778,
              "#fb9f3a"
             ],
             [
              0.8888888888888888,
              "#fdca26"
             ],
             [
              1,
              "#f0f921"
             ]
            ],
            "type": "contour"
           }
          ],
          "contourcarpet": [
           {
            "colorbar": {
             "outlinewidth": 0,
             "ticks": ""
            },
            "type": "contourcarpet"
           }
          ],
          "heatmap": [
           {
            "colorbar": {
             "outlinewidth": 0,
             "ticks": ""
            },
            "colorscale": [
             [
              0,
              "#0d0887"
             ],
             [
              0.1111111111111111,
              "#46039f"
             ],
             [
              0.2222222222222222,
              "#7201a8"
             ],
             [
              0.3333333333333333,
              "#9c179e"
             ],
             [
              0.4444444444444444,
              "#bd3786"
             ],
             [
              0.5555555555555556,
              "#d8576b"
             ],
             [
              0.6666666666666666,
              "#ed7953"
             ],
             [
              0.7777777777777778,
              "#fb9f3a"
             ],
             [
              0.8888888888888888,
              "#fdca26"
             ],
             [
              1,
              "#f0f921"
             ]
            ],
            "type": "heatmap"
           }
          ],
          "heatmapgl": [
           {
            "colorbar": {
             "outlinewidth": 0,
             "ticks": ""
            },
            "colorscale": [
             [
              0,
              "#0d0887"
             ],
             [
              0.1111111111111111,
              "#46039f"
             ],
             [
              0.2222222222222222,
              "#7201a8"
             ],
             [
              0.3333333333333333,
              "#9c179e"
             ],
             [
              0.4444444444444444,
              "#bd3786"
             ],
             [
              0.5555555555555556,
              "#d8576b"
             ],
             [
              0.6666666666666666,
              "#ed7953"
             ],
             [
              0.7777777777777778,
              "#fb9f3a"
             ],
             [
              0.8888888888888888,
              "#fdca26"
             ],
             [
              1,
              "#f0f921"
             ]
            ],
            "type": "heatmapgl"
           }
          ],
          "histogram": [
           {
            "marker": {
             "pattern": {
              "fillmode": "overlay",
              "size": 10,
              "solidity": 0.2
             }
            },
            "type": "histogram"
           }
          ],
          "histogram2d": [
           {
            "colorbar": {
             "outlinewidth": 0,
             "ticks": ""
            },
            "colorscale": [
             [
              0,
              "#0d0887"
             ],
             [
              0.1111111111111111,
              "#46039f"
             ],
             [
              0.2222222222222222,
              "#7201a8"
             ],
             [
              0.3333333333333333,
              "#9c179e"
             ],
             [
              0.4444444444444444,
              "#bd3786"
             ],
             [
              0.5555555555555556,
              "#d8576b"
             ],
             [
              0.6666666666666666,
              "#ed7953"
             ],
             [
              0.7777777777777778,
              "#fb9f3a"
             ],
             [
              0.8888888888888888,
              "#fdca26"
             ],
             [
              1,
              "#f0f921"
             ]
            ],
            "type": "histogram2d"
           }
          ],
          "histogram2dcontour": [
           {
            "colorbar": {
             "outlinewidth": 0,
             "ticks": ""
            },
            "colorscale": [
             [
              0,
              "#0d0887"
             ],
             [
              0.1111111111111111,
              "#46039f"
             ],
             [
              0.2222222222222222,
              "#7201a8"
             ],
             [
              0.3333333333333333,
              "#9c179e"
             ],
             [
              0.4444444444444444,
              "#bd3786"
             ],
             [
              0.5555555555555556,
              "#d8576b"
             ],
             [
              0.6666666666666666,
              "#ed7953"
             ],
             [
              0.7777777777777778,
              "#fb9f3a"
             ],
             [
              0.8888888888888888,
              "#fdca26"
             ],
             [
              1,
              "#f0f921"
             ]
            ],
            "type": "histogram2dcontour"
           }
          ],
          "mesh3d": [
           {
            "colorbar": {
             "outlinewidth": 0,
             "ticks": ""
            },
            "type": "mesh3d"
           }
          ],
          "parcoords": [
           {
            "line": {
             "colorbar": {
              "outlinewidth": 0,
              "ticks": ""
             }
            },
            "type": "parcoords"
           }
          ],
          "pie": [
           {
            "automargin": true,
            "type": "pie"
           }
          ],
          "scatter": [
           {
            "marker": {
             "colorbar": {
              "outlinewidth": 0,
              "ticks": ""
             }
            },
            "type": "scatter"
           }
          ],
          "scatter3d": [
           {
            "line": {
             "colorbar": {
              "outlinewidth": 0,
              "ticks": ""
             }
            },
            "marker": {
             "colorbar": {
              "outlinewidth": 0,
              "ticks": ""
             }
            },
            "type": "scatter3d"
           }
          ],
          "scattercarpet": [
           {
            "marker": {
             "colorbar": {
              "outlinewidth": 0,
              "ticks": ""
             }
            },
            "type": "scattercarpet"
           }
          ],
          "scattergeo": [
           {
            "marker": {
             "colorbar": {
              "outlinewidth": 0,
              "ticks": ""
             }
            },
            "type": "scattergeo"
           }
          ],
          "scattergl": [
           {
            "marker": {
             "colorbar": {
              "outlinewidth": 0,
              "ticks": ""
             }
            },
            "type": "scattergl"
           }
          ],
          "scattermapbox": [
           {
            "marker": {
             "colorbar": {
              "outlinewidth": 0,
              "ticks": ""
             }
            },
            "type": "scattermapbox"
           }
          ],
          "scatterpolar": [
           {
            "marker": {
             "colorbar": {
              "outlinewidth": 0,
              "ticks": ""
             }
            },
            "type": "scatterpolar"
           }
          ],
          "scatterpolargl": [
           {
            "marker": {
             "colorbar": {
              "outlinewidth": 0,
              "ticks": ""
             }
            },
            "type": "scatterpolargl"
           }
          ],
          "scatterternary": [
           {
            "marker": {
             "colorbar": {
              "outlinewidth": 0,
              "ticks": ""
             }
            },
            "type": "scatterternary"
           }
          ],
          "surface": [
           {
            "colorbar": {
             "outlinewidth": 0,
             "ticks": ""
            },
            "colorscale": [
             [
              0,
              "#0d0887"
             ],
             [
              0.1111111111111111,
              "#46039f"
             ],
             [
              0.2222222222222222,
              "#7201a8"
             ],
             [
              0.3333333333333333,
              "#9c179e"
             ],
             [
              0.4444444444444444,
              "#bd3786"
             ],
             [
              0.5555555555555556,
              "#d8576b"
             ],
             [
              0.6666666666666666,
              "#ed7953"
             ],
             [
              0.7777777777777778,
              "#fb9f3a"
             ],
             [
              0.8888888888888888,
              "#fdca26"
             ],
             [
              1,
              "#f0f921"
             ]
            ],
            "type": "surface"
           }
          ],
          "table": [
           {
            "cells": {
             "fill": {
              "color": "#EBF0F8"
             },
             "line": {
              "color": "white"
             }
            },
            "header": {
             "fill": {
              "color": "#C8D4E3"
             },
             "line": {
              "color": "white"
             }
            },
            "type": "table"
           }
          ]
         },
         "layout": {
          "annotationdefaults": {
           "arrowcolor": "#2a3f5f",
           "arrowhead": 0,
           "arrowwidth": 1
          },
          "autotypenumbers": "strict",
          "coloraxis": {
           "colorbar": {
            "outlinewidth": 0,
            "ticks": ""
           }
          },
          "colorscale": {
           "diverging": [
            [
             0,
             "#8e0152"
            ],
            [
             0.1,
             "#c51b7d"
            ],
            [
             0.2,
             "#de77ae"
            ],
            [
             0.3,
             "#f1b6da"
            ],
            [
             0.4,
             "#fde0ef"
            ],
            [
             0.5,
             "#f7f7f7"
            ],
            [
             0.6,
             "#e6f5d0"
            ],
            [
             0.7,
             "#b8e186"
            ],
            [
             0.8,
             "#7fbc41"
            ],
            [
             0.9,
             "#4d9221"
            ],
            [
             1,
             "#276419"
            ]
           ],
           "sequential": [
            [
             0,
             "#0d0887"
            ],
            [
             0.1111111111111111,
             "#46039f"
            ],
            [
             0.2222222222222222,
             "#7201a8"
            ],
            [
             0.3333333333333333,
             "#9c179e"
            ],
            [
             0.4444444444444444,
             "#bd3786"
            ],
            [
             0.5555555555555556,
             "#d8576b"
            ],
            [
             0.6666666666666666,
             "#ed7953"
            ],
            [
             0.7777777777777778,
             "#fb9f3a"
            ],
            [
             0.8888888888888888,
             "#fdca26"
            ],
            [
             1,
             "#f0f921"
            ]
           ],
           "sequentialminus": [
            [
             0,
             "#0d0887"
            ],
            [
             0.1111111111111111,
             "#46039f"
            ],
            [
             0.2222222222222222,
             "#7201a8"
            ],
            [
             0.3333333333333333,
             "#9c179e"
            ],
            [
             0.4444444444444444,
             "#bd3786"
            ],
            [
             0.5555555555555556,
             "#d8576b"
            ],
            [
             0.6666666666666666,
             "#ed7953"
            ],
            [
             0.7777777777777778,
             "#fb9f3a"
            ],
            [
             0.8888888888888888,
             "#fdca26"
            ],
            [
             1,
             "#f0f921"
            ]
           ]
          },
          "colorway": [
           "#636efa",
           "#EF553B",
           "#00cc96",
           "#ab63fa",
           "#FFA15A",
           "#19d3f3",
           "#FF6692",
           "#B6E880",
           "#FF97FF",
           "#FECB52"
          ],
          "font": {
           "color": "#2a3f5f"
          },
          "geo": {
           "bgcolor": "white",
           "lakecolor": "white",
           "landcolor": "#E5ECF6",
           "showlakes": true,
           "showland": true,
           "subunitcolor": "white"
          },
          "hoverlabel": {
           "align": "left"
          },
          "hovermode": "closest",
          "mapbox": {
           "style": "light"
          },
          "paper_bgcolor": "white",
          "plot_bgcolor": "#E5ECF6",
          "polar": {
           "angularaxis": {
            "gridcolor": "white",
            "linecolor": "white",
            "ticks": ""
           },
           "bgcolor": "#E5ECF6",
           "radialaxis": {
            "gridcolor": "white",
            "linecolor": "white",
            "ticks": ""
           }
          },
          "scene": {
           "xaxis": {
            "backgroundcolor": "#E5ECF6",
            "gridcolor": "white",
            "gridwidth": 2,
            "linecolor": "white",
            "showbackground": true,
            "ticks": "",
            "zerolinecolor": "white"
           },
           "yaxis": {
            "backgroundcolor": "#E5ECF6",
            "gridcolor": "white",
            "gridwidth": 2,
            "linecolor": "white",
            "showbackground": true,
            "ticks": "",
            "zerolinecolor": "white"
           },
           "zaxis": {
            "backgroundcolor": "#E5ECF6",
            "gridcolor": "white",
            "gridwidth": 2,
            "linecolor": "white",
            "showbackground": true,
            "ticks": "",
            "zerolinecolor": "white"
           }
          },
          "shapedefaults": {
           "line": {
            "color": "#2a3f5f"
           }
          },
          "ternary": {
           "aaxis": {
            "gridcolor": "white",
            "linecolor": "white",
            "ticks": ""
           },
           "baxis": {
            "gridcolor": "white",
            "linecolor": "white",
            "ticks": ""
           },
           "bgcolor": "#E5ECF6",
           "caxis": {
            "gridcolor": "white",
            "linecolor": "white",
            "ticks": ""
           }
          },
          "title": {
           "x": 0.05
          },
          "xaxis": {
           "automargin": true,
           "gridcolor": "white",
           "linecolor": "white",
           "ticks": "",
           "title": {
            "standoff": 15
           },
           "zerolinecolor": "white",
           "zerolinewidth": 2
          },
          "yaxis": {
           "automargin": true,
           "gridcolor": "white",
           "linecolor": "white",
           "ticks": "",
           "title": {
            "standoff": 15
           },
           "zerolinecolor": "white",
           "zerolinewidth": 2
          }
         }
        },
        "title": {
         "text": "Total Global Sales According to Platform and Genre"
        },
        "xaxis": {
         "title": {
          "text": "Platform"
         }
        },
        "yaxis": {
         "title": {
          "text": "Global Sales(In Millions)"
         }
        }
       }
      },
      "text/html": [
       "<div>                            <div id=\"648e6440-7e65-4376-974c-7f3d757e67b6\" class=\"plotly-graph-div\" style=\"height:525px; width:100%;\"></div>            <script type=\"text/javascript\">                require([\"plotly\"], function(Plotly) {                    window.PLOTLYENV=window.PLOTLYENV || {};                                    if (document.getElementById(\"648e6440-7e65-4376-974c-7f3d757e67b6\")) {                    Plotly.newPlot(                        \"648e6440-7e65-4376-974c-7f3d757e67b6\",                        [{\"marker\":{\"color\":\"rgb(119,172,238)\"},\"name\":\"Action\",\"opacity\":0.75,\"x\":[\"2600\",\"3DS\",\"DC\",\"DS\",\"GB\",\"GBA\",\"GC\",\"GEN\",\"N64\",\"NES\",\"PC\",\"PS\",\"PS2\",\"PS3\",\"PS4\",\"PSP\",\"PSV\",\"SAT\",\"SNES\",\"Wii\",\"WiiU\",\"X360\",\"XB\",\"XOne\"],\"y\":[29.339999999999986,58.33000000000003,1.26,112.69999999999993,7.92,55.76000000000001,37.839999999999996,2.7399999999999998,29.58,28.750000000000004,31.710000000000026,127.04999999999991,272.7599999999997,301.54999999999905,96.18000000000002,64.1100000000001,17.080000000000027,0.6499999999999999,10.079999999999998,114.50999999999995,19.049999999999994,239.69000000000003,49.28000000000006,37.35],\"type\":\"bar\"},{\"marker\":{\"color\":\"rgb(21,90,174)\"},\"name\":\"Sports\",\"opacity\":0.75,\"x\":[\"2600\",\"3DS\",\"DC\",\"DS\",\"GB\",\"GBA\",\"GC\",\"GEN\",\"N64\",\"NES\",\"NG\",\"PC\",\"PS\",\"PS2\",\"PS3\",\"PS4\",\"PSP\",\"PSV\",\"SAT\",\"SNES\",\"Wii\",\"WiiU\",\"X360\",\"XB\",\"XOne\"],\"y\":[3.4299999999999993,6.1899999999999995,3.6599999999999997,31.41000000000001,9.05,16.410000000000014,25.489999999999988,3.2,32.8,26.849999999999998,0.02,12.009999999999993,120.97,273.40999999999946,133.88000000000008,55.6,41.51000000000003,4.159999999999999,2.7899999999999996,17.87,288.60999999999973,3.1899999999999995,138.45000000000002,54.27000000000003,26.770000000000003],\"type\":\"bar\"},{\"marker\":{\"color\":\"rgb(156,245,163)\"},\"name\":\"Racing\",\"opacity\":0.75,\"x\":[\"2600\",\"3DS\",\"DC\",\"DS\",\"GB\",\"GBA\",\"GC\",\"GEN\",\"N64\",\"NES\",\"PC\",\"PS\",\"PS2\",\"PS3\",\"PS4\",\"PSP\",\"PSV\",\"SAT\",\"SCD\",\"SNES\",\"Wii\",\"WiiU\",\"X360\",\"XB\",\"XOne\"],\"y\":[2.9099999999999997,14.94,2.65,38.100000000000016,4.55,18.80000000000001,21.889999999999997,0.26,40.090000000000025,9.780000000000001,3.989999999999995,103.18999999999996,156.28000000000017,72.13000000000001,12.160000000000002,34.29000000000001,2.53,2.3999999999999995,0.07,13.489999999999997,60.25,7.869999999999999,65.00000000000003,31.489999999999988,9.789999999999996],\"type\":\"bar\"},{\"marker\":{\"color\":\"rgb(14,135,23)\"},\"name\":\"Shooter\",\"opacity\":0.75,\"x\":[\"2600\",\"3DS\",\"DC\",\"DS\",\"GB\",\"GBA\",\"GC\",\"GEN\",\"N64\",\"NES\",\"PC\",\"PS\",\"PS2\",\"PS3\",\"PS4\",\"PSP\",\"PSV\",\"SAT\",\"SNES\",\"TG16\",\"Wii\",\"WiiU\",\"X360\",\"XB\",\"XOne\"],\"y\":[26.480000000000004,1.2900000000000003,0.33,7.919999999999997,1.2,3.5999999999999983,13.629999999999999,0.13,19.27000000000001,35.620000000000005,45.92000000000002,39.31000000000002,108.56999999999998,192.45999999999992,88.55999999999995,19.66,3.8800000000000003,3.98,6.07,0.02,28.15,5.97,276.97999999999956,63.55000000000003,60.39000000000001],\"type\":\"bar\"},{\"marker\":{\"color\":\"rgb(252,118,103)\"},\"name\":\"Misc\",\"opacity\":0.75,\"x\":[\"2600\",\"3DS\",\"DS\",\"GB\",\"GBA\",\"GC\",\"GEN\",\"N64\",\"NES\",\"PC\",\"PS\",\"PS2\",\"PS3\",\"PS4\",\"PSP\",\"PSV\",\"SAT\",\"SCD\",\"SNES\",\"Wii\",\"WiiU\",\"X360\",\"XB\",\"XOne\"],\"y\":[3.58,10.979999999999997,135.7200000000003,13.350000000000001,36.24999999999999,16.729999999999997,0.03,11.190000000000001,3.59,8.569999999999993,44.9,101.14000000000001,46.880000000000045,8.209999999999997,13.90999999999999,4.429999999999997,1.2000000000000002,0.1,5.0200000000000005,216.37000000000006,12.469999999999995,91.53999999999994,9.58,7.4399999999999995],\"type\":\"bar\"},{\"marker\":{\"color\":\"rgb(226,28,5)\"},\"name\":\"Role Playing\",\"opacity\":0.75,\"x\":[\"3DS\",\"DC\",\"DS\",\"GB\",\"GBA\",\"GC\",\"GEN\",\"N64\",\"NES\",\"PC\",\"PCFX\",\"PS\",\"PS2\",\"PS3\",\"PS4\",\"PSP\",\"PSV\",\"SAT\",\"SCD\",\"SNES\",\"WS\",\"Wii\",\"WiiU\",\"X360\",\"XB\",\"XOne\"],\"y\":[84.28999999999996,0.68,124.44000000000015,88.24000000000001,64.20999999999995,13.15,0.27,3.36,18.78,47.72000000000006,0.03,78.29999999999993,93.49999999999996,73.67000000000002,28.949999999999992,48.980000000000096,12.4,3.7599999999999993,0.06,36.429999999999986,1.22,13.700000000000001,2.8899999999999997,71.30999999999997,13.509999999999994,10.55],\"type\":\"bar\"},{\"marker\":{\"color\":\"rgb(247,173,13)\"},\"name\":\"Fighting\",\"opacity\":0.75,\"x\":[\"2600\",\"3DS\",\"DC\",\"DS\",\"GBA\",\"GC\",\"GEN\",\"N64\",\"NES\",\"NG\",\"PC\",\"PS\",\"PS2\",\"PS3\",\"PS4\",\"PSP\",\"PSV\",\"SAT\",\"SNES\",\"Wii\",\"WiiU\",\"X360\",\"XB\",\"XOne\"],\"y\":[1.24,10.569999999999997,1.8300000000000005,7.1099999999999985,4.209999999999999,18.429999999999993,5.9,22.08,6.54,1.4200000000000004,0.29000000000000004,72.67999999999995,92.60000000000001,51.080000000000005,8.649999999999997,21.819999999999993,2.629999999999999,8.52,26.949999999999996,23.36,6.27,37.34000000000001,13.549999999999992,2.4099999999999997],\"type\":\"bar\"},{\"marker\":{\"color\":\"rgb(242,122,13)\"},\"name\":\"Platform\",\"opacity\":0.75,\"x\":[\"2600\",\"3DS\",\"DC\",\"DS\",\"GB\",\"GBA\",\"GC\",\"GEN\",\"GG\",\"N64\",\"NES\",\"PC\",\"PS\",\"PS2\",\"PS3\",\"PS4\",\"PSP\",\"PSV\",\"SAT\",\"SCD\",\"SNES\",\"Wii\",\"WiiU\",\"X360\",\"XB\",\"XOne\"],\"y\":[13.27,32.519999999999996,2.54,75.91999999999994,54.910000000000004,78.29999999999998,28.660000000000007,15.450000000000001,0.04,36.129999999999995,95.78000000000003,0.4900000000000001,64.21000000000001,72.50999999999992,29.71,7.699999999999998,17.090000000000003,2.559999999999999,0.76,1.5,65.65000000000002,88.92000000000002,21.540000000000006,11.319999999999997,9.659999999999997,0.9400000000000001],\"type\":\"bar\"},{\"marker\":{\"color\":\"rgb(188,145,202)\"},\"name\":\"Simulation\",\"opacity\":0.75,\"x\":[\"2600\",\"3DO\",\"3DS\",\"DC\",\"DS\",\"GB\",\"GBA\",\"GC\",\"N64\",\"PC\",\"PS\",\"PS2\",\"PS3\",\"PS4\",\"PSP\",\"PSV\",\"SAT\",\"SNES\",\"Wii\",\"WiiU\",\"X360\",\"XB\",\"XOne\"],\"y\":[0.45,0.02,27.43000000000001,0.52,130.29000000000013,3.55,5.91,8.590000000000002,10.19,52.610000000000056,25.33,42.66000000000002,10.389999999999993,1.2000000000000002,6.229999999999998,0.07999999999999999,1.1300000000000001,5.630000000000001,36.030000000000015,0.2,14.180000000000003,7.1099999999999985,0.6900000000000001],\"type\":\"bar\"},{\"marker\":{\"color\":\"rgb(104,57,119)\"},\"name\":\"Adventure\",\"opacity\":0.75,\"x\":[\"2600\",\"3DO\",\"3DS\",\"DC\",\"DS\",\"GB\",\"GBA\",\"GC\",\"GEN\",\"N64\",\"NES\",\"PC\",\"PS\",\"PS2\",\"PS3\",\"PS4\",\"PSP\",\"PSV\",\"SAT\",\"SNES\",\"TG16\",\"Wii\",\"WiiU\",\"X360\",\"XB\",\"XOne\"],\"y\":[1.7000000000000002,0.06,4.899999999999999,2.5000000000000004,45.900000000000034,17.16,14.679999999999998,5.930000000000001,0.19,0.45,4.38,10.039999999999981,20.970000000000006,21.160000000000057,22.279999999999998,6.389999999999997,10.67999999999994,3.839999999999992,4.16,1.5,0.14,17.829999999999995,0.16000000000000003,14.939999999999992,3.059999999999999,2.6899999999999995],\"type\":\"bar\"},{\"marker\":{\"color\":\"rgb(245,253,104)\"},\"name\":\"Strategy\",\"opacity\":0.75,\"x\":[\"3DS\",\"DS\",\"GB\",\"GBA\",\"GC\",\"GEN\",\"N64\",\"PC\",\"PS\",\"PS2\",\"PS3\",\"PS4\",\"PSP\",\"PSV\",\"SAT\",\"SCD\",\"SNES\",\"WS\",\"Wii\",\"WiiU\",\"X360\",\"XB\",\"XOne\"],\"y\":[2.0999999999999996,14.87,8.05,7.449999999999999,4.319999999999999,0.19,10.329999999999998,46.03000000000013,21.69000000000001,15.149999999999993,4.819999999999999,0.6000000000000001,10.49999999999999,0.35,3.2399999999999998,0.14,4.98,0.2,5.029999999999999,1.2300000000000002,10.030000000000001,2.7799999999999994,0.42],\"type\":\"bar\"},{\"marker\":{\"color\":\"rgb(138,72,40)\"},\"name\":\"Puzzle\",\"opacity\":0.75,\"x\":[\"2600\",\"3DO\",\"3DS\",\"DS\",\"GB\",\"GBA\",\"GC\",\"N64\",\"NES\",\"PC\",\"PS\",\"PS2\",\"PS3\",\"PS4\",\"PSP\",\"PSV\",\"SAT\",\"SNES\",\"Wii\",\"WiiU\",\"X360\",\"XB\"],\"y\":[14.68,0.02,5.549999999999999,82.72000000000008,47.469999999999985,12.920000000000005,4.699999999999998,3.4100000000000006,21.000000000000004,0.9200000000000004,12.079999999999998,5.8999999999999995,0.5800000000000001,0.03,5.5200000000000005,0.18,1.0,6.38,15.370000000000001,1.32,0.8500000000000001,0.42000000000000004],\"type\":\"bar\"}],                        {\"barmode\":\"stack\",\"paper_bgcolor\":\"white\",\"plot_bgcolor\":\"white\",\"template\":{\"data\":{\"barpolar\":[{\"marker\":{\"line\":{\"color\":\"#E5ECF6\",\"width\":0.5},\"pattern\":{\"fillmode\":\"overlay\",\"size\":10,\"solidity\":0.2}},\"type\":\"barpolar\"}],\"bar\":[{\"error_x\":{\"color\":\"#2a3f5f\"},\"error_y\":{\"color\":\"#2a3f5f\"},\"marker\":{\"line\":{\"color\":\"#E5ECF6\",\"width\":0.5},\"pattern\":{\"fillmode\":\"overlay\",\"size\":10,\"solidity\":0.2}},\"type\":\"bar\"}],\"carpet\":[{\"aaxis\":{\"endlinecolor\":\"#2a3f5f\",\"gridcolor\":\"white\",\"linecolor\":\"white\",\"minorgridcolor\":\"white\",\"startlinecolor\":\"#2a3f5f\"},\"baxis\":{\"endlinecolor\":\"#2a3f5f\",\"gridcolor\":\"white\",\"linecolor\":\"white\",\"minorgridcolor\":\"white\",\"startlinecolor\":\"#2a3f5f\"},\"type\":\"carpet\"}],\"choropleth\":[{\"colorbar\":{\"outlinewidth\":0,\"ticks\":\"\"},\"type\":\"choropleth\"}],\"contourcarpet\":[{\"colorbar\":{\"outlinewidth\":0,\"ticks\":\"\"},\"type\":\"contourcarpet\"}],\"contour\":[{\"colorbar\":{\"outlinewidth\":0,\"ticks\":\"\"},\"colorscale\":[[0.0,\"#0d0887\"],[0.1111111111111111,\"#46039f\"],[0.2222222222222222,\"#7201a8\"],[0.3333333333333333,\"#9c179e\"],[0.4444444444444444,\"#bd3786\"],[0.5555555555555556,\"#d8576b\"],[0.6666666666666666,\"#ed7953\"],[0.7777777777777778,\"#fb9f3a\"],[0.8888888888888888,\"#fdca26\"],[1.0,\"#f0f921\"]],\"type\":\"contour\"}],\"heatmapgl\":[{\"colorbar\":{\"outlinewidth\":0,\"ticks\":\"\"},\"colorscale\":[[0.0,\"#0d0887\"],[0.1111111111111111,\"#46039f\"],[0.2222222222222222,\"#7201a8\"],[0.3333333333333333,\"#9c179e\"],[0.4444444444444444,\"#bd3786\"],[0.5555555555555556,\"#d8576b\"],[0.6666666666666666,\"#ed7953\"],[0.7777777777777778,\"#fb9f3a\"],[0.8888888888888888,\"#fdca26\"],[1.0,\"#f0f921\"]],\"type\":\"heatmapgl\"}],\"heatmap\":[{\"colorbar\":{\"outlinewidth\":0,\"ticks\":\"\"},\"colorscale\":[[0.0,\"#0d0887\"],[0.1111111111111111,\"#46039f\"],[0.2222222222222222,\"#7201a8\"],[0.3333333333333333,\"#9c179e\"],[0.4444444444444444,\"#bd3786\"],[0.5555555555555556,\"#d8576b\"],[0.6666666666666666,\"#ed7953\"],[0.7777777777777778,\"#fb9f3a\"],[0.8888888888888888,\"#fdca26\"],[1.0,\"#f0f921\"]],\"type\":\"heatmap\"}],\"histogram2dcontour\":[{\"colorbar\":{\"outlinewidth\":0,\"ticks\":\"\"},\"colorscale\":[[0.0,\"#0d0887\"],[0.1111111111111111,\"#46039f\"],[0.2222222222222222,\"#7201a8\"],[0.3333333333333333,\"#9c179e\"],[0.4444444444444444,\"#bd3786\"],[0.5555555555555556,\"#d8576b\"],[0.6666666666666666,\"#ed7953\"],[0.7777777777777778,\"#fb9f3a\"],[0.8888888888888888,\"#fdca26\"],[1.0,\"#f0f921\"]],\"type\":\"histogram2dcontour\"}],\"histogram2d\":[{\"colorbar\":{\"outlinewidth\":0,\"ticks\":\"\"},\"colorscale\":[[0.0,\"#0d0887\"],[0.1111111111111111,\"#46039f\"],[0.2222222222222222,\"#7201a8\"],[0.3333333333333333,\"#9c179e\"],[0.4444444444444444,\"#bd3786\"],[0.5555555555555556,\"#d8576b\"],[0.6666666666666666,\"#ed7953\"],[0.7777777777777778,\"#fb9f3a\"],[0.8888888888888888,\"#fdca26\"],[1.0,\"#f0f921\"]],\"type\":\"histogram2d\"}],\"histogram\":[{\"marker\":{\"pattern\":{\"fillmode\":\"overlay\",\"size\":10,\"solidity\":0.2}},\"type\":\"histogram\"}],\"mesh3d\":[{\"colorbar\":{\"outlinewidth\":0,\"ticks\":\"\"},\"type\":\"mesh3d\"}],\"parcoords\":[{\"line\":{\"colorbar\":{\"outlinewidth\":0,\"ticks\":\"\"}},\"type\":\"parcoords\"}],\"pie\":[{\"automargin\":true,\"type\":\"pie\"}],\"scatter3d\":[{\"line\":{\"colorbar\":{\"outlinewidth\":0,\"ticks\":\"\"}},\"marker\":{\"colorbar\":{\"outlinewidth\":0,\"ticks\":\"\"}},\"type\":\"scatter3d\"}],\"scattercarpet\":[{\"marker\":{\"colorbar\":{\"outlinewidth\":0,\"ticks\":\"\"}},\"type\":\"scattercarpet\"}],\"scattergeo\":[{\"marker\":{\"colorbar\":{\"outlinewidth\":0,\"ticks\":\"\"}},\"type\":\"scattergeo\"}],\"scattergl\":[{\"marker\":{\"colorbar\":{\"outlinewidth\":0,\"ticks\":\"\"}},\"type\":\"scattergl\"}],\"scattermapbox\":[{\"marker\":{\"colorbar\":{\"outlinewidth\":0,\"ticks\":\"\"}},\"type\":\"scattermapbox\"}],\"scatterpolargl\":[{\"marker\":{\"colorbar\":{\"outlinewidth\":0,\"ticks\":\"\"}},\"type\":\"scatterpolargl\"}],\"scatterpolar\":[{\"marker\":{\"colorbar\":{\"outlinewidth\":0,\"ticks\":\"\"}},\"type\":\"scatterpolar\"}],\"scatter\":[{\"marker\":{\"colorbar\":{\"outlinewidth\":0,\"ticks\":\"\"}},\"type\":\"scatter\"}],\"scatterternary\":[{\"marker\":{\"colorbar\":{\"outlinewidth\":0,\"ticks\":\"\"}},\"type\":\"scatterternary\"}],\"surface\":[{\"colorbar\":{\"outlinewidth\":0,\"ticks\":\"\"},\"colorscale\":[[0.0,\"#0d0887\"],[0.1111111111111111,\"#46039f\"],[0.2222222222222222,\"#7201a8\"],[0.3333333333333333,\"#9c179e\"],[0.4444444444444444,\"#bd3786\"],[0.5555555555555556,\"#d8576b\"],[0.6666666666666666,\"#ed7953\"],[0.7777777777777778,\"#fb9f3a\"],[0.8888888888888888,\"#fdca26\"],[1.0,\"#f0f921\"]],\"type\":\"surface\"}],\"table\":[{\"cells\":{\"fill\":{\"color\":\"#EBF0F8\"},\"line\":{\"color\":\"white\"}},\"header\":{\"fill\":{\"color\":\"#C8D4E3\"},\"line\":{\"color\":\"white\"}},\"type\":\"table\"}]},\"layout\":{\"annotationdefaults\":{\"arrowcolor\":\"#2a3f5f\",\"arrowhead\":0,\"arrowwidth\":1},\"autotypenumbers\":\"strict\",\"coloraxis\":{\"colorbar\":{\"outlinewidth\":0,\"ticks\":\"\"}},\"colorscale\":{\"diverging\":[[0,\"#8e0152\"],[0.1,\"#c51b7d\"],[0.2,\"#de77ae\"],[0.3,\"#f1b6da\"],[0.4,\"#fde0ef\"],[0.5,\"#f7f7f7\"],[0.6,\"#e6f5d0\"],[0.7,\"#b8e186\"],[0.8,\"#7fbc41\"],[0.9,\"#4d9221\"],[1,\"#276419\"]],\"sequential\":[[0.0,\"#0d0887\"],[0.1111111111111111,\"#46039f\"],[0.2222222222222222,\"#7201a8\"],[0.3333333333333333,\"#9c179e\"],[0.4444444444444444,\"#bd3786\"],[0.5555555555555556,\"#d8576b\"],[0.6666666666666666,\"#ed7953\"],[0.7777777777777778,\"#fb9f3a\"],[0.8888888888888888,\"#fdca26\"],[1.0,\"#f0f921\"]],\"sequentialminus\":[[0.0,\"#0d0887\"],[0.1111111111111111,\"#46039f\"],[0.2222222222222222,\"#7201a8\"],[0.3333333333333333,\"#9c179e\"],[0.4444444444444444,\"#bd3786\"],[0.5555555555555556,\"#d8576b\"],[0.6666666666666666,\"#ed7953\"],[0.7777777777777778,\"#fb9f3a\"],[0.8888888888888888,\"#fdca26\"],[1.0,\"#f0f921\"]]},\"colorway\":[\"#636efa\",\"#EF553B\",\"#00cc96\",\"#ab63fa\",\"#FFA15A\",\"#19d3f3\",\"#FF6692\",\"#B6E880\",\"#FF97FF\",\"#FECB52\"],\"font\":{\"color\":\"#2a3f5f\"},\"geo\":{\"bgcolor\":\"white\",\"lakecolor\":\"white\",\"landcolor\":\"#E5ECF6\",\"showlakes\":true,\"showland\":true,\"subunitcolor\":\"white\"},\"hoverlabel\":{\"align\":\"left\"},\"hovermode\":\"closest\",\"mapbox\":{\"style\":\"light\"},\"paper_bgcolor\":\"white\",\"plot_bgcolor\":\"#E5ECF6\",\"polar\":{\"angularaxis\":{\"gridcolor\":\"white\",\"linecolor\":\"white\",\"ticks\":\"\"},\"bgcolor\":\"#E5ECF6\",\"radialaxis\":{\"gridcolor\":\"white\",\"linecolor\":\"white\",\"ticks\":\"\"}},\"scene\":{\"xaxis\":{\"backgroundcolor\":\"#E5ECF6\",\"gridcolor\":\"white\",\"gridwidth\":2,\"linecolor\":\"white\",\"showbackground\":true,\"ticks\":\"\",\"zerolinecolor\":\"white\"},\"yaxis\":{\"backgroundcolor\":\"#E5ECF6\",\"gridcolor\":\"white\",\"gridwidth\":2,\"linecolor\":\"white\",\"showbackground\":true,\"ticks\":\"\",\"zerolinecolor\":\"white\"},\"zaxis\":{\"backgroundcolor\":\"#E5ECF6\",\"gridcolor\":\"white\",\"gridwidth\":2,\"linecolor\":\"white\",\"showbackground\":true,\"ticks\":\"\",\"zerolinecolor\":\"white\"}},\"shapedefaults\":{\"line\":{\"color\":\"#2a3f5f\"}},\"ternary\":{\"aaxis\":{\"gridcolor\":\"white\",\"linecolor\":\"white\",\"ticks\":\"\"},\"baxis\":{\"gridcolor\":\"white\",\"linecolor\":\"white\",\"ticks\":\"\"},\"bgcolor\":\"#E5ECF6\",\"caxis\":{\"gridcolor\":\"white\",\"linecolor\":\"white\",\"ticks\":\"\"}},\"title\":{\"x\":0.05},\"xaxis\":{\"automargin\":true,\"gridcolor\":\"white\",\"linecolor\":\"white\",\"ticks\":\"\",\"title\":{\"standoff\":15},\"zerolinecolor\":\"white\",\"zerolinewidth\":2},\"yaxis\":{\"automargin\":true,\"gridcolor\":\"white\",\"linecolor\":\"white\",\"ticks\":\"\",\"title\":{\"standoff\":15},\"zerolinecolor\":\"white\",\"zerolinewidth\":2}}},\"title\":{\"text\":\"Total Global Sales According to Platform and Genre\"},\"xaxis\":{\"title\":{\"text\":\"Platform\"}},\"yaxis\":{\"title\":{\"text\":\"Global Sales(In Millions)\"}}},                        {\"responsive\": true}                    ).then(function(){\n",
       "                            \n",
       "var gd = document.getElementById('648e6440-7e65-4376-974c-7f3d757e67b6');\n",
       "var x = new MutationObserver(function (mutations, observer) {{\n",
       "        var display = window.getComputedStyle(gd).display;\n",
       "        if (!display || display === 'none') {{\n",
       "            console.log([gd, 'removed!']);\n",
       "            Plotly.purge(gd);\n",
       "            observer.disconnect();\n",
       "        }}\n",
       "}});\n",
       "\n",
       "// Listen for the removal of the full notebook cells\n",
       "var notebookContainer = gd.closest('#notebook-container');\n",
       "if (notebookContainer) {{\n",
       "    x.observe(notebookContainer, {childList: true});\n",
       "}}\n",
       "\n",
       "// Listen for the clearing of the current output cell\n",
       "var outputEl = gd.closest('.output');\n",
       "if (outputEl) {{\n",
       "    x.observe(outputEl, {childList: true});\n",
       "}}\n",
       "\n",
       "                        })                };                });            </script>        </div>"
      ]
     },
     "metadata": {},
     "output_type": "display_data"
    }
   ],
   "source": [
    "#Settting up the bars for the visualization and making graph look pretty  \n",
    "bar1 = go.Bar(\n",
    "    x=action.groupby(\"Platform\")[\"Global_Sales\"].sum().index,\n",
    "    y=action.groupby(\"Platform\")[\"Global_Sales\"].sum().values,\n",
    "    opacity=0.75,\n",
    "    name = \"Action\",\n",
    "    marker=dict(color=\"rgb(119,172,238)\"))\n",
    "bar2 = go.Bar(\n",
    "    x=sports.groupby(\"Platform\")[\"Global_Sales\"].sum().index,\n",
    "    y=sports.groupby(\"Platform\")[\"Global_Sales\"].sum().values,\n",
    "    opacity=0.75,\n",
    "    name = \"Sports\",\n",
    "    marker=dict(color='rgb(21,90,174)'))\n",
    "bar3 = go.Bar(\n",
    "    x=race.groupby(\"Platform\")[\"Global_Sales\"].sum().index,\n",
    "    y=race.groupby(\"Platform\")[\"Global_Sales\"].sum().values,\n",
    "    opacity=0.75,\n",
    "    name = \"Racing\",\n",
    "    marker=dict(color=\"rgb(156,245,163)\"))\n",
    "bar4 = go.Bar(\n",
    "    x=shooter.groupby(\"Platform\")[\"Global_Sales\"].sum().index,\n",
    "    y=shooter.groupby(\"Platform\")[\"Global_Sales\"].sum().values,\n",
    "    opacity=0.75,\n",
    "    name = \"Shooter\",\n",
    "    marker=dict(color=\"rgb(14,135,23)\"))\n",
    "bar5 = go.Bar(\n",
    "    x=misc.groupby(\"Platform\")[\"Global_Sales\"].sum().index,\n",
    "    y=misc.groupby(\"Platform\")[\"Global_Sales\"].sum().values,\n",
    "    opacity=0.75,\n",
    "    name = \"Misc\",\n",
    "    marker=dict(color='rgb(252,118,103)'))\n",
    "bar6 = go.Bar(\n",
    "    x=role.groupby(\"Platform\")[\"Global_Sales\"].sum().index,\n",
    "    y=role.groupby(\"Platform\")[\"Global_Sales\"].sum().values,\n",
    "    opacity=0.75,\n",
    "    name = \"Role Playing\",\n",
    "    marker=dict(color=\"rgb(226,28,5)\"))\n",
    "bar7 = go.Bar(\n",
    "    x=fight.groupby(\"Platform\")[\"Global_Sales\"].sum().index,\n",
    "    y=fight.groupby(\"Platform\")[\"Global_Sales\"].sum().values,\n",
    "    opacity=0.75,\n",
    "    name = \"Fighting\",\n",
    "    marker=dict(color=\"rgb(247,173,13)\"))\n",
    "bar8 = go.Bar(\n",
    "    x=platform.groupby(\"Platform\")[\"Global_Sales\"].sum().index,\n",
    "    y=platform.groupby(\"Platform\")[\"Global_Sales\"].sum().values,\n",
    "    opacity=0.75,\n",
    "    name = \"Platform\",\n",
    "    marker=dict(color=\"rgb(242,122,13)\"))\n",
    "bar9 = go.Bar(\n",
    "    x=simulation.groupby(\"Platform\")[\"Global_Sales\"].sum().index,\n",
    "    y=simulation.groupby(\"Platform\")[\"Global_Sales\"].sum().values,\n",
    "    opacity=0.75,\n",
    "    name = \"Simulation\",\n",
    "    marker=dict(color=\"rgb(188,145,202)\"))\n",
    "bar10 = go.Bar(\n",
    "    x=adventure.groupby(\"Platform\")[\"Global_Sales\"].sum().index,\n",
    "    y=adventure.groupby(\"Platform\")[\"Global_Sales\"].sum().values,\n",
    "    opacity=0.75,\n",
    "    name = \"Adventure\",\n",
    "    marker=dict(color='rgb(104,57,119)'))\n",
    "bar11 = go.Bar(\n",
    "    x=strategy.groupby(\"Platform\")[\"Global_Sales\"].sum().index,\n",
    "    y=strategy.groupby(\"Platform\")[\"Global_Sales\"].sum().values,\n",
    "    opacity=0.75,\n",
    "    name = \"Strategy\",\n",
    "    marker=dict(color='rgb(245,253,104)'))\n",
    "bar12 = go.Bar(\n",
    "    x=puzzle.groupby(\"Platform\")[\"Global_Sales\"].sum().index,\n",
    "    y=puzzle.groupby(\"Platform\")[\"Global_Sales\"].sum().values,\n",
    "    opacity=0.75,\n",
    "    name = \"Puzzle\",\n",
    "    marker=dict(color='rgb(138,72,40)'))\n",
    "\n",
    "data = [bar1, bar2,bar3,bar4,bar5,bar6,bar7,bar8,bar9,bar10,bar11,bar12]\n",
    "layout = go.Layout(barmode='stack',\n",
    "                   title='Total Global Sales According to Platform and Genre',\n",
    "                   xaxis=dict(title='Platform'),\n",
    "                   yaxis=dict( title='Global Sales(In Millions)'),\n",
    "                   paper_bgcolor='white',\n",
    "                   plot_bgcolor='white'\n",
    ")\n",
    "fig = go.Figure(data=data, layout=layout)\n",
    "iplot(fig)"
   ]
  },
  {
   "cell_type": "code",
   "execution_count": 5,
   "metadata": {},
   "outputs": [],
   "source": [
    "#Grouping Genre based on the total sales of erach region and adding a counts column to original variable assignment\n",
    "genre=pd.DataFrame(total_sales.groupby(\"Genre\")[[\"NA_Sales\",\"EU_Sales\",\"JP_Sales\",\"Other_Sales\",\"Global_Sales\"]].sum())\n",
    "genre.reset_index(level=0, inplace=True)\n",
    "genrecount=pd.DataFrame(total_sales[\"Genre\"].value_counts())\n",
    "genrecount.reset_index(level=0, inplace=True)\n",
    "genrecount.rename(columns={\"Genre\": \"Counts\",\"index\":\"Genre\"}, inplace=True)\n",
    "\n",
    "genre=pd.merge(genre,genrecount,on=\"Genre\")"
   ]
  },
  {
   "cell_type": "code",
   "execution_count": 6,
   "metadata": {},
   "outputs": [
    {
     "data": {
      "text/html": [
       "<div>\n",
       "<style scoped>\n",
       "    .dataframe tbody tr th:only-of-type {\n",
       "        vertical-align: middle;\n",
       "    }\n",
       "\n",
       "    .dataframe tbody tr th {\n",
       "        vertical-align: top;\n",
       "    }\n",
       "\n",
       "    .dataframe thead th {\n",
       "        text-align: right;\n",
       "    }\n",
       "</style>\n",
       "<table border=\"1\" class=\"dataframe\">\n",
       "  <thead>\n",
       "    <tr style=\"text-align: right;\">\n",
       "      <th></th>\n",
       "      <th>Genre</th>\n",
       "      <th>NA_Sales</th>\n",
       "      <th>EU_Sales</th>\n",
       "      <th>JP_Sales</th>\n",
       "      <th>Other_Sales</th>\n",
       "      <th>Global_Sales</th>\n",
       "      <th>Counts</th>\n",
       "    </tr>\n",
       "  </thead>\n",
       "  <tbody>\n",
       "    <tr>\n",
       "      <th>0</th>\n",
       "      <td>Action</td>\n",
       "      <td>879.01</td>\n",
       "      <td>519.13</td>\n",
       "      <td>161.44</td>\n",
       "      <td>184.60</td>\n",
       "      <td>1745.27</td>\n",
       "      <td>3370</td>\n",
       "    </tr>\n",
       "    <tr>\n",
       "      <th>1</th>\n",
       "      <td>Adventure</td>\n",
       "      <td>105.26</td>\n",
       "      <td>63.54</td>\n",
       "      <td>52.30</td>\n",
       "      <td>16.49</td>\n",
       "      <td>237.69</td>\n",
       "      <td>1303</td>\n",
       "    </tr>\n",
       "    <tr>\n",
       "      <th>2</th>\n",
       "      <td>Fighting</td>\n",
       "      <td>223.36</td>\n",
       "      <td>100.33</td>\n",
       "      <td>87.48</td>\n",
       "      <td>36.36</td>\n",
       "      <td>447.48</td>\n",
       "      <td>849</td>\n",
       "    </tr>\n",
       "    <tr>\n",
       "      <th>3</th>\n",
       "      <td>Misc</td>\n",
       "      <td>407.27</td>\n",
       "      <td>212.74</td>\n",
       "      <td>108.11</td>\n",
       "      <td>74.39</td>\n",
       "      <td>803.18</td>\n",
       "      <td>1750</td>\n",
       "    </tr>\n",
       "    <tr>\n",
       "      <th>4</th>\n",
       "      <td>Platform</td>\n",
       "      <td>445.50</td>\n",
       "      <td>200.35</td>\n",
       "      <td>130.83</td>\n",
       "      <td>51.09</td>\n",
       "      <td>828.08</td>\n",
       "      <td>888</td>\n",
       "    </tr>\n",
       "    <tr>\n",
       "      <th>5</th>\n",
       "      <td>Puzzle</td>\n",
       "      <td>122.87</td>\n",
       "      <td>50.01</td>\n",
       "      <td>57.31</td>\n",
       "      <td>12.38</td>\n",
       "      <td>243.02</td>\n",
       "      <td>580</td>\n",
       "    </tr>\n",
       "    <tr>\n",
       "      <th>6</th>\n",
       "      <td>Racing</td>\n",
       "      <td>359.35</td>\n",
       "      <td>236.51</td>\n",
       "      <td>56.71</td>\n",
       "      <td>76.10</td>\n",
       "      <td>728.90</td>\n",
       "      <td>1249</td>\n",
       "    </tr>\n",
       "    <tr>\n",
       "      <th>7</th>\n",
       "      <td>Role-Playing</td>\n",
       "      <td>330.81</td>\n",
       "      <td>188.71</td>\n",
       "      <td>355.46</td>\n",
       "      <td>59.63</td>\n",
       "      <td>934.40</td>\n",
       "      <td>1500</td>\n",
       "    </tr>\n",
       "    <tr>\n",
       "      <th>8</th>\n",
       "      <td>Shooter</td>\n",
       "      <td>592.24</td>\n",
       "      <td>317.34</td>\n",
       "      <td>38.76</td>\n",
       "      <td>104.11</td>\n",
       "      <td>1052.94</td>\n",
       "      <td>1323</td>\n",
       "    </tr>\n",
       "    <tr>\n",
       "      <th>9</th>\n",
       "      <td>Simulation</td>\n",
       "      <td>182.19</td>\n",
       "      <td>113.52</td>\n",
       "      <td>63.80</td>\n",
       "      <td>30.75</td>\n",
       "      <td>390.42</td>\n",
       "      <td>874</td>\n",
       "    </tr>\n",
       "    <tr>\n",
       "      <th>10</th>\n",
       "      <td>Sports</td>\n",
       "      <td>684.43</td>\n",
       "      <td>376.79</td>\n",
       "      <td>135.54</td>\n",
       "      <td>134.51</td>\n",
       "      <td>1332.00</td>\n",
       "      <td>2348</td>\n",
       "    </tr>\n",
       "    <tr>\n",
       "      <th>11</th>\n",
       "      <td>Strategy</td>\n",
       "      <td>68.55</td>\n",
       "      <td>45.17</td>\n",
       "      <td>49.66</td>\n",
       "      <td>10.85</td>\n",
       "      <td>174.50</td>\n",
       "      <td>683</td>\n",
       "    </tr>\n",
       "  </tbody>\n",
       "</table>\n",
       "</div>"
      ],
      "text/plain": [
       "           Genre  NA_Sales  EU_Sales  JP_Sales  Other_Sales  Global_Sales  \\\n",
       "0         Action    879.01    519.13    161.44       184.60       1745.27   \n",
       "1      Adventure    105.26     63.54     52.30        16.49        237.69   \n",
       "2       Fighting    223.36    100.33     87.48        36.36        447.48   \n",
       "3           Misc    407.27    212.74    108.11        74.39        803.18   \n",
       "4       Platform    445.50    200.35    130.83        51.09        828.08   \n",
       "5         Puzzle    122.87     50.01     57.31        12.38        243.02   \n",
       "6         Racing    359.35    236.51     56.71        76.10        728.90   \n",
       "7   Role-Playing    330.81    188.71    355.46        59.63        934.40   \n",
       "8        Shooter    592.24    317.34     38.76       104.11       1052.94   \n",
       "9     Simulation    182.19    113.52     63.80        30.75        390.42   \n",
       "10        Sports    684.43    376.79    135.54       134.51       1332.00   \n",
       "11      Strategy     68.55     45.17     49.66        10.85        174.50   \n",
       "\n",
       "    Counts  \n",
       "0     3370  \n",
       "1     1303  \n",
       "2      849  \n",
       "3     1750  \n",
       "4      888  \n",
       "5      580  \n",
       "6     1249  \n",
       "7     1500  \n",
       "8     1323  \n",
       "9      874  \n",
       "10    2348  \n",
       "11     683  "
      ]
     },
     "execution_count": 6,
     "metadata": {},
     "output_type": "execute_result"
    }
   ],
   "source": [
    "#displaying Genre and Total Sales by Region \n",
    "genre"
   ]
  },
  {
   "cell_type": "code",
   "execution_count": 7,
   "metadata": {},
   "outputs": [],
   "source": [
    "# Setting up the data tables that will be used for second visualization #\n",
    "column_table=genre[[\"Genre\",\"NA_Sales\",\"EU_Sales\",\"JP_Sales\",\"Other_Sales\",\"Global_Sales\"]]\n",
    "column_table = column_table.rename(columns = {\"NA_Sales\": \"North America\", \n",
    "                                  \"EU_Sales\":\"Europe\", \n",
    "                                  \"JP_Sales\": \"Japan\",\"Other_Sales\":\"Other\",\"Global_Sales\":\"Total\"})"
   ]
  },
  {
   "cell_type": "code",
   "execution_count": 8,
   "metadata": {},
   "outputs": [
    {
     "data": {
      "application/vnd.plotly.v1+json": {
       "config": {
        "linkText": "Export to plot.ly",
        "plotlyServerURL": "https://plot.ly",
        "showLink": false
       },
       "data": [
        {
         "marker": {
          "color": "rgb(158,202,225)",
          "line": {
           "color": "rgb(8,48,107)",
           "width": 3
          }
         },
         "name": "North America",
         "opacity": 0.75,
         "type": "bar",
         "x": [
          "Action",
          "Adventure",
          "Fighting",
          "Misc",
          "Platform",
          "Puzzle",
          "Racing",
          "Role-Playing",
          "Shooter",
          "Simulation",
          "Sports",
          "Strategy"
         ],
         "xaxis": "x2",
         "y": [
          50.36527299500969,
          44.2845723421261,
          49.91508000357572,
          50.70718892402726,
          53.79914984059524,
          50.559624722245,
          49.30031554397038,
          35.40346746575356,
          56.24631982829109,
          46.66512986015105,
          51.383633633633984,
          39.283667621776445
         ],
         "yaxis": "y2"
        },
        {
         "marker": {
          "color": "red",
          "line": {
           "color": "rgb(8,48,107)",
           "width": 3
          }
         },
         "name": "Europe",
         "opacity": 0.75,
         "type": "bar",
         "x": [
          "Action",
          "Adventure",
          "Fighting",
          "Misc",
          "Platform",
          "Puzzle",
          "Racing",
          "Role-Playing",
          "Shooter",
          "Simulation",
          "Sports",
          "Strategy"
         ],
         "xaxis": "x2",
         "y": [
          29.744967827327308,
          26.732298371828744,
          22.421113792795293,
          26.487213327025337,
          24.194522268380002,
          20.57855320549742,
          32.447523665798066,
          20.1958476027399,
          30.138469428457793,
          29.076379283848397,
          28.28753753753743,
          25.885386819484197
         ],
         "yaxis": "y2"
        },
        {
         "marker": {
          "color": "orange",
          "line": {
           "color": "rgb(8,48,107)",
           "width": 3
          }
         },
         "name": "Japan",
         "opacity": 0.75,
         "type": "bar",
         "x": [
          "Action",
          "Adventure",
          "Fighting",
          "Misc",
          "Platform",
          "Puzzle",
          "Racing",
          "Role-Playing",
          "Shooter",
          "Simulation",
          "Sports",
          "Strategy"
         ],
         "xaxis": "x2",
         "y": [
          9.250144676755095,
          22.003449871681614,
          19.549477071601036,
          13.460245524042024,
          15.799198145106832,
          23.58242119990117,
          7.780216764988397,
          38.04152397260275,
          3.681121431420683,
          16.341375954100833,
          10.175675675675814,
          28.458452722062972
         ],
         "yaxis": "y2"
        },
        {
         "marker": {
          "color": "purple",
          "line": {
           "color": "rgb(8,48,107)",
           "width": 3
          }
         },
         "name": "Other",
         "opacity": 0.75,
         "type": "bar",
         "x": [
          "Action",
          "Adventure",
          "Fighting",
          "Misc",
          "Platform",
          "Puzzle",
          "Racing",
          "Role-Playing",
          "Shooter",
          "Simulation",
          "Sports",
          "Strategy"
         ],
         "xaxis": "x2",
         "y": [
          10.577159980977177,
          6.93760780849,
          8.125502815768307,
          9.261933813093194,
          6.169693749396194,
          5.09423092749564,
          10.44038962820711,
          6.381635273972637,
          9.887552946986848,
          7.876133394805722,
          10.09834834834828,
          6.2177650429798845
         ],
         "yaxis": "y2"
        },
        {
         "cells": {
          "align": [
           "left",
           "center"
          ],
          "fill": {
           "color": [
            "silver",
            "rgb(158,202,225)",
            "darksalmon",
            "gold",
            "mediumorchid",
            "yellowgreen"
           ]
          },
          "font": {
           "color": "#506784",
           "size": 12
          },
          "height": 30,
          "line": {
           "color": "rgb(8,48,107)",
           "width": 3
          },
          "values": [
           [
            "Action",
            "Adventure",
            "Fighting",
            "Misc",
            "Platform",
            "Puzzle",
            "Racing",
            "Role-Playing",
            "Shooter",
            "Simulation",
            "Sports",
            "Strategy"
           ],
           [
            879,
            105,
            223,
            407,
            445,
            123,
            359,
            331,
            592,
            182,
            684,
            69
           ],
           [
            519,
            64,
            100,
            213,
            200,
            50,
            237,
            189,
            317,
            114,
            377,
            45
           ],
           [
            161,
            52,
            87,
            108,
            131,
            57,
            57,
            355,
            39,
            64,
            136,
            50
           ],
           [
            185,
            16,
            36,
            74,
            51,
            12,
            76,
            60,
            104,
            31,
            135,
            11
           ],
           [
            1745,
            238,
            447,
            803,
            828,
            243,
            729,
            934,
            1053,
            390,
            1332,
            175
           ]
          ]
         },
         "domain": {
          "x": [
           0.6,
           1
          ],
          "y": [
           0,
           0.95
          ]
         },
         "header": {
          "align": [
           "left",
           "center"
          ],
          "fill": {
           "color": [
            "darkslateblue",
            "blue",
            "red",
            "orange",
            "purple",
            "green"
           ]
          },
          "font": {
           "color": "white",
           "size": 12
          },
          "height": 30,
          "line": {
           "color": "rgb(8,48,107)",
           "width": 3
          },
          "values": [
           "Genre",
           "North America",
           "Europe",
           "Japan",
           "Other",
           "Total"
          ]
         },
         "type": "table"
        }
       ],
       "layout": {
        "annotations": [
         {
          "bgcolor": "lightyellow",
          "borderwidth": 5,
          "font": {
           "family": "Courier New, monospace",
           "size": 15
          },
          "showarrow": false,
          "text": "Sales Percentage According to Region",
          "x": 0.08,
          "xref": "paper",
          "y": 1.02,
          "yref": "paper"
         },
         {
          "bgcolor": "lightyellow",
          "borderwidth": 5,
          "font": {
           "family": "Courier New, monospace",
           "size": 15
          },
          "showarrow": false,
          "text": "Total Sales(In Millions)",
          "x": 0.9,
          "xref": "paper",
          "y": 1.02,
          "yref": "paper"
         }
        ],
        "autosize": false,
        "barmode": "stack",
        "height": 650,
        "legend": {
         "bgcolor": "white",
         "bordercolor": "white",
         "borderwidth": 1,
         "font": {
          "color": "#000",
          "family": "Courier New, monospace",
          "size": 11
         },
         "orientation": "h",
         "x": 0.58,
         "y": 0
        },
        "paper_bgcolor": "white",
        "plot_bgcolor": "white",
        "template": {
         "data": {
          "bar": [
           {
            "error_x": {
             "color": "#2a3f5f"
            },
            "error_y": {
             "color": "#2a3f5f"
            },
            "marker": {
             "line": {
              "color": "#E5ECF6",
              "width": 0.5
             },
             "pattern": {
              "fillmode": "overlay",
              "size": 10,
              "solidity": 0.2
             }
            },
            "type": "bar"
           }
          ],
          "barpolar": [
           {
            "marker": {
             "line": {
              "color": "#E5ECF6",
              "width": 0.5
             },
             "pattern": {
              "fillmode": "overlay",
              "size": 10,
              "solidity": 0.2
             }
            },
            "type": "barpolar"
           }
          ],
          "carpet": [
           {
            "aaxis": {
             "endlinecolor": "#2a3f5f",
             "gridcolor": "white",
             "linecolor": "white",
             "minorgridcolor": "white",
             "startlinecolor": "#2a3f5f"
            },
            "baxis": {
             "endlinecolor": "#2a3f5f",
             "gridcolor": "white",
             "linecolor": "white",
             "minorgridcolor": "white",
             "startlinecolor": "#2a3f5f"
            },
            "type": "carpet"
           }
          ],
          "choropleth": [
           {
            "colorbar": {
             "outlinewidth": 0,
             "ticks": ""
            },
            "type": "choropleth"
           }
          ],
          "contour": [
           {
            "colorbar": {
             "outlinewidth": 0,
             "ticks": ""
            },
            "colorscale": [
             [
              0,
              "#0d0887"
             ],
             [
              0.1111111111111111,
              "#46039f"
             ],
             [
              0.2222222222222222,
              "#7201a8"
             ],
             [
              0.3333333333333333,
              "#9c179e"
             ],
             [
              0.4444444444444444,
              "#bd3786"
             ],
             [
              0.5555555555555556,
              "#d8576b"
             ],
             [
              0.6666666666666666,
              "#ed7953"
             ],
             [
              0.7777777777777778,
              "#fb9f3a"
             ],
             [
              0.8888888888888888,
              "#fdca26"
             ],
             [
              1,
              "#f0f921"
             ]
            ],
            "type": "contour"
           }
          ],
          "contourcarpet": [
           {
            "colorbar": {
             "outlinewidth": 0,
             "ticks": ""
            },
            "type": "contourcarpet"
           }
          ],
          "heatmap": [
           {
            "colorbar": {
             "outlinewidth": 0,
             "ticks": ""
            },
            "colorscale": [
             [
              0,
              "#0d0887"
             ],
             [
              0.1111111111111111,
              "#46039f"
             ],
             [
              0.2222222222222222,
              "#7201a8"
             ],
             [
              0.3333333333333333,
              "#9c179e"
             ],
             [
              0.4444444444444444,
              "#bd3786"
             ],
             [
              0.5555555555555556,
              "#d8576b"
             ],
             [
              0.6666666666666666,
              "#ed7953"
             ],
             [
              0.7777777777777778,
              "#fb9f3a"
             ],
             [
              0.8888888888888888,
              "#fdca26"
             ],
             [
              1,
              "#f0f921"
             ]
            ],
            "type": "heatmap"
           }
          ],
          "heatmapgl": [
           {
            "colorbar": {
             "outlinewidth": 0,
             "ticks": ""
            },
            "colorscale": [
             [
              0,
              "#0d0887"
             ],
             [
              0.1111111111111111,
              "#46039f"
             ],
             [
              0.2222222222222222,
              "#7201a8"
             ],
             [
              0.3333333333333333,
              "#9c179e"
             ],
             [
              0.4444444444444444,
              "#bd3786"
             ],
             [
              0.5555555555555556,
              "#d8576b"
             ],
             [
              0.6666666666666666,
              "#ed7953"
             ],
             [
              0.7777777777777778,
              "#fb9f3a"
             ],
             [
              0.8888888888888888,
              "#fdca26"
             ],
             [
              1,
              "#f0f921"
             ]
            ],
            "type": "heatmapgl"
           }
          ],
          "histogram": [
           {
            "marker": {
             "pattern": {
              "fillmode": "overlay",
              "size": 10,
              "solidity": 0.2
             }
            },
            "type": "histogram"
           }
          ],
          "histogram2d": [
           {
            "colorbar": {
             "outlinewidth": 0,
             "ticks": ""
            },
            "colorscale": [
             [
              0,
              "#0d0887"
             ],
             [
              0.1111111111111111,
              "#46039f"
             ],
             [
              0.2222222222222222,
              "#7201a8"
             ],
             [
              0.3333333333333333,
              "#9c179e"
             ],
             [
              0.4444444444444444,
              "#bd3786"
             ],
             [
              0.5555555555555556,
              "#d8576b"
             ],
             [
              0.6666666666666666,
              "#ed7953"
             ],
             [
              0.7777777777777778,
              "#fb9f3a"
             ],
             [
              0.8888888888888888,
              "#fdca26"
             ],
             [
              1,
              "#f0f921"
             ]
            ],
            "type": "histogram2d"
           }
          ],
          "histogram2dcontour": [
           {
            "colorbar": {
             "outlinewidth": 0,
             "ticks": ""
            },
            "colorscale": [
             [
              0,
              "#0d0887"
             ],
             [
              0.1111111111111111,
              "#46039f"
             ],
             [
              0.2222222222222222,
              "#7201a8"
             ],
             [
              0.3333333333333333,
              "#9c179e"
             ],
             [
              0.4444444444444444,
              "#bd3786"
             ],
             [
              0.5555555555555556,
              "#d8576b"
             ],
             [
              0.6666666666666666,
              "#ed7953"
             ],
             [
              0.7777777777777778,
              "#fb9f3a"
             ],
             [
              0.8888888888888888,
              "#fdca26"
             ],
             [
              1,
              "#f0f921"
             ]
            ],
            "type": "histogram2dcontour"
           }
          ],
          "mesh3d": [
           {
            "colorbar": {
             "outlinewidth": 0,
             "ticks": ""
            },
            "type": "mesh3d"
           }
          ],
          "parcoords": [
           {
            "line": {
             "colorbar": {
              "outlinewidth": 0,
              "ticks": ""
             }
            },
            "type": "parcoords"
           }
          ],
          "pie": [
           {
            "automargin": true,
            "type": "pie"
           }
          ],
          "scatter": [
           {
            "marker": {
             "colorbar": {
              "outlinewidth": 0,
              "ticks": ""
             }
            },
            "type": "scatter"
           }
          ],
          "scatter3d": [
           {
            "line": {
             "colorbar": {
              "outlinewidth": 0,
              "ticks": ""
             }
            },
            "marker": {
             "colorbar": {
              "outlinewidth": 0,
              "ticks": ""
             }
            },
            "type": "scatter3d"
           }
          ],
          "scattercarpet": [
           {
            "marker": {
             "colorbar": {
              "outlinewidth": 0,
              "ticks": ""
             }
            },
            "type": "scattercarpet"
           }
          ],
          "scattergeo": [
           {
            "marker": {
             "colorbar": {
              "outlinewidth": 0,
              "ticks": ""
             }
            },
            "type": "scattergeo"
           }
          ],
          "scattergl": [
           {
            "marker": {
             "colorbar": {
              "outlinewidth": 0,
              "ticks": ""
             }
            },
            "type": "scattergl"
           }
          ],
          "scattermapbox": [
           {
            "marker": {
             "colorbar": {
              "outlinewidth": 0,
              "ticks": ""
             }
            },
            "type": "scattermapbox"
           }
          ],
          "scatterpolar": [
           {
            "marker": {
             "colorbar": {
              "outlinewidth": 0,
              "ticks": ""
             }
            },
            "type": "scatterpolar"
           }
          ],
          "scatterpolargl": [
           {
            "marker": {
             "colorbar": {
              "outlinewidth": 0,
              "ticks": ""
             }
            },
            "type": "scatterpolargl"
           }
          ],
          "scatterternary": [
           {
            "marker": {
             "colorbar": {
              "outlinewidth": 0,
              "ticks": ""
             }
            },
            "type": "scatterternary"
           }
          ],
          "surface": [
           {
            "colorbar": {
             "outlinewidth": 0,
             "ticks": ""
            },
            "colorscale": [
             [
              0,
              "#0d0887"
             ],
             [
              0.1111111111111111,
              "#46039f"
             ],
             [
              0.2222222222222222,
              "#7201a8"
             ],
             [
              0.3333333333333333,
              "#9c179e"
             ],
             [
              0.4444444444444444,
              "#bd3786"
             ],
             [
              0.5555555555555556,
              "#d8576b"
             ],
             [
              0.6666666666666666,
              "#ed7953"
             ],
             [
              0.7777777777777778,
              "#fb9f3a"
             ],
             [
              0.8888888888888888,
              "#fdca26"
             ],
             [
              1,
              "#f0f921"
             ]
            ],
            "type": "surface"
           }
          ],
          "table": [
           {
            "cells": {
             "fill": {
              "color": "#EBF0F8"
             },
             "line": {
              "color": "white"
             }
            },
            "header": {
             "fill": {
              "color": "#C8D4E3"
             },
             "line": {
              "color": "white"
             }
            },
            "type": "table"
           }
          ]
         },
         "layout": {
          "annotationdefaults": {
           "arrowcolor": "#2a3f5f",
           "arrowhead": 0,
           "arrowwidth": 1
          },
          "autotypenumbers": "strict",
          "coloraxis": {
           "colorbar": {
            "outlinewidth": 0,
            "ticks": ""
           }
          },
          "colorscale": {
           "diverging": [
            [
             0,
             "#8e0152"
            ],
            [
             0.1,
             "#c51b7d"
            ],
            [
             0.2,
             "#de77ae"
            ],
            [
             0.3,
             "#f1b6da"
            ],
            [
             0.4,
             "#fde0ef"
            ],
            [
             0.5,
             "#f7f7f7"
            ],
            [
             0.6,
             "#e6f5d0"
            ],
            [
             0.7,
             "#b8e186"
            ],
            [
             0.8,
             "#7fbc41"
            ],
            [
             0.9,
             "#4d9221"
            ],
            [
             1,
             "#276419"
            ]
           ],
           "sequential": [
            [
             0,
             "#0d0887"
            ],
            [
             0.1111111111111111,
             "#46039f"
            ],
            [
             0.2222222222222222,
             "#7201a8"
            ],
            [
             0.3333333333333333,
             "#9c179e"
            ],
            [
             0.4444444444444444,
             "#bd3786"
            ],
            [
             0.5555555555555556,
             "#d8576b"
            ],
            [
             0.6666666666666666,
             "#ed7953"
            ],
            [
             0.7777777777777778,
             "#fb9f3a"
            ],
            [
             0.8888888888888888,
             "#fdca26"
            ],
            [
             1,
             "#f0f921"
            ]
           ],
           "sequentialminus": [
            [
             0,
             "#0d0887"
            ],
            [
             0.1111111111111111,
             "#46039f"
            ],
            [
             0.2222222222222222,
             "#7201a8"
            ],
            [
             0.3333333333333333,
             "#9c179e"
            ],
            [
             0.4444444444444444,
             "#bd3786"
            ],
            [
             0.5555555555555556,
             "#d8576b"
            ],
            [
             0.6666666666666666,
             "#ed7953"
            ],
            [
             0.7777777777777778,
             "#fb9f3a"
            ],
            [
             0.8888888888888888,
             "#fdca26"
            ],
            [
             1,
             "#f0f921"
            ]
           ]
          },
          "colorway": [
           "#636efa",
           "#EF553B",
           "#00cc96",
           "#ab63fa",
           "#FFA15A",
           "#19d3f3",
           "#FF6692",
           "#B6E880",
           "#FF97FF",
           "#FECB52"
          ],
          "font": {
           "color": "#2a3f5f"
          },
          "geo": {
           "bgcolor": "white",
           "lakecolor": "white",
           "landcolor": "#E5ECF6",
           "showlakes": true,
           "showland": true,
           "subunitcolor": "white"
          },
          "hoverlabel": {
           "align": "left"
          },
          "hovermode": "closest",
          "mapbox": {
           "style": "light"
          },
          "paper_bgcolor": "white",
          "plot_bgcolor": "#E5ECF6",
          "polar": {
           "angularaxis": {
            "gridcolor": "white",
            "linecolor": "white",
            "ticks": ""
           },
           "bgcolor": "#E5ECF6",
           "radialaxis": {
            "gridcolor": "white",
            "linecolor": "white",
            "ticks": ""
           }
          },
          "scene": {
           "xaxis": {
            "backgroundcolor": "#E5ECF6",
            "gridcolor": "white",
            "gridwidth": 2,
            "linecolor": "white",
            "showbackground": true,
            "ticks": "",
            "zerolinecolor": "white"
           },
           "yaxis": {
            "backgroundcolor": "#E5ECF6",
            "gridcolor": "white",
            "gridwidth": 2,
            "linecolor": "white",
            "showbackground": true,
            "ticks": "",
            "zerolinecolor": "white"
           },
           "zaxis": {
            "backgroundcolor": "#E5ECF6",
            "gridcolor": "white",
            "gridwidth": 2,
            "linecolor": "white",
            "showbackground": true,
            "ticks": "",
            "zerolinecolor": "white"
           }
          },
          "shapedefaults": {
           "line": {
            "color": "#2a3f5f"
           }
          },
          "ternary": {
           "aaxis": {
            "gridcolor": "white",
            "linecolor": "white",
            "ticks": ""
           },
           "baxis": {
            "gridcolor": "white",
            "linecolor": "white",
            "ticks": ""
           },
           "bgcolor": "#E5ECF6",
           "caxis": {
            "gridcolor": "white",
            "linecolor": "white",
            "ticks": ""
           }
          },
          "title": {
           "x": 0.05
          },
          "xaxis": {
           "automargin": true,
           "gridcolor": "white",
           "linecolor": "white",
           "ticks": "",
           "title": {
            "standoff": 15
           },
           "zerolinecolor": "white",
           "zerolinewidth": 2
          },
          "yaxis": {
           "automargin": true,
           "gridcolor": "white",
           "linecolor": "white",
           "ticks": "",
           "title": {
            "standoff": 15
           },
           "zerolinecolor": "white",
           "zerolinewidth": 2
          }
         }
        },
        "title": {
         "font": {
          "color": "black",
          "family": "Courier New, monospace",
          "size": 17
         },
         "text": "North America, Europe, Japan and Other Sales Percentage and Amounts According to Genre"
        },
        "width": 1200,
        "xaxis2": {
         "anchor": "y2",
         "domain": [
          0,
          0.5
         ],
         "tickfont": {
          "family": "Courier New, monospace"
         },
         "title": {
          "font": {
           "family": "Courier New, monospace"
          },
          "text": "Genre"
         }
        },
        "yaxis2": {
         "anchor": "x2",
         "domain": [
          0,
          1
         ],
         "tickfont": {
          "family": "Courier New, monospace"
         },
         "title": {
          "font": {
           "family": "Courier New, monospace"
          },
          "text": "Total Percentage"
         }
        }
       }
      },
      "text/html": [
       "<div>                            <div id=\"fd846d71-f499-41cf-b62b-0fc81b1498a9\" class=\"plotly-graph-div\" style=\"height:650px; width:1200px;\"></div>            <script type=\"text/javascript\">                require([\"plotly\"], function(Plotly) {                    window.PLOTLYENV=window.PLOTLYENV || {};                                    if (document.getElementById(\"fd846d71-f499-41cf-b62b-0fc81b1498a9\")) {                    Plotly.newPlot(                        \"fd846d71-f499-41cf-b62b-0fc81b1498a9\",                        [{\"marker\":{\"color\":\"rgb(158,202,225)\",\"line\":{\"color\":\"rgb(8,48,107)\",\"width\":3}},\"name\":\"North America\",\"opacity\":0.75,\"x\":[\"Action\",\"Adventure\",\"Fighting\",\"Misc\",\"Platform\",\"Puzzle\",\"Racing\",\"Role-Playing\",\"Shooter\",\"Simulation\",\"Sports\",\"Strategy\"],\"xaxis\":\"x2\",\"y\":[50.36527299500969,44.2845723421261,49.91508000357572,50.70718892402726,53.79914984059524,50.559624722245,49.30031554397038,35.40346746575356,56.24631982829109,46.66512986015105,51.383633633633984,39.283667621776445],\"yaxis\":\"y2\",\"type\":\"bar\"},{\"marker\":{\"color\":\"red\",\"line\":{\"color\":\"rgb(8,48,107)\",\"width\":3}},\"name\":\"Europe\",\"opacity\":0.75,\"x\":[\"Action\",\"Adventure\",\"Fighting\",\"Misc\",\"Platform\",\"Puzzle\",\"Racing\",\"Role-Playing\",\"Shooter\",\"Simulation\",\"Sports\",\"Strategy\"],\"xaxis\":\"x2\",\"y\":[29.744967827327308,26.732298371828744,22.421113792795293,26.487213327025337,24.194522268380002,20.57855320549742,32.447523665798066,20.1958476027399,30.138469428457793,29.076379283848397,28.28753753753743,25.885386819484197],\"yaxis\":\"y2\",\"type\":\"bar\"},{\"marker\":{\"color\":\"orange\",\"line\":{\"color\":\"rgb(8,48,107)\",\"width\":3}},\"name\":\"Japan\",\"opacity\":0.75,\"x\":[\"Action\",\"Adventure\",\"Fighting\",\"Misc\",\"Platform\",\"Puzzle\",\"Racing\",\"Role-Playing\",\"Shooter\",\"Simulation\",\"Sports\",\"Strategy\"],\"xaxis\":\"x2\",\"y\":[9.250144676755095,22.003449871681614,19.549477071601036,13.460245524042024,15.799198145106832,23.58242119990117,7.780216764988397,38.04152397260275,3.681121431420683,16.341375954100833,10.175675675675814,28.458452722062972],\"yaxis\":\"y2\",\"type\":\"bar\"},{\"marker\":{\"color\":\"purple\",\"line\":{\"color\":\"rgb(8,48,107)\",\"width\":3}},\"name\":\"Other\",\"opacity\":0.75,\"x\":[\"Action\",\"Adventure\",\"Fighting\",\"Misc\",\"Platform\",\"Puzzle\",\"Racing\",\"Role-Playing\",\"Shooter\",\"Simulation\",\"Sports\",\"Strategy\"],\"xaxis\":\"x2\",\"y\":[10.577159980977177,6.93760780849,8.125502815768307,9.261933813093194,6.169693749396194,5.09423092749564,10.44038962820711,6.381635273972637,9.887552946986848,7.876133394805722,10.09834834834828,6.2177650429798845],\"yaxis\":\"y2\",\"type\":\"bar\"},{\"cells\":{\"align\":[\"left\",\"center\"],\"fill\":{\"color\":[\"silver\",\"rgb(158,202,225)\",\"darksalmon\",\"gold\",\"mediumorchid\",\"yellowgreen\"]},\"font\":{\"color\":\"#506784\",\"size\":12},\"height\":30,\"line\":{\"color\":\"rgb(8,48,107)\",\"width\":3},\"values\":[[\"Action\",\"Adventure\",\"Fighting\",\"Misc\",\"Platform\",\"Puzzle\",\"Racing\",\"Role-Playing\",\"Shooter\",\"Simulation\",\"Sports\",\"Strategy\"],[879.0,105.0,223.0,407.0,445.0,123.0,359.0,331.0,592.0,182.0,684.0,69.0],[519.0,64.0,100.0,213.0,200.0,50.0,237.0,189.0,317.0,114.0,377.0,45.0],[161.0,52.0,87.0,108.0,131.0,57.0,57.0,355.0,39.0,64.0,136.0,50.0],[185.0,16.0,36.0,74.0,51.0,12.0,76.0,60.0,104.0,31.0,135.0,11.0],[1745.0,238.0,447.0,803.0,828.0,243.0,729.0,934.0,1053.0,390.0,1332.0,175.0]]},\"domain\":{\"x\":[0.6,1],\"y\":[0,0.95]},\"header\":{\"align\":[\"left\",\"center\"],\"fill\":{\"color\":[\"darkslateblue\",\"blue\",\"red\",\"orange\",\"purple\",\"green\"]},\"font\":{\"color\":\"white\",\"size\":12},\"height\":30,\"line\":{\"color\":\"rgb(8,48,107)\",\"width\":3},\"values\":[\"Genre\",\"North America\",\"Europe\",\"Japan\",\"Other\",\"Total\"]},\"type\":\"table\"}],                        {\"annotations\":[{\"bgcolor\":\"lightyellow\",\"borderwidth\":5,\"font\":{\"family\":\"Courier New, monospace\",\"size\":15},\"showarrow\":false,\"text\":\"Sales Percentage According to Region\",\"x\":0.08,\"xref\":\"paper\",\"y\":1.02,\"yref\":\"paper\"},{\"bgcolor\":\"lightyellow\",\"borderwidth\":5,\"font\":{\"family\":\"Courier New, monospace\",\"size\":15},\"showarrow\":false,\"text\":\"Total Sales(In Millions)\",\"x\":0.9,\"xref\":\"paper\",\"y\":1.02,\"yref\":\"paper\"}],\"autosize\":false,\"barmode\":\"stack\",\"height\":650,\"legend\":{\"bgcolor\":\"white\",\"bordercolor\":\"white\",\"borderwidth\":1,\"font\":{\"color\":\"#000\",\"family\":\"Courier New, monospace\",\"size\":11},\"orientation\":\"h\",\"x\":0.58,\"y\":0},\"paper_bgcolor\":\"white\",\"plot_bgcolor\":\"white\",\"template\":{\"data\":{\"barpolar\":[{\"marker\":{\"line\":{\"color\":\"#E5ECF6\",\"width\":0.5},\"pattern\":{\"fillmode\":\"overlay\",\"size\":10,\"solidity\":0.2}},\"type\":\"barpolar\"}],\"bar\":[{\"error_x\":{\"color\":\"#2a3f5f\"},\"error_y\":{\"color\":\"#2a3f5f\"},\"marker\":{\"line\":{\"color\":\"#E5ECF6\",\"width\":0.5},\"pattern\":{\"fillmode\":\"overlay\",\"size\":10,\"solidity\":0.2}},\"type\":\"bar\"}],\"carpet\":[{\"aaxis\":{\"endlinecolor\":\"#2a3f5f\",\"gridcolor\":\"white\",\"linecolor\":\"white\",\"minorgridcolor\":\"white\",\"startlinecolor\":\"#2a3f5f\"},\"baxis\":{\"endlinecolor\":\"#2a3f5f\",\"gridcolor\":\"white\",\"linecolor\":\"white\",\"minorgridcolor\":\"white\",\"startlinecolor\":\"#2a3f5f\"},\"type\":\"carpet\"}],\"choropleth\":[{\"colorbar\":{\"outlinewidth\":0,\"ticks\":\"\"},\"type\":\"choropleth\"}],\"contourcarpet\":[{\"colorbar\":{\"outlinewidth\":0,\"ticks\":\"\"},\"type\":\"contourcarpet\"}],\"contour\":[{\"colorbar\":{\"outlinewidth\":0,\"ticks\":\"\"},\"colorscale\":[[0.0,\"#0d0887\"],[0.1111111111111111,\"#46039f\"],[0.2222222222222222,\"#7201a8\"],[0.3333333333333333,\"#9c179e\"],[0.4444444444444444,\"#bd3786\"],[0.5555555555555556,\"#d8576b\"],[0.6666666666666666,\"#ed7953\"],[0.7777777777777778,\"#fb9f3a\"],[0.8888888888888888,\"#fdca26\"],[1.0,\"#f0f921\"]],\"type\":\"contour\"}],\"heatmapgl\":[{\"colorbar\":{\"outlinewidth\":0,\"ticks\":\"\"},\"colorscale\":[[0.0,\"#0d0887\"],[0.1111111111111111,\"#46039f\"],[0.2222222222222222,\"#7201a8\"],[0.3333333333333333,\"#9c179e\"],[0.4444444444444444,\"#bd3786\"],[0.5555555555555556,\"#d8576b\"],[0.6666666666666666,\"#ed7953\"],[0.7777777777777778,\"#fb9f3a\"],[0.8888888888888888,\"#fdca26\"],[1.0,\"#f0f921\"]],\"type\":\"heatmapgl\"}],\"heatmap\":[{\"colorbar\":{\"outlinewidth\":0,\"ticks\":\"\"},\"colorscale\":[[0.0,\"#0d0887\"],[0.1111111111111111,\"#46039f\"],[0.2222222222222222,\"#7201a8\"],[0.3333333333333333,\"#9c179e\"],[0.4444444444444444,\"#bd3786\"],[0.5555555555555556,\"#d8576b\"],[0.6666666666666666,\"#ed7953\"],[0.7777777777777778,\"#fb9f3a\"],[0.8888888888888888,\"#fdca26\"],[1.0,\"#f0f921\"]],\"type\":\"heatmap\"}],\"histogram2dcontour\":[{\"colorbar\":{\"outlinewidth\":0,\"ticks\":\"\"},\"colorscale\":[[0.0,\"#0d0887\"],[0.1111111111111111,\"#46039f\"],[0.2222222222222222,\"#7201a8\"],[0.3333333333333333,\"#9c179e\"],[0.4444444444444444,\"#bd3786\"],[0.5555555555555556,\"#d8576b\"],[0.6666666666666666,\"#ed7953\"],[0.7777777777777778,\"#fb9f3a\"],[0.8888888888888888,\"#fdca26\"],[1.0,\"#f0f921\"]],\"type\":\"histogram2dcontour\"}],\"histogram2d\":[{\"colorbar\":{\"outlinewidth\":0,\"ticks\":\"\"},\"colorscale\":[[0.0,\"#0d0887\"],[0.1111111111111111,\"#46039f\"],[0.2222222222222222,\"#7201a8\"],[0.3333333333333333,\"#9c179e\"],[0.4444444444444444,\"#bd3786\"],[0.5555555555555556,\"#d8576b\"],[0.6666666666666666,\"#ed7953\"],[0.7777777777777778,\"#fb9f3a\"],[0.8888888888888888,\"#fdca26\"],[1.0,\"#f0f921\"]],\"type\":\"histogram2d\"}],\"histogram\":[{\"marker\":{\"pattern\":{\"fillmode\":\"overlay\",\"size\":10,\"solidity\":0.2}},\"type\":\"histogram\"}],\"mesh3d\":[{\"colorbar\":{\"outlinewidth\":0,\"ticks\":\"\"},\"type\":\"mesh3d\"}],\"parcoords\":[{\"line\":{\"colorbar\":{\"outlinewidth\":0,\"ticks\":\"\"}},\"type\":\"parcoords\"}],\"pie\":[{\"automargin\":true,\"type\":\"pie\"}],\"scatter3d\":[{\"line\":{\"colorbar\":{\"outlinewidth\":0,\"ticks\":\"\"}},\"marker\":{\"colorbar\":{\"outlinewidth\":0,\"ticks\":\"\"}},\"type\":\"scatter3d\"}],\"scattercarpet\":[{\"marker\":{\"colorbar\":{\"outlinewidth\":0,\"ticks\":\"\"}},\"type\":\"scattercarpet\"}],\"scattergeo\":[{\"marker\":{\"colorbar\":{\"outlinewidth\":0,\"ticks\":\"\"}},\"type\":\"scattergeo\"}],\"scattergl\":[{\"marker\":{\"colorbar\":{\"outlinewidth\":0,\"ticks\":\"\"}},\"type\":\"scattergl\"}],\"scattermapbox\":[{\"marker\":{\"colorbar\":{\"outlinewidth\":0,\"ticks\":\"\"}},\"type\":\"scattermapbox\"}],\"scatterpolargl\":[{\"marker\":{\"colorbar\":{\"outlinewidth\":0,\"ticks\":\"\"}},\"type\":\"scatterpolargl\"}],\"scatterpolar\":[{\"marker\":{\"colorbar\":{\"outlinewidth\":0,\"ticks\":\"\"}},\"type\":\"scatterpolar\"}],\"scatter\":[{\"marker\":{\"colorbar\":{\"outlinewidth\":0,\"ticks\":\"\"}},\"type\":\"scatter\"}],\"scatterternary\":[{\"marker\":{\"colorbar\":{\"outlinewidth\":0,\"ticks\":\"\"}},\"type\":\"scatterternary\"}],\"surface\":[{\"colorbar\":{\"outlinewidth\":0,\"ticks\":\"\"},\"colorscale\":[[0.0,\"#0d0887\"],[0.1111111111111111,\"#46039f\"],[0.2222222222222222,\"#7201a8\"],[0.3333333333333333,\"#9c179e\"],[0.4444444444444444,\"#bd3786\"],[0.5555555555555556,\"#d8576b\"],[0.6666666666666666,\"#ed7953\"],[0.7777777777777778,\"#fb9f3a\"],[0.8888888888888888,\"#fdca26\"],[1.0,\"#f0f921\"]],\"type\":\"surface\"}],\"table\":[{\"cells\":{\"fill\":{\"color\":\"#EBF0F8\"},\"line\":{\"color\":\"white\"}},\"header\":{\"fill\":{\"color\":\"#C8D4E3\"},\"line\":{\"color\":\"white\"}},\"type\":\"table\"}]},\"layout\":{\"annotationdefaults\":{\"arrowcolor\":\"#2a3f5f\",\"arrowhead\":0,\"arrowwidth\":1},\"autotypenumbers\":\"strict\",\"coloraxis\":{\"colorbar\":{\"outlinewidth\":0,\"ticks\":\"\"}},\"colorscale\":{\"diverging\":[[0,\"#8e0152\"],[0.1,\"#c51b7d\"],[0.2,\"#de77ae\"],[0.3,\"#f1b6da\"],[0.4,\"#fde0ef\"],[0.5,\"#f7f7f7\"],[0.6,\"#e6f5d0\"],[0.7,\"#b8e186\"],[0.8,\"#7fbc41\"],[0.9,\"#4d9221\"],[1,\"#276419\"]],\"sequential\":[[0.0,\"#0d0887\"],[0.1111111111111111,\"#46039f\"],[0.2222222222222222,\"#7201a8\"],[0.3333333333333333,\"#9c179e\"],[0.4444444444444444,\"#bd3786\"],[0.5555555555555556,\"#d8576b\"],[0.6666666666666666,\"#ed7953\"],[0.7777777777777778,\"#fb9f3a\"],[0.8888888888888888,\"#fdca26\"],[1.0,\"#f0f921\"]],\"sequentialminus\":[[0.0,\"#0d0887\"],[0.1111111111111111,\"#46039f\"],[0.2222222222222222,\"#7201a8\"],[0.3333333333333333,\"#9c179e\"],[0.4444444444444444,\"#bd3786\"],[0.5555555555555556,\"#d8576b\"],[0.6666666666666666,\"#ed7953\"],[0.7777777777777778,\"#fb9f3a\"],[0.8888888888888888,\"#fdca26\"],[1.0,\"#f0f921\"]]},\"colorway\":[\"#636efa\",\"#EF553B\",\"#00cc96\",\"#ab63fa\",\"#FFA15A\",\"#19d3f3\",\"#FF6692\",\"#B6E880\",\"#FF97FF\",\"#FECB52\"],\"font\":{\"color\":\"#2a3f5f\"},\"geo\":{\"bgcolor\":\"white\",\"lakecolor\":\"white\",\"landcolor\":\"#E5ECF6\",\"showlakes\":true,\"showland\":true,\"subunitcolor\":\"white\"},\"hoverlabel\":{\"align\":\"left\"},\"hovermode\":\"closest\",\"mapbox\":{\"style\":\"light\"},\"paper_bgcolor\":\"white\",\"plot_bgcolor\":\"#E5ECF6\",\"polar\":{\"angularaxis\":{\"gridcolor\":\"white\",\"linecolor\":\"white\",\"ticks\":\"\"},\"bgcolor\":\"#E5ECF6\",\"radialaxis\":{\"gridcolor\":\"white\",\"linecolor\":\"white\",\"ticks\":\"\"}},\"scene\":{\"xaxis\":{\"backgroundcolor\":\"#E5ECF6\",\"gridcolor\":\"white\",\"gridwidth\":2,\"linecolor\":\"white\",\"showbackground\":true,\"ticks\":\"\",\"zerolinecolor\":\"white\"},\"yaxis\":{\"backgroundcolor\":\"#E5ECF6\",\"gridcolor\":\"white\",\"gridwidth\":2,\"linecolor\":\"white\",\"showbackground\":true,\"ticks\":\"\",\"zerolinecolor\":\"white\"},\"zaxis\":{\"backgroundcolor\":\"#E5ECF6\",\"gridcolor\":\"white\",\"gridwidth\":2,\"linecolor\":\"white\",\"showbackground\":true,\"ticks\":\"\",\"zerolinecolor\":\"white\"}},\"shapedefaults\":{\"line\":{\"color\":\"#2a3f5f\"}},\"ternary\":{\"aaxis\":{\"gridcolor\":\"white\",\"linecolor\":\"white\",\"ticks\":\"\"},\"baxis\":{\"gridcolor\":\"white\",\"linecolor\":\"white\",\"ticks\":\"\"},\"bgcolor\":\"#E5ECF6\",\"caxis\":{\"gridcolor\":\"white\",\"linecolor\":\"white\",\"ticks\":\"\"}},\"title\":{\"x\":0.05},\"xaxis\":{\"automargin\":true,\"gridcolor\":\"white\",\"linecolor\":\"white\",\"ticks\":\"\",\"title\":{\"standoff\":15},\"zerolinecolor\":\"white\",\"zerolinewidth\":2},\"yaxis\":{\"automargin\":true,\"gridcolor\":\"white\",\"linecolor\":\"white\",\"ticks\":\"\",\"title\":{\"standoff\":15},\"zerolinecolor\":\"white\",\"zerolinewidth\":2}}},\"title\":{\"font\":{\"color\":\"black\",\"family\":\"Courier New, monospace\",\"size\":17},\"text\":\"North America, Europe, Japan and Other Sales Percentage and Amounts According to Genre\"},\"width\":1200,\"xaxis2\":{\"anchor\":\"y2\",\"domain\":[0,0.5],\"tickfont\":{\"family\":\"Courier New, monospace\"},\"title\":{\"font\":{\"family\":\"Courier New, monospace\"},\"text\":\"Genre\"}},\"yaxis2\":{\"anchor\":\"x2\",\"domain\":[0,1],\"tickfont\":{\"family\":\"Courier New, monospace\"},\"title\":{\"font\":{\"family\":\"Courier New, monospace\"},\"text\":\"Total Percentage\"}}},                        {\"responsive\": true}                    ).then(function(){\n",
       "                            \n",
       "var gd = document.getElementById('fd846d71-f499-41cf-b62b-0fc81b1498a9');\n",
       "var x = new MutationObserver(function (mutations, observer) {{\n",
       "        var display = window.getComputedStyle(gd).display;\n",
       "        if (!display || display === 'none') {{\n",
       "            console.log([gd, 'removed!']);\n",
       "            Plotly.purge(gd);\n",
       "            observer.disconnect();\n",
       "        }}\n",
       "}});\n",
       "\n",
       "// Listen for the removal of the full notebook cells\n",
       "var notebookContainer = gd.closest('#notebook-container');\n",
       "if (notebookContainer) {{\n",
       "    x.observe(notebookContainer, {childList: true});\n",
       "}}\n",
       "\n",
       "// Listen for the clearing of the current output cell\n",
       "var outputEl = gd.closest('.output');\n",
       "if (outputEl) {{\n",
       "    x.observe(outputEl, {childList: true});\n",
       "}}\n",
       "\n",
       "                        })                };                });            </script>        </div>"
      ]
     },
     "metadata": {},
     "output_type": "display_data"
    }
   ],
   "source": [
    "x=genre.Genre\n",
    "NA_Perce=list(genre[\"NA_Sales\"]/genre[\"Global_Sales\"]*100)\n",
    "EU_Perce=list(genre[\"EU_Sales\"]/genre[\"Global_Sales\"]*100)\n",
    "JP_Perce=list(genre[\"JP_Sales\"]/genre[\"Global_Sales\"]*100)\n",
    "Other_Perce=list(genre[\"Other_Sales\"]/genre[\"Global_Sales\"]*100)\n",
    "\n",
    "bar1 = go.Bar(\n",
    "    x=x,\n",
    "    y=NA_Perce,\n",
    "    name=\"North America\" ,\n",
    "    xaxis='x2', yaxis='y2',\n",
    "    marker=dict(\n",
    "        color='rgb(158,202,225)',\n",
    "        line=dict(\n",
    "            color='rgb(8,48,107)',\n",
    "            width=3),\n",
    "        ),\n",
    "    opacity=0.75)\n",
    "bar2 = go.Bar(\n",
    "    x=x,\n",
    "    y=EU_Perce,\n",
    "    xaxis='x2', yaxis='y2',\n",
    "    marker=dict(\n",
    "        color='red',\n",
    "        line=dict(\n",
    "            color='rgb(8,48,107)',\n",
    "            width=3),\n",
    "        ),\n",
    "    opacity=0.75,\n",
    "    name = \"Europe\",\n",
    "    )\n",
    "bar3 = go.Bar(\n",
    "    x=x,\n",
    "    y=JP_Perce,\n",
    "    xaxis='x2', yaxis='y2',\n",
    "  \n",
    "    marker=dict(\n",
    "        color='orange',\n",
    "        line=dict(\n",
    "            color='rgb(8,48,107)',\n",
    "            width=3),\n",
    "        ),\n",
    "    opacity=0.75,\n",
    "    name = \"Japan\",\n",
    "    )\n",
    "bar4 = go.Bar(\n",
    "    x=x,\n",
    "    y=Other_Perce,\n",
    "    xaxis='x2', yaxis='y2',\n",
    "    \n",
    "    marker=dict(\n",
    "        color='purple',\n",
    "        line=dict(\n",
    "            color='rgb(8,48,107)',\n",
    "            width=3),\n",
    "        ),\n",
    "    opacity=0.75,\n",
    "    name = \"Other\",)\n",
    "bar5=go.Table(\n",
    "  header = dict(\n",
    "    values = column_table.columns,\n",
    "    line = dict(color = 'rgb(8,48,107)',width=3),\n",
    "    fill = dict(color = [\"darkslateblue\",\"blue\",\"red\", \"orange\",\"purple\",\"green\"]),\n",
    "    align = ['left','center'],\n",
    "    font = dict(color = 'white', size = 12),\n",
    "     height=30,\n",
    "  ),\n",
    "  cells = dict(\n",
    "    values = [column_table.Genre,round(column_table[\"North America\"]),round(column_table[\"Europe\"]), round(column_table[\"Japan\"]), round(column_table[\"Other\"]),round(column_table[\"Total\"])],\n",
    "    height=30,\n",
    "    line = dict(color = 'rgb(8,48,107)',width=3),\n",
    "    fill = dict(color = [\"silver\",\"rgb(158,202,225)\",\"darksalmon\", \"gold\",\"mediumorchid\",\"yellowgreen\"]),\n",
    "    align = ['left', 'center'],\n",
    "    font = dict(color = '#506784', size = 12)),\n",
    "    domain=dict(x=[0.60,1],y=[0,0.95]),\n",
    ")\n",
    "\n",
    "data = [bar1, bar2,bar3,bar4,bar5]\n",
    "layout = go.Layout(barmode='stack',autosize=False,width=1200,height=650,\n",
    "                legend=dict(x=.58, y=0,orientation=\"h\",font=dict(family='Courier New, monospace',size=11,color='#000'),\n",
    "                           bgcolor='white', bordercolor='white', borderwidth=1),\n",
    "                title='North America, Europe, Japan and Other Sales Percentage and Amounts According to Genre',\n",
    "                titlefont=dict(family='Courier New, monospace',size=17,color='black'),\n",
    "                xaxis2=dict(domain=[0, 0.50],anchor=\"y2\", title='Genre',titlefont=dict(family='Courier New, monospace'),tickfont=dict(family='Courier New, monospace')), yaxis2=dict( domain=[0, 1],anchor='x2',title=\"Total Percentage\",titlefont=dict(family='Courier New, monospace'),tickfont=dict(family='Courier New, monospace')),\n",
    "                paper_bgcolor='white',plot_bgcolor='white',\n",
    "                annotations=[ dict( text='Sales Percentage According to Region',x=0.08,y=1.02,xref=\"paper\",yref=\"paper\",showarrow=False,font=dict(size=15,family=\"Courier New, monospace\"),bgcolor=\"lightyellow\",borderwidth=5),dict( text='Total Sales(In Millions)',x=0.9,y=1.02,xref=\"paper\",yref=\"paper\",showarrow=False,font=dict(size=15,family='Courier New, monospace'),bgcolor=\"lightyellow\",borderwidth=5)],\n",
    "              \n",
    "                  )\n",
    "fig = go.Figure(data=data, layout=layout)\n",
    "iplot(fig)"
   ]
  },
  {
   "cell_type": "code",
   "execution_count": null,
   "metadata": {},
   "outputs": [],
   "source": []
  },
  {
   "cell_type": "code",
   "execution_count": null,
   "metadata": {},
   "outputs": [],
   "source": []
  },
  {
   "cell_type": "code",
   "execution_count": null,
   "metadata": {},
   "outputs": [],
   "source": []
  }
 ],
 "metadata": {
  "kernelspec": {
   "display_name": "Python 3",
   "language": "python",
   "name": "python3"
  },
  "language_info": {
   "codemirror_mode": {
    "name": "ipython",
    "version": 3
   },
   "file_extension": ".py",
   "mimetype": "text/x-python",
   "name": "python",
   "nbconvert_exporter": "python",
   "pygments_lexer": "ipython3",
   "version": "3.8.8"
  }
 },
 "nbformat": 4,
 "nbformat_minor": 4
}
