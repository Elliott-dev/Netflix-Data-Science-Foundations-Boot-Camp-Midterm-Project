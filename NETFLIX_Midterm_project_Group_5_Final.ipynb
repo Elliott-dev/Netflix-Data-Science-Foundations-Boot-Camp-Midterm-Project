{
 "cells": [
  {
   "cell_type": "code",
   "execution_count": 1,
   "id": "82492093",
   "metadata": {},
   "outputs": [
    {
     "data": {
      "text/html": [
       "        <script type=\"text/javascript\">\n",
       "        window.PlotlyConfig = {MathJaxConfig: 'local'};\n",
       "        if (window.MathJax) {MathJax.Hub.Config({SVG: {font: \"STIX-Web\"}});}\n",
       "        if (typeof require !== 'undefined') {\n",
       "        require.undef(\"plotly\");\n",
       "        requirejs.config({\n",
       "            paths: {\n",
       "                'plotly': ['https://cdn.plot.ly/plotly-2.9.0.min']\n",
       "            }\n",
       "        });\n",
       "        require(['plotly'], function(Plotly) {\n",
       "            window._Plotly = Plotly;\n",
       "        });\n",
       "        }\n",
       "        </script>\n",
       "        "
      ]
     },
     "metadata": {},
     "output_type": "display_data"
    }
   ],
   "source": [
    "#Adding dependecies \n",
    "import numpy as np # linear algebra\n",
    "import pandas as pd # data processing, CSV file I/O (e.g. pd.read_csv)\n",
    "from chart_studio import plotly\n",
    "from plotly.offline import init_notebook_mode,iplot\n",
    "init_notebook_mode(connected=True)\n",
    "import plotly.graph_objs as go\n",
    "from plotly.tools import FigureFactory as ff\n",
    "import matplotlib.pyplot as plt\n",
    "from PIL import Image\n",
    "import os\n",
    "import warnings\n",
    "warnings.filterwarnings(\"ignore\")\n",
    "# Any results you write to the current directory are saved as output.\n",
    "#Change"
   ]
  },
  {
   "cell_type": "code",
   "execution_count": 2,
   "id": "5e948303",
   "metadata": {},
   "outputs": [],
   "source": [
    "#Opening file and assigning variable. \n",
    "total_sales = pd.read_csv(\"Resources\\Video_Games_Sales_as_at_22_Dec_2016.csv\")"
   ]
  },
  {
   "cell_type": "code",
   "execution_count": 3,
   "id": "f49ce474",
   "metadata": {},
   "outputs": [],
   "source": [
    "#finding the column for each genre and assogning variable \n",
    "simulation=total_sales[total_sales.Genre==\"Simulation\"]\n",
    "fight=total_sales[total_sales.Genre==\"Fighting\"]\n",
    "strategy=total_sales[total_sales.Genre==\"Strategy\"]\n",
    "puzzle=total_sales[total_sales.Genre==\"Puzzle\"]\n",
    "misc=total_sales[total_sales.Genre==\"Misc\"]\n",
    "role=total_sales[total_sales.Genre==\"Role-Playing\"]\n",
    "shooter=total_sales[total_sales.Genre==\"Shooter\"]\n",
    "adventure=total_sales[total_sales.Genre==\"Adventure\"]\n",
    "race=total_sales[total_sales.Genre==\"Racing\"]\n",
    "action=total_sales[total_sales.Genre==\"Action\"]\n",
    "sports=total_sales[total_sales.Genre==\"Sports\"]\n",
    "platform=total_sales[total_sales.Genre==\"Platform\"]"
   ]
  },
  {
   "cell_type": "code",
   "execution_count": 4,
   "id": "100350d6",
   "metadata": {},
   "outputs": [
    {
     "data": {
      "application/vnd.plotly.v1+json": {
       "config": {
        "linkText": "Export to plot.ly",
        "plotlyServerURL": "https://plot.ly",
        "showLink": false
       },
       "data": [
        {
         "marker": {
          "color": "rgb(119,172,238)"
         },
         "name": "Action",
         "opacity": 0.75,
         "type": "bar",
         "x": [
          "2600",
          "3DS",
          "DC",
          "DS",
          "GB",
          "GBA",
          "GC",
          "GEN",
          "N64",
          "NES",
          "PC",
          "PS",
          "PS2",
          "PS3",
          "PS4",
          "PSP",
          "PSV",
          "SAT",
          "SNES",
          "Wii",
          "WiiU",
          "X360",
          "XB",
          "XOne"
         ],
         "y": [
          29.339999999999986,
          58.33000000000003,
          1.26,
          112.69999999999993,
          7.92,
          55.76000000000001,
          37.839999999999996,
          2.7399999999999998,
          29.58,
          28.750000000000004,
          31.710000000000026,
          127.04999999999991,
          272.7599999999997,
          301.54999999999905,
          96.18000000000002,
          64.1100000000001,
          17.080000000000027,
          0.6499999999999999,
          10.079999999999998,
          114.50999999999995,
          19.049999999999994,
          239.69000000000003,
          49.28000000000006,
          37.35
         ]
        },
        {
         "marker": {
          "color": "rgb(21,90,174)"
         },
         "name": "Sports",
         "opacity": 0.75,
         "type": "bar",
         "x": [
          "2600",
          "3DS",
          "DC",
          "DS",
          "GB",
          "GBA",
          "GC",
          "GEN",
          "N64",
          "NES",
          "NG",
          "PC",
          "PS",
          "PS2",
          "PS3",
          "PS4",
          "PSP",
          "PSV",
          "SAT",
          "SNES",
          "Wii",
          "WiiU",
          "X360",
          "XB",
          "XOne"
         ],
         "y": [
          3.4299999999999993,
          6.1899999999999995,
          3.6599999999999997,
          31.41000000000001,
          9.05,
          16.410000000000014,
          25.489999999999988,
          3.2,
          32.8,
          26.849999999999998,
          0.02,
          12.009999999999993,
          120.97,
          273.40999999999946,
          133.88000000000008,
          55.6,
          41.51000000000003,
          4.159999999999999,
          2.7899999999999996,
          17.87,
          288.60999999999973,
          3.1899999999999995,
          138.45000000000002,
          54.27000000000003,
          26.770000000000003
         ]
        },
        {
         "marker": {
          "color": "rgb(156,245,163)"
         },
         "name": "Racing",
         "opacity": 0.75,
         "type": "bar",
         "x": [
          "2600",
          "3DS",
          "DC",
          "DS",
          "GB",
          "GBA",
          "GC",
          "GEN",
          "N64",
          "NES",
          "PC",
          "PS",
          "PS2",
          "PS3",
          "PS4",
          "PSP",
          "PSV",
          "SAT",
          "SCD",
          "SNES",
          "Wii",
          "WiiU",
          "X360",
          "XB",
          "XOne"
         ],
         "y": [
          2.9099999999999997,
          14.94,
          2.65,
          38.100000000000016,
          4.55,
          18.80000000000001,
          21.889999999999997,
          0.26,
          40.090000000000025,
          9.780000000000001,
          3.989999999999995,
          103.18999999999996,
          156.28000000000017,
          72.13000000000001,
          12.160000000000002,
          34.29000000000001,
          2.53,
          2.3999999999999995,
          0.07,
          13.489999999999997,
          60.25,
          7.869999999999999,
          65.00000000000003,
          31.489999999999988,
          9.789999999999996
         ]
        },
        {
         "marker": {
          "color": "rgb(14,135,23)"
         },
         "name": "Shooter",
         "opacity": 0.75,
         "type": "bar",
         "x": [
          "2600",
          "3DS",
          "DC",
          "DS",
          "GB",
          "GBA",
          "GC",
          "GEN",
          "N64",
          "NES",
          "PC",
          "PS",
          "PS2",
          "PS3",
          "PS4",
          "PSP",
          "PSV",
          "SAT",
          "SNES",
          "TG16",
          "Wii",
          "WiiU",
          "X360",
          "XB",
          "XOne"
         ],
         "y": [
          26.480000000000004,
          1.2900000000000003,
          0.33,
          7.919999999999997,
          1.2,
          3.5999999999999983,
          13.629999999999999,
          0.13,
          19.27000000000001,
          35.620000000000005,
          45.92000000000002,
          39.31000000000002,
          108.56999999999998,
          192.45999999999992,
          88.55999999999995,
          19.66,
          3.8800000000000003,
          3.98,
          6.07,
          0.02,
          28.15,
          5.97,
          276.97999999999956,
          63.55000000000003,
          60.39000000000001
         ]
        },
        {
         "marker": {
          "color": "rgb(252,118,103)"
         },
         "name": "Misc",
         "opacity": 0.75,
         "type": "bar",
         "x": [
          "2600",
          "3DS",
          "DS",
          "GB",
          "GBA",
          "GC",
          "GEN",
          "N64",
          "NES",
          "PC",
          "PS",
          "PS2",
          "PS3",
          "PS4",
          "PSP",
          "PSV",
          "SAT",
          "SCD",
          "SNES",
          "Wii",
          "WiiU",
          "X360",
          "XB",
          "XOne"
         ],
         "y": [
          3.58,
          10.979999999999997,
          135.7200000000003,
          13.350000000000001,
          36.24999999999999,
          16.729999999999997,
          0.03,
          11.190000000000001,
          3.59,
          8.569999999999993,
          44.9,
          101.14000000000001,
          46.880000000000045,
          8.209999999999997,
          13.90999999999999,
          4.429999999999997,
          1.2000000000000002,
          0.1,
          5.0200000000000005,
          216.37000000000006,
          12.469999999999995,
          91.53999999999994,
          9.58,
          7.4399999999999995
         ]
        },
        {
         "marker": {
          "color": "rgb(226,28,5)"
         },
         "name": "Role Playing",
         "opacity": 0.75,
         "type": "bar",
         "x": [
          "3DS",
          "DC",
          "DS",
          "GB",
          "GBA",
          "GC",
          "GEN",
          "N64",
          "NES",
          "PC",
          "PCFX",
          "PS",
          "PS2",
          "PS3",
          "PS4",
          "PSP",
          "PSV",
          "SAT",
          "SCD",
          "SNES",
          "WS",
          "Wii",
          "WiiU",
          "X360",
          "XB",
          "XOne"
         ],
         "y": [
          84.28999999999996,
          0.68,
          124.44000000000015,
          88.24000000000001,
          64.20999999999995,
          13.15,
          0.27,
          3.36,
          18.78,
          47.72000000000006,
          0.03,
          78.29999999999993,
          93.49999999999996,
          73.67000000000002,
          28.949999999999992,
          48.980000000000096,
          12.4,
          3.7599999999999993,
          0.06,
          36.429999999999986,
          1.22,
          13.700000000000001,
          2.8899999999999997,
          71.30999999999997,
          13.509999999999994,
          10.55
         ]
        },
        {
         "marker": {
          "color": "rgb(247,173,13)"
         },
         "name": "Fighting",
         "opacity": 0.75,
         "type": "bar",
         "x": [
          "2600",
          "3DS",
          "DC",
          "DS",
          "GBA",
          "GC",
          "GEN",
          "N64",
          "NES",
          "NG",
          "PC",
          "PS",
          "PS2",
          "PS3",
          "PS4",
          "PSP",
          "PSV",
          "SAT",
          "SNES",
          "Wii",
          "WiiU",
          "X360",
          "XB",
          "XOne"
         ],
         "y": [
          1.24,
          10.569999999999997,
          1.8300000000000005,
          7.1099999999999985,
          4.209999999999999,
          18.429999999999993,
          5.9,
          22.08,
          6.54,
          1.4200000000000004,
          0.29000000000000004,
          72.67999999999995,
          92.60000000000001,
          51.080000000000005,
          8.649999999999997,
          21.819999999999993,
          2.629999999999999,
          8.52,
          26.949999999999996,
          23.36,
          6.27,
          37.34000000000001,
          13.549999999999992,
          2.4099999999999997
         ]
        },
        {
         "marker": {
          "color": "rgb(242,122,13)"
         },
         "name": "Platform",
         "opacity": 0.75,
         "type": "bar",
         "x": [
          "2600",
          "3DS",
          "DC",
          "DS",
          "GB",
          "GBA",
          "GC",
          "GEN",
          "GG",
          "N64",
          "NES",
          "PC",
          "PS",
          "PS2",
          "PS3",
          "PS4",
          "PSP",
          "PSV",
          "SAT",
          "SCD",
          "SNES",
          "Wii",
          "WiiU",
          "X360",
          "XB",
          "XOne"
         ],
         "y": [
          13.27,
          32.519999999999996,
          2.54,
          75.91999999999994,
          54.910000000000004,
          78.29999999999998,
          28.660000000000007,
          15.450000000000001,
          0.04,
          36.129999999999995,
          95.78000000000003,
          0.4900000000000001,
          64.21000000000001,
          72.50999999999992,
          29.71,
          7.699999999999998,
          17.090000000000003,
          2.559999999999999,
          0.76,
          1.5,
          65.65000000000002,
          88.92000000000002,
          21.540000000000006,
          11.319999999999997,
          9.659999999999997,
          0.9400000000000001
         ]
        },
        {
         "marker": {
          "color": "rgb(188,145,202)"
         },
         "name": "Simulation",
         "opacity": 0.75,
         "type": "bar",
         "x": [
          "2600",
          "3DO",
          "3DS",
          "DC",
          "DS",
          "GB",
          "GBA",
          "GC",
          "N64",
          "PC",
          "PS",
          "PS2",
          "PS3",
          "PS4",
          "PSP",
          "PSV",
          "SAT",
          "SNES",
          "Wii",
          "WiiU",
          "X360",
          "XB",
          "XOne"
         ],
         "y": [
          0.45,
          0.02,
          27.43000000000001,
          0.52,
          130.29000000000013,
          3.55,
          5.91,
          8.590000000000002,
          10.19,
          52.610000000000056,
          25.33,
          42.66000000000002,
          10.389999999999993,
          1.2000000000000002,
          6.229999999999998,
          0.07999999999999999,
          1.1300000000000001,
          5.630000000000001,
          36.030000000000015,
          0.2,
          14.180000000000003,
          7.1099999999999985,
          0.6900000000000001
         ]
        },
        {
         "marker": {
          "color": "rgb(104,57,119)"
         },
         "name": "Adventure",
         "opacity": 0.75,
         "type": "bar",
         "x": [
          "2600",
          "3DO",
          "3DS",
          "DC",
          "DS",
          "GB",
          "GBA",
          "GC",
          "GEN",
          "N64",
          "NES",
          "PC",
          "PS",
          "PS2",
          "PS3",
          "PS4",
          "PSP",
          "PSV",
          "SAT",
          "SNES",
          "TG16",
          "Wii",
          "WiiU",
          "X360",
          "XB",
          "XOne"
         ],
         "y": [
          1.7000000000000002,
          0.06,
          4.899999999999999,
          2.5000000000000004,
          45.900000000000034,
          17.16,
          14.679999999999998,
          5.930000000000001,
          0.19,
          0.45,
          4.38,
          10.039999999999981,
          20.970000000000006,
          21.160000000000057,
          22.279999999999998,
          6.389999999999997,
          10.67999999999994,
          3.839999999999992,
          4.16,
          1.5,
          0.14,
          17.829999999999995,
          0.16000000000000003,
          14.939999999999992,
          3.059999999999999,
          2.6899999999999995
         ]
        },
        {
         "marker": {
          "color": "rgb(245,253,104)"
         },
         "name": "Strategy",
         "opacity": 0.75,
         "type": "bar",
         "x": [
          "3DS",
          "DS",
          "GB",
          "GBA",
          "GC",
          "GEN",
          "N64",
          "PC",
          "PS",
          "PS2",
          "PS3",
          "PS4",
          "PSP",
          "PSV",
          "SAT",
          "SCD",
          "SNES",
          "WS",
          "Wii",
          "WiiU",
          "X360",
          "XB",
          "XOne"
         ],
         "y": [
          2.0999999999999996,
          14.87,
          8.05,
          7.449999999999999,
          4.319999999999999,
          0.19,
          10.329999999999998,
          46.03000000000013,
          21.69000000000001,
          15.149999999999993,
          4.819999999999999,
          0.6000000000000001,
          10.49999999999999,
          0.35,
          3.2399999999999998,
          0.14,
          4.98,
          0.2,
          5.029999999999999,
          1.2300000000000002,
          10.030000000000001,
          2.7799999999999994,
          0.42
         ]
        },
        {
         "marker": {
          "color": "rgb(138,72,40)"
         },
         "name": "Puzzle",
         "opacity": 0.75,
         "type": "bar",
         "x": [
          "2600",
          "3DO",
          "3DS",
          "DS",
          "GB",
          "GBA",
          "GC",
          "N64",
          "NES",
          "PC",
          "PS",
          "PS2",
          "PS3",
          "PS4",
          "PSP",
          "PSV",
          "SAT",
          "SNES",
          "Wii",
          "WiiU",
          "X360",
          "XB"
         ],
         "y": [
          14.68,
          0.02,
          5.549999999999999,
          82.72000000000008,
          47.469999999999985,
          12.920000000000005,
          4.699999999999998,
          3.4100000000000006,
          21.000000000000004,
          0.9200000000000004,
          12.079999999999998,
          5.8999999999999995,
          0.5800000000000001,
          0.03,
          5.5200000000000005,
          0.18,
          1,
          6.38,
          15.370000000000001,
          1.32,
          0.8500000000000001,
          0.42000000000000004
         ]
        }
       ],
       "layout": {
        "barmode": "stack",
        "paper_bgcolor": "white",
        "plot_bgcolor": "white",
        "template": {
         "data": {
          "bar": [
           {
            "error_x": {
             "color": "#2a3f5f"
            },
            "error_y": {
             "color": "#2a3f5f"
            },
            "marker": {
             "line": {
              "color": "#E5ECF6",
              "width": 0.5
             },
             "pattern": {
              "fillmode": "overlay",
              "size": 10,
              "solidity": 0.2
             }
            },
            "type": "bar"
           }
          ],
          "barpolar": [
           {
            "marker": {
             "line": {
              "color": "#E5ECF6",
              "width": 0.5
             },
             "pattern": {
              "fillmode": "overlay",
              "size": 10,
              "solidity": 0.2
             }
            },
            "type": "barpolar"
           }
          ],
          "carpet": [
           {
            "aaxis": {
             "endlinecolor": "#2a3f5f",
             "gridcolor": "white",
             "linecolor": "white",
             "minorgridcolor": "white",
             "startlinecolor": "#2a3f5f"
            },
            "baxis": {
             "endlinecolor": "#2a3f5f",
             "gridcolor": "white",
             "linecolor": "white",
             "minorgridcolor": "white",
             "startlinecolor": "#2a3f5f"
            },
            "type": "carpet"
           }
          ],
          "choropleth": [
           {
            "colorbar": {
             "outlinewidth": 0,
             "ticks": ""
            },
            "type": "choropleth"
           }
          ],
          "contour": [
           {
            "colorbar": {
             "outlinewidth": 0,
             "ticks": ""
            },
            "colorscale": [
             [
              0,
              "#0d0887"
             ],
             [
              0.1111111111111111,
              "#46039f"
             ],
             [
              0.2222222222222222,
              "#7201a8"
             ],
             [
              0.3333333333333333,
              "#9c179e"
             ],
             [
              0.4444444444444444,
              "#bd3786"
             ],
             [
              0.5555555555555556,
              "#d8576b"
             ],
             [
              0.6666666666666666,
              "#ed7953"
             ],
             [
              0.7777777777777778,
              "#fb9f3a"
             ],
             [
              0.8888888888888888,
              "#fdca26"
             ],
             [
              1,
              "#f0f921"
             ]
            ],
            "type": "contour"
           }
          ],
          "contourcarpet": [
           {
            "colorbar": {
             "outlinewidth": 0,
             "ticks": ""
            },
            "type": "contourcarpet"
           }
          ],
          "heatmap": [
           {
            "colorbar": {
             "outlinewidth": 0,
             "ticks": ""
            },
            "colorscale": [
             [
              0,
              "#0d0887"
             ],
             [
              0.1111111111111111,
              "#46039f"
             ],
             [
              0.2222222222222222,
              "#7201a8"
             ],
             [
              0.3333333333333333,
              "#9c179e"
             ],
             [
              0.4444444444444444,
              "#bd3786"
             ],
             [
              0.5555555555555556,
              "#d8576b"
             ],
             [
              0.6666666666666666,
              "#ed7953"
             ],
             [
              0.7777777777777778,
              "#fb9f3a"
             ],
             [
              0.8888888888888888,
              "#fdca26"
             ],
             [
              1,
              "#f0f921"
             ]
            ],
            "type": "heatmap"
           }
          ],
          "heatmapgl": [
           {
            "colorbar": {
             "outlinewidth": 0,
             "ticks": ""
            },
            "colorscale": [
             [
              0,
              "#0d0887"
             ],
             [
              0.1111111111111111,
              "#46039f"
             ],
             [
              0.2222222222222222,
              "#7201a8"
             ],
             [
              0.3333333333333333,
              "#9c179e"
             ],
             [
              0.4444444444444444,
              "#bd3786"
             ],
             [
              0.5555555555555556,
              "#d8576b"
             ],
             [
              0.6666666666666666,
              "#ed7953"
             ],
             [
              0.7777777777777778,
              "#fb9f3a"
             ],
             [
              0.8888888888888888,
              "#fdca26"
             ],
             [
              1,
              "#f0f921"
             ]
            ],
            "type": "heatmapgl"
           }
          ],
          "histogram": [
           {
            "marker": {
             "pattern": {
              "fillmode": "overlay",
              "size": 10,
              "solidity": 0.2
             }
            },
            "type": "histogram"
           }
          ],
          "histogram2d": [
           {
            "colorbar": {
             "outlinewidth": 0,
             "ticks": ""
            },
            "colorscale": [
             [
              0,
              "#0d0887"
             ],
             [
              0.1111111111111111,
              "#46039f"
             ],
             [
              0.2222222222222222,
              "#7201a8"
             ],
             [
              0.3333333333333333,
              "#9c179e"
             ],
             [
              0.4444444444444444,
              "#bd3786"
             ],
             [
              0.5555555555555556,
              "#d8576b"
             ],
             [
              0.6666666666666666,
              "#ed7953"
             ],
             [
              0.7777777777777778,
              "#fb9f3a"
             ],
             [
              0.8888888888888888,
              "#fdca26"
             ],
             [
              1,
              "#f0f921"
             ]
            ],
            "type": "histogram2d"
           }
          ],
          "histogram2dcontour": [
           {
            "colorbar": {
             "outlinewidth": 0,
             "ticks": ""
            },
            "colorscale": [
             [
              0,
              "#0d0887"
             ],
             [
              0.1111111111111111,
              "#46039f"
             ],
             [
              0.2222222222222222,
              "#7201a8"
             ],
             [
              0.3333333333333333,
              "#9c179e"
             ],
             [
              0.4444444444444444,
              "#bd3786"
             ],
             [
              0.5555555555555556,
              "#d8576b"
             ],
             [
              0.6666666666666666,
              "#ed7953"
             ],
             [
              0.7777777777777778,
              "#fb9f3a"
             ],
             [
              0.8888888888888888,
              "#fdca26"
             ],
             [
              1,
              "#f0f921"
             ]
            ],
            "type": "histogram2dcontour"
           }
          ],
          "mesh3d": [
           {
            "colorbar": {
             "outlinewidth": 0,
             "ticks": ""
            },
            "type": "mesh3d"
           }
          ],
          "parcoords": [
           {
            "line": {
             "colorbar": {
              "outlinewidth": 0,
              "ticks": ""
             }
            },
            "type": "parcoords"
           }
          ],
          "pie": [
           {
            "automargin": true,
            "type": "pie"
           }
          ],
          "scatter": [
           {
            "marker": {
             "colorbar": {
              "outlinewidth": 0,
              "ticks": ""
             }
            },
            "type": "scatter"
           }
          ],
          "scatter3d": [
           {
            "line": {
             "colorbar": {
              "outlinewidth": 0,
              "ticks": ""
             }
            },
            "marker": {
             "colorbar": {
              "outlinewidth": 0,
              "ticks": ""
             }
            },
            "type": "scatter3d"
           }
          ],
          "scattercarpet": [
           {
            "marker": {
             "colorbar": {
              "outlinewidth": 0,
              "ticks": ""
             }
            },
            "type": "scattercarpet"
           }
          ],
          "scattergeo": [
           {
            "marker": {
             "colorbar": {
              "outlinewidth": 0,
              "ticks": ""
             }
            },
            "type": "scattergeo"
           }
          ],
          "scattergl": [
           {
            "marker": {
             "colorbar": {
              "outlinewidth": 0,
              "ticks": ""
             }
            },
            "type": "scattergl"
           }
          ],
          "scattermapbox": [
           {
            "marker": {
             "colorbar": {
              "outlinewidth": 0,
              "ticks": ""
             }
            },
            "type": "scattermapbox"
           }
          ],
          "scatterpolar": [
           {
            "marker": {
             "colorbar": {
              "outlinewidth": 0,
              "ticks": ""
             }
            },
            "type": "scatterpolar"
           }
          ],
          "scatterpolargl": [
           {
            "marker": {
             "colorbar": {
              "outlinewidth": 0,
              "ticks": ""
             }
            },
            "type": "scatterpolargl"
           }
          ],
          "scatterternary": [
           {
            "marker": {
             "colorbar": {
              "outlinewidth": 0,
              "ticks": ""
             }
            },
            "type": "scatterternary"
           }
          ],
          "surface": [
           {
            "colorbar": {
             "outlinewidth": 0,
             "ticks": ""
            },
            "colorscale": [
             [
              0,
              "#0d0887"
             ],
             [
              0.1111111111111111,
              "#46039f"
             ],
             [
              0.2222222222222222,
              "#7201a8"
             ],
             [
              0.3333333333333333,
              "#9c179e"
             ],
             [
              0.4444444444444444,
              "#bd3786"
             ],
             [
              0.5555555555555556,
              "#d8576b"
             ],
             [
              0.6666666666666666,
              "#ed7953"
             ],
             [
              0.7777777777777778,
              "#fb9f3a"
             ],
             [
              0.8888888888888888,
              "#fdca26"
             ],
             [
              1,
              "#f0f921"
             ]
            ],
            "type": "surface"
           }
          ],
          "table": [
           {
            "cells": {
             "fill": {
              "color": "#EBF0F8"
             },
             "line": {
              "color": "white"
             }
            },
            "header": {
             "fill": {
              "color": "#C8D4E3"
             },
             "line": {
              "color": "white"
             }
            },
            "type": "table"
           }
          ]
         },
         "layout": {
          "annotationdefaults": {
           "arrowcolor": "#2a3f5f",
           "arrowhead": 0,
           "arrowwidth": 1
          },
          "autotypenumbers": "strict",
          "coloraxis": {
           "colorbar": {
            "outlinewidth": 0,
            "ticks": ""
           }
          },
          "colorscale": {
           "diverging": [
            [
             0,
             "#8e0152"
            ],
            [
             0.1,
             "#c51b7d"
            ],
            [
             0.2,
             "#de77ae"
            ],
            [
             0.3,
             "#f1b6da"
            ],
            [
             0.4,
             "#fde0ef"
            ],
            [
             0.5,
             "#f7f7f7"
            ],
            [
             0.6,
             "#e6f5d0"
            ],
            [
             0.7,
             "#b8e186"
            ],
            [
             0.8,
             "#7fbc41"
            ],
            [
             0.9,
             "#4d9221"
            ],
            [
             1,
             "#276419"
            ]
           ],
           "sequential": [
            [
             0,
             "#0d0887"
            ],
            [
             0.1111111111111111,
             "#46039f"
            ],
            [
             0.2222222222222222,
             "#7201a8"
            ],
            [
             0.3333333333333333,
             "#9c179e"
            ],
            [
             0.4444444444444444,
             "#bd3786"
            ],
            [
             0.5555555555555556,
             "#d8576b"
            ],
            [
             0.6666666666666666,
             "#ed7953"
            ],
            [
             0.7777777777777778,
             "#fb9f3a"
            ],
            [
             0.8888888888888888,
             "#fdca26"
            ],
            [
             1,
             "#f0f921"
            ]
           ],
           "sequentialminus": [
            [
             0,
             "#0d0887"
            ],
            [
             0.1111111111111111,
             "#46039f"
            ],
            [
             0.2222222222222222,
             "#7201a8"
            ],
            [
             0.3333333333333333,
             "#9c179e"
            ],
            [
             0.4444444444444444,
             "#bd3786"
            ],
            [
             0.5555555555555556,
             "#d8576b"
            ],
            [
             0.6666666666666666,
             "#ed7953"
            ],
            [
             0.7777777777777778,
             "#fb9f3a"
            ],
            [
             0.8888888888888888,
             "#fdca26"
            ],
            [
             1,
             "#f0f921"
            ]
           ]
          },
          "colorway": [
           "#636efa",
           "#EF553B",
           "#00cc96",
           "#ab63fa",
           "#FFA15A",
           "#19d3f3",
           "#FF6692",
           "#B6E880",
           "#FF97FF",
           "#FECB52"
          ],
          "font": {
           "color": "#2a3f5f"
          },
          "geo": {
           "bgcolor": "white",
           "lakecolor": "white",
           "landcolor": "#E5ECF6",
           "showlakes": true,
           "showland": true,
           "subunitcolor": "white"
          },
          "hoverlabel": {
           "align": "left"
          },
          "hovermode": "closest",
          "mapbox": {
           "style": "light"
          },
          "paper_bgcolor": "white",
          "plot_bgcolor": "#E5ECF6",
          "polar": {
           "angularaxis": {
            "gridcolor": "white",
            "linecolor": "white",
            "ticks": ""
           },
           "bgcolor": "#E5ECF6",
           "radialaxis": {
            "gridcolor": "white",
            "linecolor": "white",
            "ticks": ""
           }
          },
          "scene": {
           "xaxis": {
            "backgroundcolor": "#E5ECF6",
            "gridcolor": "white",
            "gridwidth": 2,
            "linecolor": "white",
            "showbackground": true,
            "ticks": "",
            "zerolinecolor": "white"
           },
           "yaxis": {
            "backgroundcolor": "#E5ECF6",
            "gridcolor": "white",
            "gridwidth": 2,
            "linecolor": "white",
            "showbackground": true,
            "ticks": "",
            "zerolinecolor": "white"
           },
           "zaxis": {
            "backgroundcolor": "#E5ECF6",
            "gridcolor": "white",
            "gridwidth": 2,
            "linecolor": "white",
            "showbackground": true,
            "ticks": "",
            "zerolinecolor": "white"
           }
          },
          "shapedefaults": {
           "line": {
            "color": "#2a3f5f"
           }
          },
          "ternary": {
           "aaxis": {
            "gridcolor": "white",
            "linecolor": "white",
            "ticks": ""
           },
           "baxis": {
            "gridcolor": "white",
            "linecolor": "white",
            "ticks": ""
           },
           "bgcolor": "#E5ECF6",
           "caxis": {
            "gridcolor": "white",
            "linecolor": "white",
            "ticks": ""
           }
          },
          "title": {
           "x": 0.05
          },
          "xaxis": {
           "automargin": true,
           "gridcolor": "white",
           "linecolor": "white",
           "ticks": "",
           "title": {
            "standoff": 15
           },
           "zerolinecolor": "white",
           "zerolinewidth": 2
          },
          "yaxis": {
           "automargin": true,
           "gridcolor": "white",
           "linecolor": "white",
           "ticks": "",
           "title": {
            "standoff": 15
           },
           "zerolinecolor": "white",
           "zerolinewidth": 2
          }
         }
        },
        "title": {
         "text": "Total Global Sales According to Platform and Genre"
        },
        "xaxis": {
         "title": {
          "text": "Platform"
         }
        },
        "yaxis": {
         "title": {
          "text": "Global Sales(In Millions)"
         }
        }
       }
      },
      "text/html": [
       "<div>                            <div id=\"9cb3cb4f-c45e-4068-936a-df19a7a5473c\" class=\"plotly-graph-div\" style=\"height:525px; width:100%;\"></div>            <script type=\"text/javascript\">                require([\"plotly\"], function(Plotly) {                    window.PLOTLYENV=window.PLOTLYENV || {};                                    if (document.getElementById(\"9cb3cb4f-c45e-4068-936a-df19a7a5473c\")) {                    Plotly.newPlot(                        \"9cb3cb4f-c45e-4068-936a-df19a7a5473c\",                        [{\"marker\":{\"color\":\"rgb(119,172,238)\"},\"name\":\"Action\",\"opacity\":0.75,\"x\":[\"2600\",\"3DS\",\"DC\",\"DS\",\"GB\",\"GBA\",\"GC\",\"GEN\",\"N64\",\"NES\",\"PC\",\"PS\",\"PS2\",\"PS3\",\"PS4\",\"PSP\",\"PSV\",\"SAT\",\"SNES\",\"Wii\",\"WiiU\",\"X360\",\"XB\",\"XOne\"],\"y\":[29.339999999999986,58.33000000000003,1.26,112.69999999999993,7.92,55.76000000000001,37.839999999999996,2.7399999999999998,29.58,28.750000000000004,31.710000000000026,127.04999999999991,272.7599999999997,301.54999999999905,96.18000000000002,64.1100000000001,17.080000000000027,0.6499999999999999,10.079999999999998,114.50999999999995,19.049999999999994,239.69000000000003,49.28000000000006,37.35],\"type\":\"bar\"},{\"marker\":{\"color\":\"rgb(21,90,174)\"},\"name\":\"Sports\",\"opacity\":0.75,\"x\":[\"2600\",\"3DS\",\"DC\",\"DS\",\"GB\",\"GBA\",\"GC\",\"GEN\",\"N64\",\"NES\",\"NG\",\"PC\",\"PS\",\"PS2\",\"PS3\",\"PS4\",\"PSP\",\"PSV\",\"SAT\",\"SNES\",\"Wii\",\"WiiU\",\"X360\",\"XB\",\"XOne\"],\"y\":[3.4299999999999993,6.1899999999999995,3.6599999999999997,31.41000000000001,9.05,16.410000000000014,25.489999999999988,3.2,32.8,26.849999999999998,0.02,12.009999999999993,120.97,273.40999999999946,133.88000000000008,55.6,41.51000000000003,4.159999999999999,2.7899999999999996,17.87,288.60999999999973,3.1899999999999995,138.45000000000002,54.27000000000003,26.770000000000003],\"type\":\"bar\"},{\"marker\":{\"color\":\"rgb(156,245,163)\"},\"name\":\"Racing\",\"opacity\":0.75,\"x\":[\"2600\",\"3DS\",\"DC\",\"DS\",\"GB\",\"GBA\",\"GC\",\"GEN\",\"N64\",\"NES\",\"PC\",\"PS\",\"PS2\",\"PS3\",\"PS4\",\"PSP\",\"PSV\",\"SAT\",\"SCD\",\"SNES\",\"Wii\",\"WiiU\",\"X360\",\"XB\",\"XOne\"],\"y\":[2.9099999999999997,14.94,2.65,38.100000000000016,4.55,18.80000000000001,21.889999999999997,0.26,40.090000000000025,9.780000000000001,3.989999999999995,103.18999999999996,156.28000000000017,72.13000000000001,12.160000000000002,34.29000000000001,2.53,2.3999999999999995,0.07,13.489999999999997,60.25,7.869999999999999,65.00000000000003,31.489999999999988,9.789999999999996],\"type\":\"bar\"},{\"marker\":{\"color\":\"rgb(14,135,23)\"},\"name\":\"Shooter\",\"opacity\":0.75,\"x\":[\"2600\",\"3DS\",\"DC\",\"DS\",\"GB\",\"GBA\",\"GC\",\"GEN\",\"N64\",\"NES\",\"PC\",\"PS\",\"PS2\",\"PS3\",\"PS4\",\"PSP\",\"PSV\",\"SAT\",\"SNES\",\"TG16\",\"Wii\",\"WiiU\",\"X360\",\"XB\",\"XOne\"],\"y\":[26.480000000000004,1.2900000000000003,0.33,7.919999999999997,1.2,3.5999999999999983,13.629999999999999,0.13,19.27000000000001,35.620000000000005,45.92000000000002,39.31000000000002,108.56999999999998,192.45999999999992,88.55999999999995,19.66,3.8800000000000003,3.98,6.07,0.02,28.15,5.97,276.97999999999956,63.55000000000003,60.39000000000001],\"type\":\"bar\"},{\"marker\":{\"color\":\"rgb(252,118,103)\"},\"name\":\"Misc\",\"opacity\":0.75,\"x\":[\"2600\",\"3DS\",\"DS\",\"GB\",\"GBA\",\"GC\",\"GEN\",\"N64\",\"NES\",\"PC\",\"PS\",\"PS2\",\"PS3\",\"PS4\",\"PSP\",\"PSV\",\"SAT\",\"SCD\",\"SNES\",\"Wii\",\"WiiU\",\"X360\",\"XB\",\"XOne\"],\"y\":[3.58,10.979999999999997,135.7200000000003,13.350000000000001,36.24999999999999,16.729999999999997,0.03,11.190000000000001,3.59,8.569999999999993,44.9,101.14000000000001,46.880000000000045,8.209999999999997,13.90999999999999,4.429999999999997,1.2000000000000002,0.1,5.0200000000000005,216.37000000000006,12.469999999999995,91.53999999999994,9.58,7.4399999999999995],\"type\":\"bar\"},{\"marker\":{\"color\":\"rgb(226,28,5)\"},\"name\":\"Role Playing\",\"opacity\":0.75,\"x\":[\"3DS\",\"DC\",\"DS\",\"GB\",\"GBA\",\"GC\",\"GEN\",\"N64\",\"NES\",\"PC\",\"PCFX\",\"PS\",\"PS2\",\"PS3\",\"PS4\",\"PSP\",\"PSV\",\"SAT\",\"SCD\",\"SNES\",\"WS\",\"Wii\",\"WiiU\",\"X360\",\"XB\",\"XOne\"],\"y\":[84.28999999999996,0.68,124.44000000000015,88.24000000000001,64.20999999999995,13.15,0.27,3.36,18.78,47.72000000000006,0.03,78.29999999999993,93.49999999999996,73.67000000000002,28.949999999999992,48.980000000000096,12.4,3.7599999999999993,0.06,36.429999999999986,1.22,13.700000000000001,2.8899999999999997,71.30999999999997,13.509999999999994,10.55],\"type\":\"bar\"},{\"marker\":{\"color\":\"rgb(247,173,13)\"},\"name\":\"Fighting\",\"opacity\":0.75,\"x\":[\"2600\",\"3DS\",\"DC\",\"DS\",\"GBA\",\"GC\",\"GEN\",\"N64\",\"NES\",\"NG\",\"PC\",\"PS\",\"PS2\",\"PS3\",\"PS4\",\"PSP\",\"PSV\",\"SAT\",\"SNES\",\"Wii\",\"WiiU\",\"X360\",\"XB\",\"XOne\"],\"y\":[1.24,10.569999999999997,1.8300000000000005,7.1099999999999985,4.209999999999999,18.429999999999993,5.9,22.08,6.54,1.4200000000000004,0.29000000000000004,72.67999999999995,92.60000000000001,51.080000000000005,8.649999999999997,21.819999999999993,2.629999999999999,8.52,26.949999999999996,23.36,6.27,37.34000000000001,13.549999999999992,2.4099999999999997],\"type\":\"bar\"},{\"marker\":{\"color\":\"rgb(242,122,13)\"},\"name\":\"Platform\",\"opacity\":0.75,\"x\":[\"2600\",\"3DS\",\"DC\",\"DS\",\"GB\",\"GBA\",\"GC\",\"GEN\",\"GG\",\"N64\",\"NES\",\"PC\",\"PS\",\"PS2\",\"PS3\",\"PS4\",\"PSP\",\"PSV\",\"SAT\",\"SCD\",\"SNES\",\"Wii\",\"WiiU\",\"X360\",\"XB\",\"XOne\"],\"y\":[13.27,32.519999999999996,2.54,75.91999999999994,54.910000000000004,78.29999999999998,28.660000000000007,15.450000000000001,0.04,36.129999999999995,95.78000000000003,0.4900000000000001,64.21000000000001,72.50999999999992,29.71,7.699999999999998,17.090000000000003,2.559999999999999,0.76,1.5,65.65000000000002,88.92000000000002,21.540000000000006,11.319999999999997,9.659999999999997,0.9400000000000001],\"type\":\"bar\"},{\"marker\":{\"color\":\"rgb(188,145,202)\"},\"name\":\"Simulation\",\"opacity\":0.75,\"x\":[\"2600\",\"3DO\",\"3DS\",\"DC\",\"DS\",\"GB\",\"GBA\",\"GC\",\"N64\",\"PC\",\"PS\",\"PS2\",\"PS3\",\"PS4\",\"PSP\",\"PSV\",\"SAT\",\"SNES\",\"Wii\",\"WiiU\",\"X360\",\"XB\",\"XOne\"],\"y\":[0.45,0.02,27.43000000000001,0.52,130.29000000000013,3.55,5.91,8.590000000000002,10.19,52.610000000000056,25.33,42.66000000000002,10.389999999999993,1.2000000000000002,6.229999999999998,0.07999999999999999,1.1300000000000001,5.630000000000001,36.030000000000015,0.2,14.180000000000003,7.1099999999999985,0.6900000000000001],\"type\":\"bar\"},{\"marker\":{\"color\":\"rgb(104,57,119)\"},\"name\":\"Adventure\",\"opacity\":0.75,\"x\":[\"2600\",\"3DO\",\"3DS\",\"DC\",\"DS\",\"GB\",\"GBA\",\"GC\",\"GEN\",\"N64\",\"NES\",\"PC\",\"PS\",\"PS2\",\"PS3\",\"PS4\",\"PSP\",\"PSV\",\"SAT\",\"SNES\",\"TG16\",\"Wii\",\"WiiU\",\"X360\",\"XB\",\"XOne\"],\"y\":[1.7000000000000002,0.06,4.899999999999999,2.5000000000000004,45.900000000000034,17.16,14.679999999999998,5.930000000000001,0.19,0.45,4.38,10.039999999999981,20.970000000000006,21.160000000000057,22.279999999999998,6.389999999999997,10.67999999999994,3.839999999999992,4.16,1.5,0.14,17.829999999999995,0.16000000000000003,14.939999999999992,3.059999999999999,2.6899999999999995],\"type\":\"bar\"},{\"marker\":{\"color\":\"rgb(245,253,104)\"},\"name\":\"Strategy\",\"opacity\":0.75,\"x\":[\"3DS\",\"DS\",\"GB\",\"GBA\",\"GC\",\"GEN\",\"N64\",\"PC\",\"PS\",\"PS2\",\"PS3\",\"PS4\",\"PSP\",\"PSV\",\"SAT\",\"SCD\",\"SNES\",\"WS\",\"Wii\",\"WiiU\",\"X360\",\"XB\",\"XOne\"],\"y\":[2.0999999999999996,14.87,8.05,7.449999999999999,4.319999999999999,0.19,10.329999999999998,46.03000000000013,21.69000000000001,15.149999999999993,4.819999999999999,0.6000000000000001,10.49999999999999,0.35,3.2399999999999998,0.14,4.98,0.2,5.029999999999999,1.2300000000000002,10.030000000000001,2.7799999999999994,0.42],\"type\":\"bar\"},{\"marker\":{\"color\":\"rgb(138,72,40)\"},\"name\":\"Puzzle\",\"opacity\":0.75,\"x\":[\"2600\",\"3DO\",\"3DS\",\"DS\",\"GB\",\"GBA\",\"GC\",\"N64\",\"NES\",\"PC\",\"PS\",\"PS2\",\"PS3\",\"PS4\",\"PSP\",\"PSV\",\"SAT\",\"SNES\",\"Wii\",\"WiiU\",\"X360\",\"XB\"],\"y\":[14.68,0.02,5.549999999999999,82.72000000000008,47.469999999999985,12.920000000000005,4.699999999999998,3.4100000000000006,21.000000000000004,0.9200000000000004,12.079999999999998,5.8999999999999995,0.5800000000000001,0.03,5.5200000000000005,0.18,1.0,6.38,15.370000000000001,1.32,0.8500000000000001,0.42000000000000004],\"type\":\"bar\"}],                        {\"barmode\":\"stack\",\"paper_bgcolor\":\"white\",\"plot_bgcolor\":\"white\",\"template\":{\"data\":{\"barpolar\":[{\"marker\":{\"line\":{\"color\":\"#E5ECF6\",\"width\":0.5},\"pattern\":{\"fillmode\":\"overlay\",\"size\":10,\"solidity\":0.2}},\"type\":\"barpolar\"}],\"bar\":[{\"error_x\":{\"color\":\"#2a3f5f\"},\"error_y\":{\"color\":\"#2a3f5f\"},\"marker\":{\"line\":{\"color\":\"#E5ECF6\",\"width\":0.5},\"pattern\":{\"fillmode\":\"overlay\",\"size\":10,\"solidity\":0.2}},\"type\":\"bar\"}],\"carpet\":[{\"aaxis\":{\"endlinecolor\":\"#2a3f5f\",\"gridcolor\":\"white\",\"linecolor\":\"white\",\"minorgridcolor\":\"white\",\"startlinecolor\":\"#2a3f5f\"},\"baxis\":{\"endlinecolor\":\"#2a3f5f\",\"gridcolor\":\"white\",\"linecolor\":\"white\",\"minorgridcolor\":\"white\",\"startlinecolor\":\"#2a3f5f\"},\"type\":\"carpet\"}],\"choropleth\":[{\"colorbar\":{\"outlinewidth\":0,\"ticks\":\"\"},\"type\":\"choropleth\"}],\"contourcarpet\":[{\"colorbar\":{\"outlinewidth\":0,\"ticks\":\"\"},\"type\":\"contourcarpet\"}],\"contour\":[{\"colorbar\":{\"outlinewidth\":0,\"ticks\":\"\"},\"colorscale\":[[0.0,\"#0d0887\"],[0.1111111111111111,\"#46039f\"],[0.2222222222222222,\"#7201a8\"],[0.3333333333333333,\"#9c179e\"],[0.4444444444444444,\"#bd3786\"],[0.5555555555555556,\"#d8576b\"],[0.6666666666666666,\"#ed7953\"],[0.7777777777777778,\"#fb9f3a\"],[0.8888888888888888,\"#fdca26\"],[1.0,\"#f0f921\"]],\"type\":\"contour\"}],\"heatmapgl\":[{\"colorbar\":{\"outlinewidth\":0,\"ticks\":\"\"},\"colorscale\":[[0.0,\"#0d0887\"],[0.1111111111111111,\"#46039f\"],[0.2222222222222222,\"#7201a8\"],[0.3333333333333333,\"#9c179e\"],[0.4444444444444444,\"#bd3786\"],[0.5555555555555556,\"#d8576b\"],[0.6666666666666666,\"#ed7953\"],[0.7777777777777778,\"#fb9f3a\"],[0.8888888888888888,\"#fdca26\"],[1.0,\"#f0f921\"]],\"type\":\"heatmapgl\"}],\"heatmap\":[{\"colorbar\":{\"outlinewidth\":0,\"ticks\":\"\"},\"colorscale\":[[0.0,\"#0d0887\"],[0.1111111111111111,\"#46039f\"],[0.2222222222222222,\"#7201a8\"],[0.3333333333333333,\"#9c179e\"],[0.4444444444444444,\"#bd3786\"],[0.5555555555555556,\"#d8576b\"],[0.6666666666666666,\"#ed7953\"],[0.7777777777777778,\"#fb9f3a\"],[0.8888888888888888,\"#fdca26\"],[1.0,\"#f0f921\"]],\"type\":\"heatmap\"}],\"histogram2dcontour\":[{\"colorbar\":{\"outlinewidth\":0,\"ticks\":\"\"},\"colorscale\":[[0.0,\"#0d0887\"],[0.1111111111111111,\"#46039f\"],[0.2222222222222222,\"#7201a8\"],[0.3333333333333333,\"#9c179e\"],[0.4444444444444444,\"#bd3786\"],[0.5555555555555556,\"#d8576b\"],[0.6666666666666666,\"#ed7953\"],[0.7777777777777778,\"#fb9f3a\"],[0.8888888888888888,\"#fdca26\"],[1.0,\"#f0f921\"]],\"type\":\"histogram2dcontour\"}],\"histogram2d\":[{\"colorbar\":{\"outlinewidth\":0,\"ticks\":\"\"},\"colorscale\":[[0.0,\"#0d0887\"],[0.1111111111111111,\"#46039f\"],[0.2222222222222222,\"#7201a8\"],[0.3333333333333333,\"#9c179e\"],[0.4444444444444444,\"#bd3786\"],[0.5555555555555556,\"#d8576b\"],[0.6666666666666666,\"#ed7953\"],[0.7777777777777778,\"#fb9f3a\"],[0.8888888888888888,\"#fdca26\"],[1.0,\"#f0f921\"]],\"type\":\"histogram2d\"}],\"histogram\":[{\"marker\":{\"pattern\":{\"fillmode\":\"overlay\",\"size\":10,\"solidity\":0.2}},\"type\":\"histogram\"}],\"mesh3d\":[{\"colorbar\":{\"outlinewidth\":0,\"ticks\":\"\"},\"type\":\"mesh3d\"}],\"parcoords\":[{\"line\":{\"colorbar\":{\"outlinewidth\":0,\"ticks\":\"\"}},\"type\":\"parcoords\"}],\"pie\":[{\"automargin\":true,\"type\":\"pie\"}],\"scatter3d\":[{\"line\":{\"colorbar\":{\"outlinewidth\":0,\"ticks\":\"\"}},\"marker\":{\"colorbar\":{\"outlinewidth\":0,\"ticks\":\"\"}},\"type\":\"scatter3d\"}],\"scattercarpet\":[{\"marker\":{\"colorbar\":{\"outlinewidth\":0,\"ticks\":\"\"}},\"type\":\"scattercarpet\"}],\"scattergeo\":[{\"marker\":{\"colorbar\":{\"outlinewidth\":0,\"ticks\":\"\"}},\"type\":\"scattergeo\"}],\"scattergl\":[{\"marker\":{\"colorbar\":{\"outlinewidth\":0,\"ticks\":\"\"}},\"type\":\"scattergl\"}],\"scattermapbox\":[{\"marker\":{\"colorbar\":{\"outlinewidth\":0,\"ticks\":\"\"}},\"type\":\"scattermapbox\"}],\"scatterpolargl\":[{\"marker\":{\"colorbar\":{\"outlinewidth\":0,\"ticks\":\"\"}},\"type\":\"scatterpolargl\"}],\"scatterpolar\":[{\"marker\":{\"colorbar\":{\"outlinewidth\":0,\"ticks\":\"\"}},\"type\":\"scatterpolar\"}],\"scatter\":[{\"marker\":{\"colorbar\":{\"outlinewidth\":0,\"ticks\":\"\"}},\"type\":\"scatter\"}],\"scatterternary\":[{\"marker\":{\"colorbar\":{\"outlinewidth\":0,\"ticks\":\"\"}},\"type\":\"scatterternary\"}],\"surface\":[{\"colorbar\":{\"outlinewidth\":0,\"ticks\":\"\"},\"colorscale\":[[0.0,\"#0d0887\"],[0.1111111111111111,\"#46039f\"],[0.2222222222222222,\"#7201a8\"],[0.3333333333333333,\"#9c179e\"],[0.4444444444444444,\"#bd3786\"],[0.5555555555555556,\"#d8576b\"],[0.6666666666666666,\"#ed7953\"],[0.7777777777777778,\"#fb9f3a\"],[0.8888888888888888,\"#fdca26\"],[1.0,\"#f0f921\"]],\"type\":\"surface\"}],\"table\":[{\"cells\":{\"fill\":{\"color\":\"#EBF0F8\"},\"line\":{\"color\":\"white\"}},\"header\":{\"fill\":{\"color\":\"#C8D4E3\"},\"line\":{\"color\":\"white\"}},\"type\":\"table\"}]},\"layout\":{\"annotationdefaults\":{\"arrowcolor\":\"#2a3f5f\",\"arrowhead\":0,\"arrowwidth\":1},\"autotypenumbers\":\"strict\",\"coloraxis\":{\"colorbar\":{\"outlinewidth\":0,\"ticks\":\"\"}},\"colorscale\":{\"diverging\":[[0,\"#8e0152\"],[0.1,\"#c51b7d\"],[0.2,\"#de77ae\"],[0.3,\"#f1b6da\"],[0.4,\"#fde0ef\"],[0.5,\"#f7f7f7\"],[0.6,\"#e6f5d0\"],[0.7,\"#b8e186\"],[0.8,\"#7fbc41\"],[0.9,\"#4d9221\"],[1,\"#276419\"]],\"sequential\":[[0.0,\"#0d0887\"],[0.1111111111111111,\"#46039f\"],[0.2222222222222222,\"#7201a8\"],[0.3333333333333333,\"#9c179e\"],[0.4444444444444444,\"#bd3786\"],[0.5555555555555556,\"#d8576b\"],[0.6666666666666666,\"#ed7953\"],[0.7777777777777778,\"#fb9f3a\"],[0.8888888888888888,\"#fdca26\"],[1.0,\"#f0f921\"]],\"sequentialminus\":[[0.0,\"#0d0887\"],[0.1111111111111111,\"#46039f\"],[0.2222222222222222,\"#7201a8\"],[0.3333333333333333,\"#9c179e\"],[0.4444444444444444,\"#bd3786\"],[0.5555555555555556,\"#d8576b\"],[0.6666666666666666,\"#ed7953\"],[0.7777777777777778,\"#fb9f3a\"],[0.8888888888888888,\"#fdca26\"],[1.0,\"#f0f921\"]]},\"colorway\":[\"#636efa\",\"#EF553B\",\"#00cc96\",\"#ab63fa\",\"#FFA15A\",\"#19d3f3\",\"#FF6692\",\"#B6E880\",\"#FF97FF\",\"#FECB52\"],\"font\":{\"color\":\"#2a3f5f\"},\"geo\":{\"bgcolor\":\"white\",\"lakecolor\":\"white\",\"landcolor\":\"#E5ECF6\",\"showlakes\":true,\"showland\":true,\"subunitcolor\":\"white\"},\"hoverlabel\":{\"align\":\"left\"},\"hovermode\":\"closest\",\"mapbox\":{\"style\":\"light\"},\"paper_bgcolor\":\"white\",\"plot_bgcolor\":\"#E5ECF6\",\"polar\":{\"angularaxis\":{\"gridcolor\":\"white\",\"linecolor\":\"white\",\"ticks\":\"\"},\"bgcolor\":\"#E5ECF6\",\"radialaxis\":{\"gridcolor\":\"white\",\"linecolor\":\"white\",\"ticks\":\"\"}},\"scene\":{\"xaxis\":{\"backgroundcolor\":\"#E5ECF6\",\"gridcolor\":\"white\",\"gridwidth\":2,\"linecolor\":\"white\",\"showbackground\":true,\"ticks\":\"\",\"zerolinecolor\":\"white\"},\"yaxis\":{\"backgroundcolor\":\"#E5ECF6\",\"gridcolor\":\"white\",\"gridwidth\":2,\"linecolor\":\"white\",\"showbackground\":true,\"ticks\":\"\",\"zerolinecolor\":\"white\"},\"zaxis\":{\"backgroundcolor\":\"#E5ECF6\",\"gridcolor\":\"white\",\"gridwidth\":2,\"linecolor\":\"white\",\"showbackground\":true,\"ticks\":\"\",\"zerolinecolor\":\"white\"}},\"shapedefaults\":{\"line\":{\"color\":\"#2a3f5f\"}},\"ternary\":{\"aaxis\":{\"gridcolor\":\"white\",\"linecolor\":\"white\",\"ticks\":\"\"},\"baxis\":{\"gridcolor\":\"white\",\"linecolor\":\"white\",\"ticks\":\"\"},\"bgcolor\":\"#E5ECF6\",\"caxis\":{\"gridcolor\":\"white\",\"linecolor\":\"white\",\"ticks\":\"\"}},\"title\":{\"x\":0.05},\"xaxis\":{\"automargin\":true,\"gridcolor\":\"white\",\"linecolor\":\"white\",\"ticks\":\"\",\"title\":{\"standoff\":15},\"zerolinecolor\":\"white\",\"zerolinewidth\":2},\"yaxis\":{\"automargin\":true,\"gridcolor\":\"white\",\"linecolor\":\"white\",\"ticks\":\"\",\"title\":{\"standoff\":15},\"zerolinecolor\":\"white\",\"zerolinewidth\":2}}},\"title\":{\"text\":\"Total Global Sales According to Platform and Genre\"},\"xaxis\":{\"title\":{\"text\":\"Platform\"}},\"yaxis\":{\"title\":{\"text\":\"Global Sales(In Millions)\"}}},                        {\"responsive\": true}                    ).then(function(){\n",
       "                            \n",
       "var gd = document.getElementById('9cb3cb4f-c45e-4068-936a-df19a7a5473c');\n",
       "var x = new MutationObserver(function (mutations, observer) {{\n",
       "        var display = window.getComputedStyle(gd).display;\n",
       "        if (!display || display === 'none') {{\n",
       "            console.log([gd, 'removed!']);\n",
       "            Plotly.purge(gd);\n",
       "            observer.disconnect();\n",
       "        }}\n",
       "}});\n",
       "\n",
       "// Listen for the removal of the full notebook cells\n",
       "var notebookContainer = gd.closest('#notebook-container');\n",
       "if (notebookContainer) {{\n",
       "    x.observe(notebookContainer, {childList: true});\n",
       "}}\n",
       "\n",
       "// Listen for the clearing of the current output cell\n",
       "var outputEl = gd.closest('.output');\n",
       "if (outputEl) {{\n",
       "    x.observe(outputEl, {childList: true});\n",
       "}}\n",
       "\n",
       "                        })                };                });            </script>        </div>"
      ]
     },
     "metadata": {},
     "output_type": "display_data"
    }
   ],
   "source": [
    "#Settting up the bars for the visualization and making graph look pretty  \n",
    "bar1 = go.Bar(\n",
    "    x=action.groupby(\"Platform\")[\"Global_Sales\"].sum().index,\n",
    "    y=action.groupby(\"Platform\")[\"Global_Sales\"].sum().values,\n",
    "    opacity=0.75,\n",
    "    name = \"Action\",\n",
    "    marker=dict(color=\"rgb(119,172,238)\"))\n",
    "bar2 = go.Bar(\n",
    "    x=sports.groupby(\"Platform\")[\"Global_Sales\"].sum().index,\n",
    "    y=sports.groupby(\"Platform\")[\"Global_Sales\"].sum().values,\n",
    "    opacity=0.75,\n",
    "    name = \"Sports\",\n",
    "    marker=dict(color='rgb(21,90,174)'))\n",
    "bar3 = go.Bar(\n",
    "    x=race.groupby(\"Platform\")[\"Global_Sales\"].sum().index,\n",
    "    y=race.groupby(\"Platform\")[\"Global_Sales\"].sum().values,\n",
    "    opacity=0.75,\n",
    "    name = \"Racing\",\n",
    "    marker=dict(color=\"rgb(156,245,163)\"))\n",
    "bar4 = go.Bar(\n",
    "    x=shooter.groupby(\"Platform\")[\"Global_Sales\"].sum().index,\n",
    "    y=shooter.groupby(\"Platform\")[\"Global_Sales\"].sum().values,\n",
    "    opacity=0.75,\n",
    "    name = \"Shooter\",\n",
    "    marker=dict(color=\"rgb(14,135,23)\"))\n",
    "bar5 = go.Bar(\n",
    "    x=misc.groupby(\"Platform\")[\"Global_Sales\"].sum().index,\n",
    "    y=misc.groupby(\"Platform\")[\"Global_Sales\"].sum().values,\n",
    "    opacity=0.75,\n",
    "    name = \"Misc\",\n",
    "    marker=dict(color='rgb(252,118,103)'))\n",
    "bar6 = go.Bar(\n",
    "    x=role.groupby(\"Platform\")[\"Global_Sales\"].sum().index,\n",
    "    y=role.groupby(\"Platform\")[\"Global_Sales\"].sum().values,\n",
    "    opacity=0.75,\n",
    "    name = \"Role Playing\",\n",
    "    marker=dict(color=\"rgb(226,28,5)\"))\n",
    "bar7 = go.Bar(\n",
    "    x=fight.groupby(\"Platform\")[\"Global_Sales\"].sum().index,\n",
    "    y=fight.groupby(\"Platform\")[\"Global_Sales\"].sum().values,\n",
    "    opacity=0.75,\n",
    "    name = \"Fighting\",\n",
    "    marker=dict(color=\"rgb(247,173,13)\"))\n",
    "bar8 = go.Bar(\n",
    "    x=platform.groupby(\"Platform\")[\"Global_Sales\"].sum().index,\n",
    "    y=platform.groupby(\"Platform\")[\"Global_Sales\"].sum().values,\n",
    "    opacity=0.75,\n",
    "    name = \"Platform\",\n",
    "    marker=dict(color=\"rgb(242,122,13)\"))\n",
    "bar9 = go.Bar(\n",
    "    x=simulation.groupby(\"Platform\")[\"Global_Sales\"].sum().index,\n",
    "    y=simulation.groupby(\"Platform\")[\"Global_Sales\"].sum().values,\n",
    "    opacity=0.75,\n",
    "    name = \"Simulation\",\n",
    "    marker=dict(color=\"rgb(188,145,202)\"))\n",
    "bar10 = go.Bar(\n",
    "    x=adventure.groupby(\"Platform\")[\"Global_Sales\"].sum().index,\n",
    "    y=adventure.groupby(\"Platform\")[\"Global_Sales\"].sum().values,\n",
    "    opacity=0.75,\n",
    "    name = \"Adventure\",\n",
    "    marker=dict(color='rgb(104,57,119)'))\n",
    "bar11 = go.Bar(\n",
    "    x=strategy.groupby(\"Platform\")[\"Global_Sales\"].sum().index,\n",
    "    y=strategy.groupby(\"Platform\")[\"Global_Sales\"].sum().values,\n",
    "    opacity=0.75,\n",
    "    name = \"Strategy\",\n",
    "    marker=dict(color='rgb(245,253,104)'))\n",
    "bar12 = go.Bar(\n",
    "    x=puzzle.groupby(\"Platform\")[\"Global_Sales\"].sum().index,\n",
    "    y=puzzle.groupby(\"Platform\")[\"Global_Sales\"].sum().values,\n",
    "    opacity=0.75,\n",
    "    name = \"Puzzle\",\n",
    "    marker=dict(color='rgb(138,72,40)'))\n",
    "\n",
    "data = [bar1, bar2,bar3,bar4,bar5,bar6,bar7,bar8,bar9,bar10,bar11,bar12]\n",
    "layout = go.Layout(barmode='stack',\n",
    "                   title='Total Global Sales According to Platform and Genre',\n",
    "                   xaxis=dict(title='Platform'),\n",
    "                   yaxis=dict( title='Global Sales(In Millions)'),\n",
    "                   paper_bgcolor='white',\n",
    "                   plot_bgcolor='white'\n",
    ")\n",
    "fig = go.Figure(data=data, layout=layout)\n",
    "iplot(fig)"
   ]
  },
  {
   "cell_type": "code",
   "execution_count": 5,
   "id": "8677a112",
   "metadata": {},
   "outputs": [],
   "source": [
    "#Grouping Genre based on the total sales of erach region and adding a counts column to original variable assignment\n",
    "genre=pd.DataFrame(total_sales.groupby(\"Genre\")[[\"NA_Sales\",\"EU_Sales\",\"JP_Sales\",\"Other_Sales\",\"Global_Sales\"]].sum())\n",
    "genre.reset_index(level=0, inplace=True)\n",
    "genrecount=pd.DataFrame(total_sales[\"Genre\"].value_counts())\n",
    "genrecount.reset_index(level=0, inplace=True)\n",
    "genrecount.rename(columns={\"Genre\": \"Counts\",\"index\":\"Genre\"}, inplace=True)\n",
    "\n",
    "genre=pd.merge(genre,genrecount,on=\"Genre\")"
   ]
  },
  {
   "cell_type": "code",
   "execution_count": 6,
   "id": "84599cad",
   "metadata": {},
   "outputs": [
    {
     "data": {
      "text/html": [
       "<div>\n",
       "<style scoped>\n",
       "    .dataframe tbody tr th:only-of-type {\n",
       "        vertical-align: middle;\n",
       "    }\n",
       "\n",
       "    .dataframe tbody tr th {\n",
       "        vertical-align: top;\n",
       "    }\n",
       "\n",
       "    .dataframe thead th {\n",
       "        text-align: right;\n",
       "    }\n",
       "</style>\n",
       "<table border=\"1\" class=\"dataframe\">\n",
       "  <thead>\n",
       "    <tr style=\"text-align: right;\">\n",
       "      <th></th>\n",
       "      <th>Genre</th>\n",
       "      <th>NA_Sales</th>\n",
       "      <th>EU_Sales</th>\n",
       "      <th>JP_Sales</th>\n",
       "      <th>Other_Sales</th>\n",
       "      <th>Global_Sales</th>\n",
       "      <th>Counts</th>\n",
       "    </tr>\n",
       "  </thead>\n",
       "  <tbody>\n",
       "    <tr>\n",
       "      <th>0</th>\n",
       "      <td>Action</td>\n",
       "      <td>879.01</td>\n",
       "      <td>519.13</td>\n",
       "      <td>161.44</td>\n",
       "      <td>184.60</td>\n",
       "      <td>1745.27</td>\n",
       "      <td>3370</td>\n",
       "    </tr>\n",
       "    <tr>\n",
       "      <th>1</th>\n",
       "      <td>Adventure</td>\n",
       "      <td>105.26</td>\n",
       "      <td>63.54</td>\n",
       "      <td>52.30</td>\n",
       "      <td>16.49</td>\n",
       "      <td>237.69</td>\n",
       "      <td>1303</td>\n",
       "    </tr>\n",
       "    <tr>\n",
       "      <th>2</th>\n",
       "      <td>Fighting</td>\n",
       "      <td>223.36</td>\n",
       "      <td>100.33</td>\n",
       "      <td>87.48</td>\n",
       "      <td>36.36</td>\n",
       "      <td>447.48</td>\n",
       "      <td>849</td>\n",
       "    </tr>\n",
       "    <tr>\n",
       "      <th>3</th>\n",
       "      <td>Misc</td>\n",
       "      <td>407.27</td>\n",
       "      <td>212.74</td>\n",
       "      <td>108.11</td>\n",
       "      <td>74.39</td>\n",
       "      <td>803.18</td>\n",
       "      <td>1750</td>\n",
       "    </tr>\n",
       "    <tr>\n",
       "      <th>4</th>\n",
       "      <td>Platform</td>\n",
       "      <td>445.50</td>\n",
       "      <td>200.35</td>\n",
       "      <td>130.83</td>\n",
       "      <td>51.09</td>\n",
       "      <td>828.08</td>\n",
       "      <td>888</td>\n",
       "    </tr>\n",
       "    <tr>\n",
       "      <th>5</th>\n",
       "      <td>Puzzle</td>\n",
       "      <td>122.87</td>\n",
       "      <td>50.01</td>\n",
       "      <td>57.31</td>\n",
       "      <td>12.38</td>\n",
       "      <td>243.02</td>\n",
       "      <td>580</td>\n",
       "    </tr>\n",
       "    <tr>\n",
       "      <th>6</th>\n",
       "      <td>Racing</td>\n",
       "      <td>359.35</td>\n",
       "      <td>236.51</td>\n",
       "      <td>56.71</td>\n",
       "      <td>76.10</td>\n",
       "      <td>728.90</td>\n",
       "      <td>1249</td>\n",
       "    </tr>\n",
       "    <tr>\n",
       "      <th>7</th>\n",
       "      <td>Role-Playing</td>\n",
       "      <td>330.81</td>\n",
       "      <td>188.71</td>\n",
       "      <td>355.46</td>\n",
       "      <td>59.63</td>\n",
       "      <td>934.40</td>\n",
       "      <td>1500</td>\n",
       "    </tr>\n",
       "    <tr>\n",
       "      <th>8</th>\n",
       "      <td>Shooter</td>\n",
       "      <td>592.24</td>\n",
       "      <td>317.34</td>\n",
       "      <td>38.76</td>\n",
       "      <td>104.11</td>\n",
       "      <td>1052.94</td>\n",
       "      <td>1323</td>\n",
       "    </tr>\n",
       "    <tr>\n",
       "      <th>9</th>\n",
       "      <td>Simulation</td>\n",
       "      <td>182.19</td>\n",
       "      <td>113.52</td>\n",
       "      <td>63.80</td>\n",
       "      <td>30.75</td>\n",
       "      <td>390.42</td>\n",
       "      <td>874</td>\n",
       "    </tr>\n",
       "    <tr>\n",
       "      <th>10</th>\n",
       "      <td>Sports</td>\n",
       "      <td>684.43</td>\n",
       "      <td>376.79</td>\n",
       "      <td>135.54</td>\n",
       "      <td>134.51</td>\n",
       "      <td>1332.00</td>\n",
       "      <td>2348</td>\n",
       "    </tr>\n",
       "    <tr>\n",
       "      <th>11</th>\n",
       "      <td>Strategy</td>\n",
       "      <td>68.55</td>\n",
       "      <td>45.17</td>\n",
       "      <td>49.66</td>\n",
       "      <td>10.85</td>\n",
       "      <td>174.50</td>\n",
       "      <td>683</td>\n",
       "    </tr>\n",
       "  </tbody>\n",
       "</table>\n",
       "</div>"
      ],
      "text/plain": [
       "           Genre  NA_Sales  EU_Sales  JP_Sales  Other_Sales  Global_Sales  \\\n",
       "0         Action    879.01    519.13    161.44       184.60       1745.27   \n",
       "1      Adventure    105.26     63.54     52.30        16.49        237.69   \n",
       "2       Fighting    223.36    100.33     87.48        36.36        447.48   \n",
       "3           Misc    407.27    212.74    108.11        74.39        803.18   \n",
       "4       Platform    445.50    200.35    130.83        51.09        828.08   \n",
       "5         Puzzle    122.87     50.01     57.31        12.38        243.02   \n",
       "6         Racing    359.35    236.51     56.71        76.10        728.90   \n",
       "7   Role-Playing    330.81    188.71    355.46        59.63        934.40   \n",
       "8        Shooter    592.24    317.34     38.76       104.11       1052.94   \n",
       "9     Simulation    182.19    113.52     63.80        30.75        390.42   \n",
       "10        Sports    684.43    376.79    135.54       134.51       1332.00   \n",
       "11      Strategy     68.55     45.17     49.66        10.85        174.50   \n",
       "\n",
       "    Counts  \n",
       "0     3370  \n",
       "1     1303  \n",
       "2      849  \n",
       "3     1750  \n",
       "4      888  \n",
       "5      580  \n",
       "6     1249  \n",
       "7     1500  \n",
       "8     1323  \n",
       "9      874  \n",
       "10    2348  \n",
       "11     683  "
      ]
     },
     "execution_count": 6,
     "metadata": {},
     "output_type": "execute_result"
    }
   ],
   "source": [
    "#displaying Genre and Total Sales by Region \n",
    "genre"
   ]
  },
  {
   "cell_type": "code",
   "execution_count": 7,
   "id": "c43ea205",
   "metadata": {},
   "outputs": [],
   "source": [
    "# Setting up the data tables that will be used for second visualization #\n",
    "column_table=genre[[\"Genre\",\"NA_Sales\",\"EU_Sales\",\"JP_Sales\",\"Other_Sales\",\"Global_Sales\"]]\n",
    "column_table = column_table.rename(columns = {\"NA_Sales\": \"North America\", \n",
    "                                  \"EU_Sales\":\"Europe\", \n",
    "                                  \"JP_Sales\": \"Japan\",\"Other_Sales\":\"Other\",\"Global_Sales\":\"Total\"})"
   ]
  },
  {
   "cell_type": "code",
   "execution_count": 8,
   "id": "a260138b",
   "metadata": {},
   "outputs": [
    {
     "data": {
      "application/vnd.plotly.v1+json": {
       "config": {
        "linkText": "Export to plot.ly",
        "plotlyServerURL": "https://plot.ly",
        "showLink": false
       },
       "data": [
        {
         "marker": {
          "color": "rgb(158,202,225)",
          "line": {
           "color": "rgb(8,48,107)",
           "width": 3
          }
         },
         "name": "North America",
         "opacity": 0.75,
         "type": "bar",
         "x": [
          "Action",
          "Adventure",
          "Fighting",
          "Misc",
          "Platform",
          "Puzzle",
          "Racing",
          "Role-Playing",
          "Shooter",
          "Simulation",
          "Sports",
          "Strategy"
         ],
         "xaxis": "x2",
         "y": [
          50.36527299500969,
          44.2845723421261,
          49.91508000357572,
          50.70718892402726,
          53.79914984059524,
          50.559624722245,
          49.30031554397038,
          35.40346746575356,
          56.24631982829109,
          46.66512986015105,
          51.383633633633984,
          39.283667621776445
         ],
         "yaxis": "y2"
        },
        {
         "marker": {
          "color": "red",
          "line": {
           "color": "rgb(8,48,107)",
           "width": 3
          }
         },
         "name": "Europe",
         "opacity": 0.75,
         "type": "bar",
         "x": [
          "Action",
          "Adventure",
          "Fighting",
          "Misc",
          "Platform",
          "Puzzle",
          "Racing",
          "Role-Playing",
          "Shooter",
          "Simulation",
          "Sports",
          "Strategy"
         ],
         "xaxis": "x2",
         "y": [
          29.744967827327308,
          26.732298371828744,
          22.421113792795293,
          26.487213327025337,
          24.194522268380002,
          20.57855320549742,
          32.447523665798066,
          20.1958476027399,
          30.138469428457793,
          29.076379283848397,
          28.28753753753743,
          25.885386819484197
         ],
         "yaxis": "y2"
        },
        {
         "marker": {
          "color": "orange",
          "line": {
           "color": "rgb(8,48,107)",
           "width": 3
          }
         },
         "name": "Japan",
         "opacity": 0.75,
         "type": "bar",
         "x": [
          "Action",
          "Adventure",
          "Fighting",
          "Misc",
          "Platform",
          "Puzzle",
          "Racing",
          "Role-Playing",
          "Shooter",
          "Simulation",
          "Sports",
          "Strategy"
         ],
         "xaxis": "x2",
         "y": [
          9.250144676755095,
          22.003449871681614,
          19.549477071601036,
          13.460245524042024,
          15.799198145106832,
          23.58242119990117,
          7.780216764988397,
          38.04152397260275,
          3.681121431420683,
          16.341375954100833,
          10.175675675675814,
          28.458452722062972
         ],
         "yaxis": "y2"
        },
        {
         "marker": {
          "color": "purple",
          "line": {
           "color": "rgb(8,48,107)",
           "width": 3
          }
         },
         "name": "Other",
         "opacity": 0.75,
         "type": "bar",
         "x": [
          "Action",
          "Adventure",
          "Fighting",
          "Misc",
          "Platform",
          "Puzzle",
          "Racing",
          "Role-Playing",
          "Shooter",
          "Simulation",
          "Sports",
          "Strategy"
         ],
         "xaxis": "x2",
         "y": [
          10.577159980977177,
          6.93760780849,
          8.125502815768307,
          9.261933813093194,
          6.169693749396194,
          5.09423092749564,
          10.44038962820711,
          6.381635273972637,
          9.887552946986848,
          7.876133394805722,
          10.09834834834828,
          6.2177650429798845
         ],
         "yaxis": "y2"
        },
        {
         "cells": {
          "align": [
           "left",
           "center"
          ],
          "fill": {
           "color": [
            "silver",
            "rgb(158,202,225)",
            "darksalmon",
            "gold",
            "mediumorchid",
            "yellowgreen"
           ]
          },
          "font": {
           "color": "#506784",
           "size": 12
          },
          "height": 30,
          "line": {
           "color": "rgb(8,48,107)",
           "width": 3
          },
          "values": [
           [
            "Action",
            "Adventure",
            "Fighting",
            "Misc",
            "Platform",
            "Puzzle",
            "Racing",
            "Role-Playing",
            "Shooter",
            "Simulation",
            "Sports",
            "Strategy"
           ],
           [
            879,
            105,
            223,
            407,
            445,
            123,
            359,
            331,
            592,
            182,
            684,
            69
           ],
           [
            519,
            64,
            100,
            213,
            200,
            50,
            237,
            189,
            317,
            114,
            377,
            45
           ],
           [
            161,
            52,
            87,
            108,
            131,
            57,
            57,
            355,
            39,
            64,
            136,
            50
           ],
           [
            185,
            16,
            36,
            74,
            51,
            12,
            76,
            60,
            104,
            31,
            135,
            11
           ],
           [
            1745,
            238,
            447,
            803,
            828,
            243,
            729,
            934,
            1053,
            390,
            1332,
            175
           ]
          ]
         },
         "domain": {
          "x": [
           0.6,
           1
          ],
          "y": [
           0,
           0.95
          ]
         },
         "header": {
          "align": [
           "left",
           "center"
          ],
          "fill": {
           "color": [
            "darkslateblue",
            "blue",
            "red",
            "orange",
            "purple",
            "green"
           ]
          },
          "font": {
           "color": "white",
           "size": 12
          },
          "height": 30,
          "line": {
           "color": "rgb(8,48,107)",
           "width": 3
          },
          "values": [
           "Genre",
           "North America",
           "Europe",
           "Japan",
           "Other",
           "Total"
          ]
         },
         "type": "table"
        }
       ],
       "layout": {
        "annotations": [
         {
          "bgcolor": "lightyellow",
          "borderwidth": 5,
          "font": {
           "family": "Courier New, monospace",
           "size": 15
          },
          "showarrow": false,
          "text": "Sales Percentage According to Region",
          "x": 0.08,
          "xref": "paper",
          "y": 1.02,
          "yref": "paper"
         },
         {
          "bgcolor": "lightyellow",
          "borderwidth": 5,
          "font": {
           "family": "Courier New, monospace",
           "size": 15
          },
          "showarrow": false,
          "text": "Total Sales(In Millions)",
          "x": 0.9,
          "xref": "paper",
          "y": 1.02,
          "yref": "paper"
         }
        ],
        "autosize": false,
        "barmode": "stack",
        "height": 650,
        "legend": {
         "bgcolor": "white",
         "bordercolor": "white",
         "borderwidth": 1,
         "font": {
          "color": "#000",
          "family": "Courier New, monospace",
          "size": 11
         },
         "orientation": "h",
         "x": 0.58,
         "y": 0
        },
        "paper_bgcolor": "white",
        "plot_bgcolor": "white",
        "template": {
         "data": {
          "bar": [
           {
            "error_x": {
             "color": "#2a3f5f"
            },
            "error_y": {
             "color": "#2a3f5f"
            },
            "marker": {
             "line": {
              "color": "#E5ECF6",
              "width": 0.5
             },
             "pattern": {
              "fillmode": "overlay",
              "size": 10,
              "solidity": 0.2
             }
            },
            "type": "bar"
           }
          ],
          "barpolar": [
           {
            "marker": {
             "line": {
              "color": "#E5ECF6",
              "width": 0.5
             },
             "pattern": {
              "fillmode": "overlay",
              "size": 10,
              "solidity": 0.2
             }
            },
            "type": "barpolar"
           }
          ],
          "carpet": [
           {
            "aaxis": {
             "endlinecolor": "#2a3f5f",
             "gridcolor": "white",
             "linecolor": "white",
             "minorgridcolor": "white",
             "startlinecolor": "#2a3f5f"
            },
            "baxis": {
             "endlinecolor": "#2a3f5f",
             "gridcolor": "white",
             "linecolor": "white",
             "minorgridcolor": "white",
             "startlinecolor": "#2a3f5f"
            },
            "type": "carpet"
           }
          ],
          "choropleth": [
           {
            "colorbar": {
             "outlinewidth": 0,
             "ticks": ""
            },
            "type": "choropleth"
           }
          ],
          "contour": [
           {
            "colorbar": {
             "outlinewidth": 0,
             "ticks": ""
            },
            "colorscale": [
             [
              0,
              "#0d0887"
             ],
             [
              0.1111111111111111,
              "#46039f"
             ],
             [
              0.2222222222222222,
              "#7201a8"
             ],
             [
              0.3333333333333333,
              "#9c179e"
             ],
             [
              0.4444444444444444,
              "#bd3786"
             ],
             [
              0.5555555555555556,
              "#d8576b"
             ],
             [
              0.6666666666666666,
              "#ed7953"
             ],
             [
              0.7777777777777778,
              "#fb9f3a"
             ],
             [
              0.8888888888888888,
              "#fdca26"
             ],
             [
              1,
              "#f0f921"
             ]
            ],
            "type": "contour"
           }
          ],
          "contourcarpet": [
           {
            "colorbar": {
             "outlinewidth": 0,
             "ticks": ""
            },
            "type": "contourcarpet"
           }
          ],
          "heatmap": [
           {
            "colorbar": {
             "outlinewidth": 0,
             "ticks": ""
            },
            "colorscale": [
             [
              0,
              "#0d0887"
             ],
             [
              0.1111111111111111,
              "#46039f"
             ],
             [
              0.2222222222222222,
              "#7201a8"
             ],
             [
              0.3333333333333333,
              "#9c179e"
             ],
             [
              0.4444444444444444,
              "#bd3786"
             ],
             [
              0.5555555555555556,
              "#d8576b"
             ],
             [
              0.6666666666666666,
              "#ed7953"
             ],
             [
              0.7777777777777778,
              "#fb9f3a"
             ],
             [
              0.8888888888888888,
              "#fdca26"
             ],
             [
              1,
              "#f0f921"
             ]
            ],
            "type": "heatmap"
           }
          ],
          "heatmapgl": [
           {
            "colorbar": {
             "outlinewidth": 0,
             "ticks": ""
            },
            "colorscale": [
             [
              0,
              "#0d0887"
             ],
             [
              0.1111111111111111,
              "#46039f"
             ],
             [
              0.2222222222222222,
              "#7201a8"
             ],
             [
              0.3333333333333333,
              "#9c179e"
             ],
             [
              0.4444444444444444,
              "#bd3786"
             ],
             [
              0.5555555555555556,
              "#d8576b"
             ],
             [
              0.6666666666666666,
              "#ed7953"
             ],
             [
              0.7777777777777778,
              "#fb9f3a"
             ],
             [
              0.8888888888888888,
              "#fdca26"
             ],
             [
              1,
              "#f0f921"
             ]
            ],
            "type": "heatmapgl"
           }
          ],
          "histogram": [
           {
            "marker": {
             "pattern": {
              "fillmode": "overlay",
              "size": 10,
              "solidity": 0.2
             }
            },
            "type": "histogram"
           }
          ],
          "histogram2d": [
           {
            "colorbar": {
             "outlinewidth": 0,
             "ticks": ""
            },
            "colorscale": [
             [
              0,
              "#0d0887"
             ],
             [
              0.1111111111111111,
              "#46039f"
             ],
             [
              0.2222222222222222,
              "#7201a8"
             ],
             [
              0.3333333333333333,
              "#9c179e"
             ],
             [
              0.4444444444444444,
              "#bd3786"
             ],
             [
              0.5555555555555556,
              "#d8576b"
             ],
             [
              0.6666666666666666,
              "#ed7953"
             ],
             [
              0.7777777777777778,
              "#fb9f3a"
             ],
             [
              0.8888888888888888,
              "#fdca26"
             ],
             [
              1,
              "#f0f921"
             ]
            ],
            "type": "histogram2d"
           }
          ],
          "histogram2dcontour": [
           {
            "colorbar": {
             "outlinewidth": 0,
             "ticks": ""
            },
            "colorscale": [
             [
              0,
              "#0d0887"
             ],
             [
              0.1111111111111111,
              "#46039f"
             ],
             [
              0.2222222222222222,
              "#7201a8"
             ],
             [
              0.3333333333333333,
              "#9c179e"
             ],
             [
              0.4444444444444444,
              "#bd3786"
             ],
             [
              0.5555555555555556,
              "#d8576b"
             ],
             [
              0.6666666666666666,
              "#ed7953"
             ],
             [
              0.7777777777777778,
              "#fb9f3a"
             ],
             [
              0.8888888888888888,
              "#fdca26"
             ],
             [
              1,
              "#f0f921"
             ]
            ],
            "type": "histogram2dcontour"
           }
          ],
          "mesh3d": [
           {
            "colorbar": {
             "outlinewidth": 0,
             "ticks": ""
            },
            "type": "mesh3d"
           }
          ],
          "parcoords": [
           {
            "line": {
             "colorbar": {
              "outlinewidth": 0,
              "ticks": ""
             }
            },
            "type": "parcoords"
           }
          ],
          "pie": [
           {
            "automargin": true,
            "type": "pie"
           }
          ],
          "scatter": [
           {
            "marker": {
             "colorbar": {
              "outlinewidth": 0,
              "ticks": ""
             }
            },
            "type": "scatter"
           }
          ],
          "scatter3d": [
           {
            "line": {
             "colorbar": {
              "outlinewidth": 0,
              "ticks": ""
             }
            },
            "marker": {
             "colorbar": {
              "outlinewidth": 0,
              "ticks": ""
             }
            },
            "type": "scatter3d"
           }
          ],
          "scattercarpet": [
           {
            "marker": {
             "colorbar": {
              "outlinewidth": 0,
              "ticks": ""
             }
            },
            "type": "scattercarpet"
           }
          ],
          "scattergeo": [
           {
            "marker": {
             "colorbar": {
              "outlinewidth": 0,
              "ticks": ""
             }
            },
            "type": "scattergeo"
           }
          ],
          "scattergl": [
           {
            "marker": {
             "colorbar": {
              "outlinewidth": 0,
              "ticks": ""
             }
            },
            "type": "scattergl"
           }
          ],
          "scattermapbox": [
           {
            "marker": {
             "colorbar": {
              "outlinewidth": 0,
              "ticks": ""
             }
            },
            "type": "scattermapbox"
           }
          ],
          "scatterpolar": [
           {
            "marker": {
             "colorbar": {
              "outlinewidth": 0,
              "ticks": ""
             }
            },
            "type": "scatterpolar"
           }
          ],
          "scatterpolargl": [
           {
            "marker": {
             "colorbar": {
              "outlinewidth": 0,
              "ticks": ""
             }
            },
            "type": "scatterpolargl"
           }
          ],
          "scatterternary": [
           {
            "marker": {
             "colorbar": {
              "outlinewidth": 0,
              "ticks": ""
             }
            },
            "type": "scatterternary"
           }
          ],
          "surface": [
           {
            "colorbar": {
             "outlinewidth": 0,
             "ticks": ""
            },
            "colorscale": [
             [
              0,
              "#0d0887"
             ],
             [
              0.1111111111111111,
              "#46039f"
             ],
             [
              0.2222222222222222,
              "#7201a8"
             ],
             [
              0.3333333333333333,
              "#9c179e"
             ],
             [
              0.4444444444444444,
              "#bd3786"
             ],
             [
              0.5555555555555556,
              "#d8576b"
             ],
             [
              0.6666666666666666,
              "#ed7953"
             ],
             [
              0.7777777777777778,
              "#fb9f3a"
             ],
             [
              0.8888888888888888,
              "#fdca26"
             ],
             [
              1,
              "#f0f921"
             ]
            ],
            "type": "surface"
           }
          ],
          "table": [
           {
            "cells": {
             "fill": {
              "color": "#EBF0F8"
             },
             "line": {
              "color": "white"
             }
            },
            "header": {
             "fill": {
              "color": "#C8D4E3"
             },
             "line": {
              "color": "white"
             }
            },
            "type": "table"
           }
          ]
         },
         "layout": {
          "annotationdefaults": {
           "arrowcolor": "#2a3f5f",
           "arrowhead": 0,
           "arrowwidth": 1
          },
          "autotypenumbers": "strict",
          "coloraxis": {
           "colorbar": {
            "outlinewidth": 0,
            "ticks": ""
           }
          },
          "colorscale": {
           "diverging": [
            [
             0,
             "#8e0152"
            ],
            [
             0.1,
             "#c51b7d"
            ],
            [
             0.2,
             "#de77ae"
            ],
            [
             0.3,
             "#f1b6da"
            ],
            [
             0.4,
             "#fde0ef"
            ],
            [
             0.5,
             "#f7f7f7"
            ],
            [
             0.6,
             "#e6f5d0"
            ],
            [
             0.7,
             "#b8e186"
            ],
            [
             0.8,
             "#7fbc41"
            ],
            [
             0.9,
             "#4d9221"
            ],
            [
             1,
             "#276419"
            ]
           ],
           "sequential": [
            [
             0,
             "#0d0887"
            ],
            [
             0.1111111111111111,
             "#46039f"
            ],
            [
             0.2222222222222222,
             "#7201a8"
            ],
            [
             0.3333333333333333,
             "#9c179e"
            ],
            [
             0.4444444444444444,
             "#bd3786"
            ],
            [
             0.5555555555555556,
             "#d8576b"
            ],
            [
             0.6666666666666666,
             "#ed7953"
            ],
            [
             0.7777777777777778,
             "#fb9f3a"
            ],
            [
             0.8888888888888888,
             "#fdca26"
            ],
            [
             1,
             "#f0f921"
            ]
           ],
           "sequentialminus": [
            [
             0,
             "#0d0887"
            ],
            [
             0.1111111111111111,
             "#46039f"
            ],
            [
             0.2222222222222222,
             "#7201a8"
            ],
            [
             0.3333333333333333,
             "#9c179e"
            ],
            [
             0.4444444444444444,
             "#bd3786"
            ],
            [
             0.5555555555555556,
             "#d8576b"
            ],
            [
             0.6666666666666666,
             "#ed7953"
            ],
            [
             0.7777777777777778,
             "#fb9f3a"
            ],
            [
             0.8888888888888888,
             "#fdca26"
            ],
            [
             1,
             "#f0f921"
            ]
           ]
          },
          "colorway": [
           "#636efa",
           "#EF553B",
           "#00cc96",
           "#ab63fa",
           "#FFA15A",
           "#19d3f3",
           "#FF6692",
           "#B6E880",
           "#FF97FF",
           "#FECB52"
          ],
          "font": {
           "color": "#2a3f5f"
          },
          "geo": {
           "bgcolor": "white",
           "lakecolor": "white",
           "landcolor": "#E5ECF6",
           "showlakes": true,
           "showland": true,
           "subunitcolor": "white"
          },
          "hoverlabel": {
           "align": "left"
          },
          "hovermode": "closest",
          "mapbox": {
           "style": "light"
          },
          "paper_bgcolor": "white",
          "plot_bgcolor": "#E5ECF6",
          "polar": {
           "angularaxis": {
            "gridcolor": "white",
            "linecolor": "white",
            "ticks": ""
           },
           "bgcolor": "#E5ECF6",
           "radialaxis": {
            "gridcolor": "white",
            "linecolor": "white",
            "ticks": ""
           }
          },
          "scene": {
           "xaxis": {
            "backgroundcolor": "#E5ECF6",
            "gridcolor": "white",
            "gridwidth": 2,
            "linecolor": "white",
            "showbackground": true,
            "ticks": "",
            "zerolinecolor": "white"
           },
           "yaxis": {
            "backgroundcolor": "#E5ECF6",
            "gridcolor": "white",
            "gridwidth": 2,
            "linecolor": "white",
            "showbackground": true,
            "ticks": "",
            "zerolinecolor": "white"
           },
           "zaxis": {
            "backgroundcolor": "#E5ECF6",
            "gridcolor": "white",
            "gridwidth": 2,
            "linecolor": "white",
            "showbackground": true,
            "ticks": "",
            "zerolinecolor": "white"
           }
          },
          "shapedefaults": {
           "line": {
            "color": "#2a3f5f"
           }
          },
          "ternary": {
           "aaxis": {
            "gridcolor": "white",
            "linecolor": "white",
            "ticks": ""
           },
           "baxis": {
            "gridcolor": "white",
            "linecolor": "white",
            "ticks": ""
           },
           "bgcolor": "#E5ECF6",
           "caxis": {
            "gridcolor": "white",
            "linecolor": "white",
            "ticks": ""
           }
          },
          "title": {
           "x": 0.05
          },
          "xaxis": {
           "automargin": true,
           "gridcolor": "white",
           "linecolor": "white",
           "ticks": "",
           "title": {
            "standoff": 15
           },
           "zerolinecolor": "white",
           "zerolinewidth": 2
          },
          "yaxis": {
           "automargin": true,
           "gridcolor": "white",
           "linecolor": "white",
           "ticks": "",
           "title": {
            "standoff": 15
           },
           "zerolinecolor": "white",
           "zerolinewidth": 2
          }
         }
        },
        "title": {
         "font": {
          "color": "black",
          "family": "Courier New, monospace",
          "size": 17
         },
         "text": "North America, Europe, Japan and Other Sales Percentage and Amounts According to Genre"
        },
        "width": 1200,
        "xaxis2": {
         "anchor": "y2",
         "domain": [
          0,
          0.5
         ],
         "tickfont": {
          "family": "Courier New, monospace"
         },
         "title": {
          "font": {
           "family": "Courier New, monospace"
          },
          "text": "Genre"
         }
        },
        "yaxis2": {
         "anchor": "x2",
         "domain": [
          0,
          1
         ],
         "tickfont": {
          "family": "Courier New, monospace"
         },
         "title": {
          "font": {
           "family": "Courier New, monospace"
          },
          "text": "Total Percentage"
         }
        }
       }
      },
      "text/html": [
       "<div>                            <div id=\"0e81e5a1-0a98-4dee-adf2-a7b02363393d\" class=\"plotly-graph-div\" style=\"height:650px; width:1200px;\"></div>            <script type=\"text/javascript\">                require([\"plotly\"], function(Plotly) {                    window.PLOTLYENV=window.PLOTLYENV || {};                                    if (document.getElementById(\"0e81e5a1-0a98-4dee-adf2-a7b02363393d\")) {                    Plotly.newPlot(                        \"0e81e5a1-0a98-4dee-adf2-a7b02363393d\",                        [{\"marker\":{\"color\":\"rgb(158,202,225)\",\"line\":{\"color\":\"rgb(8,48,107)\",\"width\":3}},\"name\":\"North America\",\"opacity\":0.75,\"x\":[\"Action\",\"Adventure\",\"Fighting\",\"Misc\",\"Platform\",\"Puzzle\",\"Racing\",\"Role-Playing\",\"Shooter\",\"Simulation\",\"Sports\",\"Strategy\"],\"xaxis\":\"x2\",\"y\":[50.36527299500969,44.2845723421261,49.91508000357572,50.70718892402726,53.79914984059524,50.559624722245,49.30031554397038,35.40346746575356,56.24631982829109,46.66512986015105,51.383633633633984,39.283667621776445],\"yaxis\":\"y2\",\"type\":\"bar\"},{\"marker\":{\"color\":\"red\",\"line\":{\"color\":\"rgb(8,48,107)\",\"width\":3}},\"name\":\"Europe\",\"opacity\":0.75,\"x\":[\"Action\",\"Adventure\",\"Fighting\",\"Misc\",\"Platform\",\"Puzzle\",\"Racing\",\"Role-Playing\",\"Shooter\",\"Simulation\",\"Sports\",\"Strategy\"],\"xaxis\":\"x2\",\"y\":[29.744967827327308,26.732298371828744,22.421113792795293,26.487213327025337,24.194522268380002,20.57855320549742,32.447523665798066,20.1958476027399,30.138469428457793,29.076379283848397,28.28753753753743,25.885386819484197],\"yaxis\":\"y2\",\"type\":\"bar\"},{\"marker\":{\"color\":\"orange\",\"line\":{\"color\":\"rgb(8,48,107)\",\"width\":3}},\"name\":\"Japan\",\"opacity\":0.75,\"x\":[\"Action\",\"Adventure\",\"Fighting\",\"Misc\",\"Platform\",\"Puzzle\",\"Racing\",\"Role-Playing\",\"Shooter\",\"Simulation\",\"Sports\",\"Strategy\"],\"xaxis\":\"x2\",\"y\":[9.250144676755095,22.003449871681614,19.549477071601036,13.460245524042024,15.799198145106832,23.58242119990117,7.780216764988397,38.04152397260275,3.681121431420683,16.341375954100833,10.175675675675814,28.458452722062972],\"yaxis\":\"y2\",\"type\":\"bar\"},{\"marker\":{\"color\":\"purple\",\"line\":{\"color\":\"rgb(8,48,107)\",\"width\":3}},\"name\":\"Other\",\"opacity\":0.75,\"x\":[\"Action\",\"Adventure\",\"Fighting\",\"Misc\",\"Platform\",\"Puzzle\",\"Racing\",\"Role-Playing\",\"Shooter\",\"Simulation\",\"Sports\",\"Strategy\"],\"xaxis\":\"x2\",\"y\":[10.577159980977177,6.93760780849,8.125502815768307,9.261933813093194,6.169693749396194,5.09423092749564,10.44038962820711,6.381635273972637,9.887552946986848,7.876133394805722,10.09834834834828,6.2177650429798845],\"yaxis\":\"y2\",\"type\":\"bar\"},{\"cells\":{\"align\":[\"left\",\"center\"],\"fill\":{\"color\":[\"silver\",\"rgb(158,202,225)\",\"darksalmon\",\"gold\",\"mediumorchid\",\"yellowgreen\"]},\"font\":{\"color\":\"#506784\",\"size\":12},\"height\":30,\"line\":{\"color\":\"rgb(8,48,107)\",\"width\":3},\"values\":[[\"Action\",\"Adventure\",\"Fighting\",\"Misc\",\"Platform\",\"Puzzle\",\"Racing\",\"Role-Playing\",\"Shooter\",\"Simulation\",\"Sports\",\"Strategy\"],[879.0,105.0,223.0,407.0,445.0,123.0,359.0,331.0,592.0,182.0,684.0,69.0],[519.0,64.0,100.0,213.0,200.0,50.0,237.0,189.0,317.0,114.0,377.0,45.0],[161.0,52.0,87.0,108.0,131.0,57.0,57.0,355.0,39.0,64.0,136.0,50.0],[185.0,16.0,36.0,74.0,51.0,12.0,76.0,60.0,104.0,31.0,135.0,11.0],[1745.0,238.0,447.0,803.0,828.0,243.0,729.0,934.0,1053.0,390.0,1332.0,175.0]]},\"domain\":{\"x\":[0.6,1],\"y\":[0,0.95]},\"header\":{\"align\":[\"left\",\"center\"],\"fill\":{\"color\":[\"darkslateblue\",\"blue\",\"red\",\"orange\",\"purple\",\"green\"]},\"font\":{\"color\":\"white\",\"size\":12},\"height\":30,\"line\":{\"color\":\"rgb(8,48,107)\",\"width\":3},\"values\":[\"Genre\",\"North America\",\"Europe\",\"Japan\",\"Other\",\"Total\"]},\"type\":\"table\"}],                        {\"annotations\":[{\"bgcolor\":\"lightyellow\",\"borderwidth\":5,\"font\":{\"family\":\"Courier New, monospace\",\"size\":15},\"showarrow\":false,\"text\":\"Sales Percentage According to Region\",\"x\":0.08,\"xref\":\"paper\",\"y\":1.02,\"yref\":\"paper\"},{\"bgcolor\":\"lightyellow\",\"borderwidth\":5,\"font\":{\"family\":\"Courier New, monospace\",\"size\":15},\"showarrow\":false,\"text\":\"Total Sales(In Millions)\",\"x\":0.9,\"xref\":\"paper\",\"y\":1.02,\"yref\":\"paper\"}],\"autosize\":false,\"barmode\":\"stack\",\"height\":650,\"legend\":{\"bgcolor\":\"white\",\"bordercolor\":\"white\",\"borderwidth\":1,\"font\":{\"color\":\"#000\",\"family\":\"Courier New, monospace\",\"size\":11},\"orientation\":\"h\",\"x\":0.58,\"y\":0},\"paper_bgcolor\":\"white\",\"plot_bgcolor\":\"white\",\"template\":{\"data\":{\"barpolar\":[{\"marker\":{\"line\":{\"color\":\"#E5ECF6\",\"width\":0.5},\"pattern\":{\"fillmode\":\"overlay\",\"size\":10,\"solidity\":0.2}},\"type\":\"barpolar\"}],\"bar\":[{\"error_x\":{\"color\":\"#2a3f5f\"},\"error_y\":{\"color\":\"#2a3f5f\"},\"marker\":{\"line\":{\"color\":\"#E5ECF6\",\"width\":0.5},\"pattern\":{\"fillmode\":\"overlay\",\"size\":10,\"solidity\":0.2}},\"type\":\"bar\"}],\"carpet\":[{\"aaxis\":{\"endlinecolor\":\"#2a3f5f\",\"gridcolor\":\"white\",\"linecolor\":\"white\",\"minorgridcolor\":\"white\",\"startlinecolor\":\"#2a3f5f\"},\"baxis\":{\"endlinecolor\":\"#2a3f5f\",\"gridcolor\":\"white\",\"linecolor\":\"white\",\"minorgridcolor\":\"white\",\"startlinecolor\":\"#2a3f5f\"},\"type\":\"carpet\"}],\"choropleth\":[{\"colorbar\":{\"outlinewidth\":0,\"ticks\":\"\"},\"type\":\"choropleth\"}],\"contourcarpet\":[{\"colorbar\":{\"outlinewidth\":0,\"ticks\":\"\"},\"type\":\"contourcarpet\"}],\"contour\":[{\"colorbar\":{\"outlinewidth\":0,\"ticks\":\"\"},\"colorscale\":[[0.0,\"#0d0887\"],[0.1111111111111111,\"#46039f\"],[0.2222222222222222,\"#7201a8\"],[0.3333333333333333,\"#9c179e\"],[0.4444444444444444,\"#bd3786\"],[0.5555555555555556,\"#d8576b\"],[0.6666666666666666,\"#ed7953\"],[0.7777777777777778,\"#fb9f3a\"],[0.8888888888888888,\"#fdca26\"],[1.0,\"#f0f921\"]],\"type\":\"contour\"}],\"heatmapgl\":[{\"colorbar\":{\"outlinewidth\":0,\"ticks\":\"\"},\"colorscale\":[[0.0,\"#0d0887\"],[0.1111111111111111,\"#46039f\"],[0.2222222222222222,\"#7201a8\"],[0.3333333333333333,\"#9c179e\"],[0.4444444444444444,\"#bd3786\"],[0.5555555555555556,\"#d8576b\"],[0.6666666666666666,\"#ed7953\"],[0.7777777777777778,\"#fb9f3a\"],[0.8888888888888888,\"#fdca26\"],[1.0,\"#f0f921\"]],\"type\":\"heatmapgl\"}],\"heatmap\":[{\"colorbar\":{\"outlinewidth\":0,\"ticks\":\"\"},\"colorscale\":[[0.0,\"#0d0887\"],[0.1111111111111111,\"#46039f\"],[0.2222222222222222,\"#7201a8\"],[0.3333333333333333,\"#9c179e\"],[0.4444444444444444,\"#bd3786\"],[0.5555555555555556,\"#d8576b\"],[0.6666666666666666,\"#ed7953\"],[0.7777777777777778,\"#fb9f3a\"],[0.8888888888888888,\"#fdca26\"],[1.0,\"#f0f921\"]],\"type\":\"heatmap\"}],\"histogram2dcontour\":[{\"colorbar\":{\"outlinewidth\":0,\"ticks\":\"\"},\"colorscale\":[[0.0,\"#0d0887\"],[0.1111111111111111,\"#46039f\"],[0.2222222222222222,\"#7201a8\"],[0.3333333333333333,\"#9c179e\"],[0.4444444444444444,\"#bd3786\"],[0.5555555555555556,\"#d8576b\"],[0.6666666666666666,\"#ed7953\"],[0.7777777777777778,\"#fb9f3a\"],[0.8888888888888888,\"#fdca26\"],[1.0,\"#f0f921\"]],\"type\":\"histogram2dcontour\"}],\"histogram2d\":[{\"colorbar\":{\"outlinewidth\":0,\"ticks\":\"\"},\"colorscale\":[[0.0,\"#0d0887\"],[0.1111111111111111,\"#46039f\"],[0.2222222222222222,\"#7201a8\"],[0.3333333333333333,\"#9c179e\"],[0.4444444444444444,\"#bd3786\"],[0.5555555555555556,\"#d8576b\"],[0.6666666666666666,\"#ed7953\"],[0.7777777777777778,\"#fb9f3a\"],[0.8888888888888888,\"#fdca26\"],[1.0,\"#f0f921\"]],\"type\":\"histogram2d\"}],\"histogram\":[{\"marker\":{\"pattern\":{\"fillmode\":\"overlay\",\"size\":10,\"solidity\":0.2}},\"type\":\"histogram\"}],\"mesh3d\":[{\"colorbar\":{\"outlinewidth\":0,\"ticks\":\"\"},\"type\":\"mesh3d\"}],\"parcoords\":[{\"line\":{\"colorbar\":{\"outlinewidth\":0,\"ticks\":\"\"}},\"type\":\"parcoords\"}],\"pie\":[{\"automargin\":true,\"type\":\"pie\"}],\"scatter3d\":[{\"line\":{\"colorbar\":{\"outlinewidth\":0,\"ticks\":\"\"}},\"marker\":{\"colorbar\":{\"outlinewidth\":0,\"ticks\":\"\"}},\"type\":\"scatter3d\"}],\"scattercarpet\":[{\"marker\":{\"colorbar\":{\"outlinewidth\":0,\"ticks\":\"\"}},\"type\":\"scattercarpet\"}],\"scattergeo\":[{\"marker\":{\"colorbar\":{\"outlinewidth\":0,\"ticks\":\"\"}},\"type\":\"scattergeo\"}],\"scattergl\":[{\"marker\":{\"colorbar\":{\"outlinewidth\":0,\"ticks\":\"\"}},\"type\":\"scattergl\"}],\"scattermapbox\":[{\"marker\":{\"colorbar\":{\"outlinewidth\":0,\"ticks\":\"\"}},\"type\":\"scattermapbox\"}],\"scatterpolargl\":[{\"marker\":{\"colorbar\":{\"outlinewidth\":0,\"ticks\":\"\"}},\"type\":\"scatterpolargl\"}],\"scatterpolar\":[{\"marker\":{\"colorbar\":{\"outlinewidth\":0,\"ticks\":\"\"}},\"type\":\"scatterpolar\"}],\"scatter\":[{\"marker\":{\"colorbar\":{\"outlinewidth\":0,\"ticks\":\"\"}},\"type\":\"scatter\"}],\"scatterternary\":[{\"marker\":{\"colorbar\":{\"outlinewidth\":0,\"ticks\":\"\"}},\"type\":\"scatterternary\"}],\"surface\":[{\"colorbar\":{\"outlinewidth\":0,\"ticks\":\"\"},\"colorscale\":[[0.0,\"#0d0887\"],[0.1111111111111111,\"#46039f\"],[0.2222222222222222,\"#7201a8\"],[0.3333333333333333,\"#9c179e\"],[0.4444444444444444,\"#bd3786\"],[0.5555555555555556,\"#d8576b\"],[0.6666666666666666,\"#ed7953\"],[0.7777777777777778,\"#fb9f3a\"],[0.8888888888888888,\"#fdca26\"],[1.0,\"#f0f921\"]],\"type\":\"surface\"}],\"table\":[{\"cells\":{\"fill\":{\"color\":\"#EBF0F8\"},\"line\":{\"color\":\"white\"}},\"header\":{\"fill\":{\"color\":\"#C8D4E3\"},\"line\":{\"color\":\"white\"}},\"type\":\"table\"}]},\"layout\":{\"annotationdefaults\":{\"arrowcolor\":\"#2a3f5f\",\"arrowhead\":0,\"arrowwidth\":1},\"autotypenumbers\":\"strict\",\"coloraxis\":{\"colorbar\":{\"outlinewidth\":0,\"ticks\":\"\"}},\"colorscale\":{\"diverging\":[[0,\"#8e0152\"],[0.1,\"#c51b7d\"],[0.2,\"#de77ae\"],[0.3,\"#f1b6da\"],[0.4,\"#fde0ef\"],[0.5,\"#f7f7f7\"],[0.6,\"#e6f5d0\"],[0.7,\"#b8e186\"],[0.8,\"#7fbc41\"],[0.9,\"#4d9221\"],[1,\"#276419\"]],\"sequential\":[[0.0,\"#0d0887\"],[0.1111111111111111,\"#46039f\"],[0.2222222222222222,\"#7201a8\"],[0.3333333333333333,\"#9c179e\"],[0.4444444444444444,\"#bd3786\"],[0.5555555555555556,\"#d8576b\"],[0.6666666666666666,\"#ed7953\"],[0.7777777777777778,\"#fb9f3a\"],[0.8888888888888888,\"#fdca26\"],[1.0,\"#f0f921\"]],\"sequentialminus\":[[0.0,\"#0d0887\"],[0.1111111111111111,\"#46039f\"],[0.2222222222222222,\"#7201a8\"],[0.3333333333333333,\"#9c179e\"],[0.4444444444444444,\"#bd3786\"],[0.5555555555555556,\"#d8576b\"],[0.6666666666666666,\"#ed7953\"],[0.7777777777777778,\"#fb9f3a\"],[0.8888888888888888,\"#fdca26\"],[1.0,\"#f0f921\"]]},\"colorway\":[\"#636efa\",\"#EF553B\",\"#00cc96\",\"#ab63fa\",\"#FFA15A\",\"#19d3f3\",\"#FF6692\",\"#B6E880\",\"#FF97FF\",\"#FECB52\"],\"font\":{\"color\":\"#2a3f5f\"},\"geo\":{\"bgcolor\":\"white\",\"lakecolor\":\"white\",\"landcolor\":\"#E5ECF6\",\"showlakes\":true,\"showland\":true,\"subunitcolor\":\"white\"},\"hoverlabel\":{\"align\":\"left\"},\"hovermode\":\"closest\",\"mapbox\":{\"style\":\"light\"},\"paper_bgcolor\":\"white\",\"plot_bgcolor\":\"#E5ECF6\",\"polar\":{\"angularaxis\":{\"gridcolor\":\"white\",\"linecolor\":\"white\",\"ticks\":\"\"},\"bgcolor\":\"#E5ECF6\",\"radialaxis\":{\"gridcolor\":\"white\",\"linecolor\":\"white\",\"ticks\":\"\"}},\"scene\":{\"xaxis\":{\"backgroundcolor\":\"#E5ECF6\",\"gridcolor\":\"white\",\"gridwidth\":2,\"linecolor\":\"white\",\"showbackground\":true,\"ticks\":\"\",\"zerolinecolor\":\"white\"},\"yaxis\":{\"backgroundcolor\":\"#E5ECF6\",\"gridcolor\":\"white\",\"gridwidth\":2,\"linecolor\":\"white\",\"showbackground\":true,\"ticks\":\"\",\"zerolinecolor\":\"white\"},\"zaxis\":{\"backgroundcolor\":\"#E5ECF6\",\"gridcolor\":\"white\",\"gridwidth\":2,\"linecolor\":\"white\",\"showbackground\":true,\"ticks\":\"\",\"zerolinecolor\":\"white\"}},\"shapedefaults\":{\"line\":{\"color\":\"#2a3f5f\"}},\"ternary\":{\"aaxis\":{\"gridcolor\":\"white\",\"linecolor\":\"white\",\"ticks\":\"\"},\"baxis\":{\"gridcolor\":\"white\",\"linecolor\":\"white\",\"ticks\":\"\"},\"bgcolor\":\"#E5ECF6\",\"caxis\":{\"gridcolor\":\"white\",\"linecolor\":\"white\",\"ticks\":\"\"}},\"title\":{\"x\":0.05},\"xaxis\":{\"automargin\":true,\"gridcolor\":\"white\",\"linecolor\":\"white\",\"ticks\":\"\",\"title\":{\"standoff\":15},\"zerolinecolor\":\"white\",\"zerolinewidth\":2},\"yaxis\":{\"automargin\":true,\"gridcolor\":\"white\",\"linecolor\":\"white\",\"ticks\":\"\",\"title\":{\"standoff\":15},\"zerolinecolor\":\"white\",\"zerolinewidth\":2}}},\"title\":{\"font\":{\"color\":\"black\",\"family\":\"Courier New, monospace\",\"size\":17},\"text\":\"North America, Europe, Japan and Other Sales Percentage and Amounts According to Genre\"},\"width\":1200,\"xaxis2\":{\"anchor\":\"y2\",\"domain\":[0,0.5],\"tickfont\":{\"family\":\"Courier New, monospace\"},\"title\":{\"font\":{\"family\":\"Courier New, monospace\"},\"text\":\"Genre\"}},\"yaxis2\":{\"anchor\":\"x2\",\"domain\":[0,1],\"tickfont\":{\"family\":\"Courier New, monospace\"},\"title\":{\"font\":{\"family\":\"Courier New, monospace\"},\"text\":\"Total Percentage\"}}},                        {\"responsive\": true}                    ).then(function(){\n",
       "                            \n",
       "var gd = document.getElementById('0e81e5a1-0a98-4dee-adf2-a7b02363393d');\n",
       "var x = new MutationObserver(function (mutations, observer) {{\n",
       "        var display = window.getComputedStyle(gd).display;\n",
       "        if (!display || display === 'none') {{\n",
       "            console.log([gd, 'removed!']);\n",
       "            Plotly.purge(gd);\n",
       "            observer.disconnect();\n",
       "        }}\n",
       "}});\n",
       "\n",
       "// Listen for the removal of the full notebook cells\n",
       "var notebookContainer = gd.closest('#notebook-container');\n",
       "if (notebookContainer) {{\n",
       "    x.observe(notebookContainer, {childList: true});\n",
       "}}\n",
       "\n",
       "// Listen for the clearing of the current output cell\n",
       "var outputEl = gd.closest('.output');\n",
       "if (outputEl) {{\n",
       "    x.observe(outputEl, {childList: true});\n",
       "}}\n",
       "\n",
       "                        })                };                });            </script>        </div>"
      ]
     },
     "metadata": {},
     "output_type": "display_data"
    }
   ],
   "source": [
    "x=genre.Genre\n",
    "NA_Perce=list(genre[\"NA_Sales\"]/genre[\"Global_Sales\"]*100)\n",
    "EU_Perce=list(genre[\"EU_Sales\"]/genre[\"Global_Sales\"]*100)\n",
    "JP_Perce=list(genre[\"JP_Sales\"]/genre[\"Global_Sales\"]*100)\n",
    "Other_Perce=list(genre[\"Other_Sales\"]/genre[\"Global_Sales\"]*100)\n",
    "\n",
    "bar1 = go.Bar(\n",
    "    x=x,\n",
    "    y=NA_Perce,\n",
    "    name=\"North America\" ,\n",
    "    xaxis='x2', yaxis='y2',\n",
    "    marker=dict(\n",
    "        color='rgb(158,202,225)',\n",
    "        line=dict(\n",
    "            color='rgb(8,48,107)',\n",
    "            width=3),\n",
    "        ),\n",
    "    opacity=0.75)\n",
    "bar2 = go.Bar(\n",
    "    x=x,\n",
    "    y=EU_Perce,\n",
    "    xaxis='x2', yaxis='y2',\n",
    "    marker=dict(\n",
    "        color='red',\n",
    "        line=dict(\n",
    "            color='rgb(8,48,107)',\n",
    "            width=3),\n",
    "        ),\n",
    "    opacity=0.75,\n",
    "    name = \"Europe\",\n",
    "    )\n",
    "bar3 = go.Bar(\n",
    "    x=x,\n",
    "    y=JP_Perce,\n",
    "    xaxis='x2', yaxis='y2',\n",
    "  \n",
    "    marker=dict(\n",
    "        color='orange',\n",
    "        line=dict(\n",
    "            color='rgb(8,48,107)',\n",
    "            width=3),\n",
    "        ),\n",
    "    opacity=0.75,\n",
    "    name = \"Japan\",\n",
    "    )\n",
    "bar4 = go.Bar(\n",
    "    x=x,\n",
    "    y=Other_Perce,\n",
    "    xaxis='x2', yaxis='y2',\n",
    "    \n",
    "    marker=dict(\n",
    "        color='purple',\n",
    "        line=dict(\n",
    "            color='rgb(8,48,107)',\n",
    "            width=3),\n",
    "        ),\n",
    "    opacity=0.75,\n",
    "    name = \"Other\",)\n",
    "bar5=go.Table(\n",
    "  header = dict(\n",
    "    values = column_table.columns,\n",
    "    line = dict(color = 'rgb(8,48,107)',width=3),\n",
    "    fill = dict(color = [\"darkslateblue\",\"blue\",\"red\", \"orange\",\"purple\",\"green\"]),\n",
    "    align = ['left','center'],\n",
    "    font = dict(color = 'white', size = 12),\n",
    "     height=30,\n",
    "  ),\n",
    "  cells = dict(\n",
    "    values = [column_table.Genre,round(column_table[\"North America\"]),round(column_table[\"Europe\"]), round(column_table[\"Japan\"]), round(column_table[\"Other\"]),round(column_table[\"Total\"])],\n",
    "    height=30,\n",
    "    line = dict(color = 'rgb(8,48,107)',width=3),\n",
    "    fill = dict(color = [\"silver\",\"rgb(158,202,225)\",\"darksalmon\", \"gold\",\"mediumorchid\",\"yellowgreen\"]),\n",
    "    align = ['left', 'center'],\n",
    "    font = dict(color = '#506784', size = 12)),\n",
    "    domain=dict(x=[0.60,1],y=[0,0.95]),\n",
    ")\n",
    "\n",
    "data = [bar1, bar2,bar3,bar4,bar5]\n",
    "layout = go.Layout(barmode='stack',autosize=False,width=1200,height=650,\n",
    "                legend=dict(x=.58, y=0,orientation=\"h\",font=dict(family='Courier New, monospace',size=11,color='#000'),\n",
    "                           bgcolor='white', bordercolor='white', borderwidth=1),\n",
    "                title='North America, Europe, Japan and Other Sales Percentage and Amounts According to Genre',\n",
    "                titlefont=dict(family='Courier New, monospace',size=17,color='black'),\n",
    "                xaxis2=dict(domain=[0, 0.50],anchor=\"y2\", title='Genre',titlefont=dict(family='Courier New, monospace'),tickfont=dict(family='Courier New, monospace')), yaxis2=dict( domain=[0, 1],anchor='x2',title=\"Total Percentage\",titlefont=dict(family='Courier New, monospace'),tickfont=dict(family='Courier New, monospace')),\n",
    "                paper_bgcolor='white',plot_bgcolor='white',\n",
    "                annotations=[ dict( text='Sales Percentage According to Region',x=0.08,y=1.02,xref=\"paper\",yref=\"paper\",showarrow=False,font=dict(size=15,family=\"Courier New, monospace\"),bgcolor=\"lightyellow\",borderwidth=5),dict( text='Total Sales(In Millions)',x=0.9,y=1.02,xref=\"paper\",yref=\"paper\",showarrow=False,font=dict(size=15,family='Courier New, monospace'),bgcolor=\"lightyellow\",borderwidth=5)],\n",
    "              \n",
    "                  )\n",
    "fig = go.Figure(data=data, layout=layout)\n",
    "iplot(fig)"
   ]
  },
  {
   "cell_type": "code",
   "execution_count": 9,
   "id": "438fbdf7",
   "metadata": {},
   "outputs": [],
   "source": [
    "import pandas as pd\n",
    "import matplotlib.pyplot as plt\n",
    "import numpy as np\n",
    "import random \n",
    "import matplotlib.style as style\n",
    "import seaborn as sns"
   ]
  },
  {
   "cell_type": "code",
   "execution_count": 10,
   "id": "fb956acd",
   "metadata": {},
   "outputs": [],
   "source": [
    "# Read the csv file into your notebook\n",
    "video_game_sales_path = \"Resources/Video_Games_Sales_as_at_22_Dec_2016.csv\"\n",
    "video_game_sales_df = pd.read_csv(video_game_sales_path)"
   ]
  },
  {
   "cell_type": "code",
   "execution_count": 11,
   "id": "580ab539",
   "metadata": {},
   "outputs": [
    {
     "data": {
      "text/html": [
       "<div>\n",
       "<style scoped>\n",
       "    .dataframe tbody tr th:only-of-type {\n",
       "        vertical-align: middle;\n",
       "    }\n",
       "\n",
       "    .dataframe tbody tr th {\n",
       "        vertical-align: top;\n",
       "    }\n",
       "\n",
       "    .dataframe thead th {\n",
       "        text-align: right;\n",
       "    }\n",
       "</style>\n",
       "<table border=\"1\" class=\"dataframe\">\n",
       "  <thead>\n",
       "    <tr style=\"text-align: right;\">\n",
       "      <th></th>\n",
       "      <th>Name</th>\n",
       "      <th>Platform</th>\n",
       "      <th>Year_of_Release</th>\n",
       "      <th>Genre</th>\n",
       "      <th>Publisher</th>\n",
       "      <th>NA_Sales</th>\n",
       "      <th>EU_Sales</th>\n",
       "      <th>JP_Sales</th>\n",
       "      <th>Other_Sales</th>\n",
       "      <th>Global_Sales</th>\n",
       "      <th>Critic_Score</th>\n",
       "      <th>Critic_Count</th>\n",
       "      <th>User_Score</th>\n",
       "      <th>User_Count</th>\n",
       "      <th>Developer</th>\n",
       "      <th>Rating</th>\n",
       "    </tr>\n",
       "  </thead>\n",
       "  <tbody>\n",
       "    <tr>\n",
       "      <th>0</th>\n",
       "      <td>Wii Sports</td>\n",
       "      <td>Wii</td>\n",
       "      <td>2006.0</td>\n",
       "      <td>Sports</td>\n",
       "      <td>Nintendo</td>\n",
       "      <td>41.36</td>\n",
       "      <td>28.96</td>\n",
       "      <td>3.77</td>\n",
       "      <td>8.45</td>\n",
       "      <td>82.53</td>\n",
       "      <td>76.0</td>\n",
       "      <td>51.0</td>\n",
       "      <td>8</td>\n",
       "      <td>322.0</td>\n",
       "      <td>Nintendo</td>\n",
       "      <td>E</td>\n",
       "    </tr>\n",
       "    <tr>\n",
       "      <th>2</th>\n",
       "      <td>Mario Kart Wii</td>\n",
       "      <td>Wii</td>\n",
       "      <td>2008.0</td>\n",
       "      <td>Racing</td>\n",
       "      <td>Nintendo</td>\n",
       "      <td>15.68</td>\n",
       "      <td>12.76</td>\n",
       "      <td>3.79</td>\n",
       "      <td>3.29</td>\n",
       "      <td>35.52</td>\n",
       "      <td>82.0</td>\n",
       "      <td>73.0</td>\n",
       "      <td>8.3</td>\n",
       "      <td>709.0</td>\n",
       "      <td>Nintendo</td>\n",
       "      <td>E</td>\n",
       "    </tr>\n",
       "    <tr>\n",
       "      <th>3</th>\n",
       "      <td>Wii Sports Resort</td>\n",
       "      <td>Wii</td>\n",
       "      <td>2009.0</td>\n",
       "      <td>Sports</td>\n",
       "      <td>Nintendo</td>\n",
       "      <td>15.61</td>\n",
       "      <td>10.93</td>\n",
       "      <td>3.28</td>\n",
       "      <td>2.95</td>\n",
       "      <td>32.77</td>\n",
       "      <td>80.0</td>\n",
       "      <td>73.0</td>\n",
       "      <td>8</td>\n",
       "      <td>192.0</td>\n",
       "      <td>Nintendo</td>\n",
       "      <td>E</td>\n",
       "    </tr>\n",
       "    <tr>\n",
       "      <th>6</th>\n",
       "      <td>New Super Mario Bros.</td>\n",
       "      <td>DS</td>\n",
       "      <td>2006.0</td>\n",
       "      <td>Platform</td>\n",
       "      <td>Nintendo</td>\n",
       "      <td>11.28</td>\n",
       "      <td>9.14</td>\n",
       "      <td>6.50</td>\n",
       "      <td>2.88</td>\n",
       "      <td>29.80</td>\n",
       "      <td>89.0</td>\n",
       "      <td>65.0</td>\n",
       "      <td>8.5</td>\n",
       "      <td>431.0</td>\n",
       "      <td>Nintendo</td>\n",
       "      <td>E</td>\n",
       "    </tr>\n",
       "    <tr>\n",
       "      <th>7</th>\n",
       "      <td>Wii Play</td>\n",
       "      <td>Wii</td>\n",
       "      <td>2006.0</td>\n",
       "      <td>Misc</td>\n",
       "      <td>Nintendo</td>\n",
       "      <td>13.96</td>\n",
       "      <td>9.18</td>\n",
       "      <td>2.93</td>\n",
       "      <td>2.84</td>\n",
       "      <td>28.92</td>\n",
       "      <td>58.0</td>\n",
       "      <td>41.0</td>\n",
       "      <td>6.6</td>\n",
       "      <td>129.0</td>\n",
       "      <td>Nintendo</td>\n",
       "      <td>E</td>\n",
       "    </tr>\n",
       "  </tbody>\n",
       "</table>\n",
       "</div>"
      ],
      "text/plain": [
       "                    Name Platform  Year_of_Release     Genre Publisher  \\\n",
       "0             Wii Sports      Wii           2006.0    Sports  Nintendo   \n",
       "2         Mario Kart Wii      Wii           2008.0    Racing  Nintendo   \n",
       "3      Wii Sports Resort      Wii           2009.0    Sports  Nintendo   \n",
       "6  New Super Mario Bros.       DS           2006.0  Platform  Nintendo   \n",
       "7               Wii Play      Wii           2006.0      Misc  Nintendo   \n",
       "\n",
       "   NA_Sales  EU_Sales  JP_Sales  Other_Sales  Global_Sales  Critic_Score  \\\n",
       "0     41.36     28.96      3.77         8.45         82.53          76.0   \n",
       "2     15.68     12.76      3.79         3.29         35.52          82.0   \n",
       "3     15.61     10.93      3.28         2.95         32.77          80.0   \n",
       "6     11.28      9.14      6.50         2.88         29.80          89.0   \n",
       "7     13.96      9.18      2.93         2.84         28.92          58.0   \n",
       "\n",
       "   Critic_Count User_Score  User_Count Developer Rating  \n",
       "0          51.0          8       322.0  Nintendo      E  \n",
       "2          73.0        8.3       709.0  Nintendo      E  \n",
       "3          73.0          8       192.0  Nintendo      E  \n",
       "6          65.0        8.5       431.0  Nintendo      E  \n",
       "7          41.0        6.6       129.0  Nintendo      E  "
      ]
     },
     "execution_count": 11,
     "metadata": {},
     "output_type": "execute_result"
    }
   ],
   "source": [
    "# Drop all rows that contain a NaN value\n",
    "video_game_sales_df.dropna().head()"
   ]
  },
  {
   "cell_type": "code",
   "execution_count": 12,
   "id": "1a5d2898",
   "metadata": {},
   "outputs": [
    {
     "data": {
      "text/html": [
       "<div>\n",
       "<style scoped>\n",
       "    .dataframe tbody tr th:only-of-type {\n",
       "        vertical-align: middle;\n",
       "    }\n",
       "\n",
       "    .dataframe tbody tr th {\n",
       "        vertical-align: top;\n",
       "    }\n",
       "\n",
       "    .dataframe thead th {\n",
       "        text-align: right;\n",
       "    }\n",
       "</style>\n",
       "<table border=\"1\" class=\"dataframe\">\n",
       "  <thead>\n",
       "    <tr style=\"text-align: right;\">\n",
       "      <th></th>\n",
       "      <th>Platform</th>\n",
       "      <th>Year_of_Release</th>\n",
       "      <th>Publisher</th>\n",
       "      <th>NA_Sales</th>\n",
       "      <th>EU_Sales</th>\n",
       "      <th>JP_Sales</th>\n",
       "    </tr>\n",
       "  </thead>\n",
       "  <tbody>\n",
       "    <tr>\n",
       "      <th>0</th>\n",
       "      <td>Wii</td>\n",
       "      <td>2006.0</td>\n",
       "      <td>Nintendo</td>\n",
       "      <td>41.36</td>\n",
       "      <td>28.96</td>\n",
       "      <td>3.77</td>\n",
       "    </tr>\n",
       "    <tr>\n",
       "      <th>1</th>\n",
       "      <td>NES</td>\n",
       "      <td>1985.0</td>\n",
       "      <td>Nintendo</td>\n",
       "      <td>29.08</td>\n",
       "      <td>3.58</td>\n",
       "      <td>6.81</td>\n",
       "    </tr>\n",
       "    <tr>\n",
       "      <th>2</th>\n",
       "      <td>Wii</td>\n",
       "      <td>2008.0</td>\n",
       "      <td>Nintendo</td>\n",
       "      <td>15.68</td>\n",
       "      <td>12.76</td>\n",
       "      <td>3.79</td>\n",
       "    </tr>\n",
       "    <tr>\n",
       "      <th>3</th>\n",
       "      <td>Wii</td>\n",
       "      <td>2009.0</td>\n",
       "      <td>Nintendo</td>\n",
       "      <td>15.61</td>\n",
       "      <td>10.93</td>\n",
       "      <td>3.28</td>\n",
       "    </tr>\n",
       "    <tr>\n",
       "      <th>4</th>\n",
       "      <td>GB</td>\n",
       "      <td>1996.0</td>\n",
       "      <td>Nintendo</td>\n",
       "      <td>11.27</td>\n",
       "      <td>8.89</td>\n",
       "      <td>10.22</td>\n",
       "    </tr>\n",
       "    <tr>\n",
       "      <th>5</th>\n",
       "      <td>GB</td>\n",
       "      <td>1989.0</td>\n",
       "      <td>Nintendo</td>\n",
       "      <td>23.20</td>\n",
       "      <td>2.26</td>\n",
       "      <td>4.22</td>\n",
       "    </tr>\n",
       "    <tr>\n",
       "      <th>6</th>\n",
       "      <td>DS</td>\n",
       "      <td>2006.0</td>\n",
       "      <td>Nintendo</td>\n",
       "      <td>11.28</td>\n",
       "      <td>9.14</td>\n",
       "      <td>6.50</td>\n",
       "    </tr>\n",
       "    <tr>\n",
       "      <th>7</th>\n",
       "      <td>Wii</td>\n",
       "      <td>2006.0</td>\n",
       "      <td>Nintendo</td>\n",
       "      <td>13.96</td>\n",
       "      <td>9.18</td>\n",
       "      <td>2.93</td>\n",
       "    </tr>\n",
       "    <tr>\n",
       "      <th>8</th>\n",
       "      <td>Wii</td>\n",
       "      <td>2009.0</td>\n",
       "      <td>Nintendo</td>\n",
       "      <td>14.44</td>\n",
       "      <td>6.94</td>\n",
       "      <td>4.70</td>\n",
       "    </tr>\n",
       "    <tr>\n",
       "      <th>9</th>\n",
       "      <td>NES</td>\n",
       "      <td>1984.0</td>\n",
       "      <td>Nintendo</td>\n",
       "      <td>26.93</td>\n",
       "      <td>0.63</td>\n",
       "      <td>0.28</td>\n",
       "    </tr>\n",
       "  </tbody>\n",
       "</table>\n",
       "</div>"
      ],
      "text/plain": [
       "  Platform  Year_of_Release Publisher  NA_Sales  EU_Sales  JP_Sales\n",
       "0      Wii           2006.0  Nintendo     41.36     28.96      3.77\n",
       "1      NES           1985.0  Nintendo     29.08      3.58      6.81\n",
       "2      Wii           2008.0  Nintendo     15.68     12.76      3.79\n",
       "3      Wii           2009.0  Nintendo     15.61     10.93      3.28\n",
       "4       GB           1996.0  Nintendo     11.27      8.89     10.22\n",
       "5       GB           1989.0  Nintendo     23.20      2.26      4.22\n",
       "6       DS           2006.0  Nintendo     11.28      9.14      6.50\n",
       "7      Wii           2006.0  Nintendo     13.96      9.18      2.93\n",
       "8      Wii           2009.0  Nintendo     14.44      6.94      4.70\n",
       "9      NES           1984.0  Nintendo     26.93      0.63      0.28"
      ]
     },
     "execution_count": 12,
     "metadata": {},
     "output_type": "execute_result"
    }
   ],
   "source": [
    "# What are the demands for a particular game platform and how do they compare by video game \n",
    "# publisher by the yearly sales?\n",
    "\n",
    "# Create a DF with the columns that you need\n",
    "\n",
    "updated_df = video_game_sales_df[['Platform','Year_of_Release','Publisher','NA_Sales',\\\n",
    "                                  'EU_Sales','JP_Sales']]\n",
    "updated_df.head(10)"
   ]
  },
  {
   "cell_type": "code",
   "execution_count": 13,
   "id": "fc999bbe",
   "metadata": {},
   "outputs": [
    {
     "data": {
      "text/html": [
       "<div>\n",
       "<style scoped>\n",
       "    .dataframe tbody tr th:only-of-type {\n",
       "        vertical-align: middle;\n",
       "    }\n",
       "\n",
       "    .dataframe tbody tr th {\n",
       "        vertical-align: top;\n",
       "    }\n",
       "\n",
       "    .dataframe thead th {\n",
       "        text-align: right;\n",
       "    }\n",
       "</style>\n",
       "<table border=\"1\" class=\"dataframe\">\n",
       "  <thead>\n",
       "    <tr style=\"text-align: right;\">\n",
       "      <th></th>\n",
       "      <th>Platform</th>\n",
       "      <th>Year_of_Release</th>\n",
       "      <th>Publisher</th>\n",
       "      <th>NA_Sales</th>\n",
       "      <th>EU_Sales</th>\n",
       "      <th>JP_Sales</th>\n",
       "    </tr>\n",
       "  </thead>\n",
       "  <tbody>\n",
       "    <tr>\n",
       "      <th>0</th>\n",
       "      <td>Wii</td>\n",
       "      <td>2006.0</td>\n",
       "      <td>Nintendo</td>\n",
       "      <td>41.36</td>\n",
       "      <td>28.96</td>\n",
       "      <td>3.77</td>\n",
       "    </tr>\n",
       "    <tr>\n",
       "      <th>2</th>\n",
       "      <td>Wii</td>\n",
       "      <td>2008.0</td>\n",
       "      <td>Nintendo</td>\n",
       "      <td>15.68</td>\n",
       "      <td>12.76</td>\n",
       "      <td>3.79</td>\n",
       "    </tr>\n",
       "    <tr>\n",
       "      <th>3</th>\n",
       "      <td>Wii</td>\n",
       "      <td>2009.0</td>\n",
       "      <td>Nintendo</td>\n",
       "      <td>15.61</td>\n",
       "      <td>10.93</td>\n",
       "      <td>3.28</td>\n",
       "    </tr>\n",
       "    <tr>\n",
       "      <th>6</th>\n",
       "      <td>DS</td>\n",
       "      <td>2006.0</td>\n",
       "      <td>Nintendo</td>\n",
       "      <td>11.28</td>\n",
       "      <td>9.14</td>\n",
       "      <td>6.50</td>\n",
       "    </tr>\n",
       "    <tr>\n",
       "      <th>7</th>\n",
       "      <td>Wii</td>\n",
       "      <td>2006.0</td>\n",
       "      <td>Nintendo</td>\n",
       "      <td>13.96</td>\n",
       "      <td>9.18</td>\n",
       "      <td>2.93</td>\n",
       "    </tr>\n",
       "    <tr>\n",
       "      <th>...</th>\n",
       "      <td>...</td>\n",
       "      <td>...</td>\n",
       "      <td>...</td>\n",
       "      <td>...</td>\n",
       "      <td>...</td>\n",
       "      <td>...</td>\n",
       "    </tr>\n",
       "    <tr>\n",
       "      <th>16708</th>\n",
       "      <td>DS</td>\n",
       "      <td>2008.0</td>\n",
       "      <td>Destineer</td>\n",
       "      <td>0.01</td>\n",
       "      <td>0.00</td>\n",
       "      <td>0.00</td>\n",
       "    </tr>\n",
       "    <tr>\n",
       "      <th>16709</th>\n",
       "      <td>PC</td>\n",
       "      <td>2009.0</td>\n",
       "      <td>DTP Entertainment</td>\n",
       "      <td>0.00</td>\n",
       "      <td>0.01</td>\n",
       "      <td>0.00</td>\n",
       "    </tr>\n",
       "    <tr>\n",
       "      <th>16713</th>\n",
       "      <td>PS2</td>\n",
       "      <td>2008.0</td>\n",
       "      <td>Activision</td>\n",
       "      <td>0.00</td>\n",
       "      <td>0.00</td>\n",
       "      <td>0.00</td>\n",
       "    </tr>\n",
       "    <tr>\n",
       "      <th>16714</th>\n",
       "      <td>PS3</td>\n",
       "      <td>2016.0</td>\n",
       "      <td>Tecmo Koei</td>\n",
       "      <td>0.00</td>\n",
       "      <td>0.00</td>\n",
       "      <td>0.01</td>\n",
       "    </tr>\n",
       "    <tr>\n",
       "      <th>16715</th>\n",
       "      <td>X360</td>\n",
       "      <td>2006.0</td>\n",
       "      <td>Codemasters</td>\n",
       "      <td>0.00</td>\n",
       "      <td>0.01</td>\n",
       "      <td>0.00</td>\n",
       "    </tr>\n",
       "  </tbody>\n",
       "</table>\n",
       "<p>9840 rows × 6 columns</p>\n",
       "</div>"
      ],
      "text/plain": [
       "      Platform  Year_of_Release          Publisher  NA_Sales  EU_Sales  \\\n",
       "0          Wii           2006.0           Nintendo     41.36     28.96   \n",
       "2          Wii           2008.0           Nintendo     15.68     12.76   \n",
       "3          Wii           2009.0           Nintendo     15.61     10.93   \n",
       "6           DS           2006.0           Nintendo     11.28      9.14   \n",
       "7          Wii           2006.0           Nintendo     13.96      9.18   \n",
       "...        ...              ...                ...       ...       ...   \n",
       "16708       DS           2008.0          Destineer      0.01      0.00   \n",
       "16709       PC           2009.0  DTP Entertainment      0.00      0.01   \n",
       "16713      PS2           2008.0         Activision      0.00      0.00   \n",
       "16714      PS3           2016.0         Tecmo Koei      0.00      0.00   \n",
       "16715     X360           2006.0        Codemasters      0.00      0.01   \n",
       "\n",
       "       JP_Sales  \n",
       "0          3.77  \n",
       "2          3.79  \n",
       "3          3.28  \n",
       "6          6.50  \n",
       "7          2.93  \n",
       "...         ...  \n",
       "16708      0.00  \n",
       "16709      0.00  \n",
       "16713      0.00  \n",
       "16714      0.01  \n",
       "16715      0.00  \n",
       "\n",
       "[9840 rows x 6 columns]"
      ]
     },
     "execution_count": 13,
     "metadata": {},
     "output_type": "execute_result"
    }
   ],
   "source": [
    "# Create a DF with the relevant platforms\n",
    "updated_df2 = updated_df.loc[updated_df['Platform'].isin(['PC','PS2','DS','PS3','Wii','X360','PS4','XOne'])]\n",
    "updated_df2"
   ]
  },
  {
   "cell_type": "code",
   "execution_count": 14,
   "id": "fd3fa0cd",
   "metadata": {},
   "outputs": [
    {
     "data": {
      "image/png": "[encoded data removed]",
      "text/plain": [
       "<Figure size 432x288 with 1 Axes>"
      ]
     },
     "metadata": {
      "needs_background": "light"
     },
     "output_type": "display_data"
    }
   ],
   "source": [
    "# Create a scatter plot of NA Sales for the Platforms and then save the figure\n",
    "plt.scatter(updated_df2['NA_Sales'],updated_df2['Platform'],marker=\".\",facecolors=\"white\",\\\n",
    "           edgecolors=\"red\",alpha=1)\n",
    "plt.title(\"NA Sales for Each Platform\")\n",
    "plt.xlabel(\"NA Sales\")\n",
    "plt.ylabel(\"Platform\")\n",
    "plt.savefig('Resources/Platforms_NA_Sales')\n",
    "plt.show()"
   ]
  },
  {
   "cell_type": "code",
   "execution_count": 15,
   "id": "679c8d2a",
   "metadata": {},
   "outputs": [
    {
     "data": {
      "image/png": "[encoded data removed]",
      "text/plain": [
       "<Figure size 432x288 with 1 Axes>"
      ]
     },
     "metadata": {
      "needs_background": "light"
     },
     "output_type": "display_data"
    }
   ],
   "source": [
    "# Create a scatter plot of EU Sales for the Platforms and then save the figure\n",
    "plt.scatter(updated_df2['EU_Sales'],updated_df2['Platform'],marker=\".\",facecolors=\"white\",\\\n",
    "           edgecolors=\"blue\",alpha=1)\n",
    "plt.title(\"EU Sales for Each Platform\")\n",
    "plt.xlabel(\"Eu Sales\")\n",
    "plt.ylabel(\"Platform\")\n",
    "plt.savefig('Resources/Platforms_EU_Sales')\n",
    "plt.show()"
   ]
  },
  {
   "cell_type": "code",
   "execution_count": 16,
   "id": "5e9f9fb6",
   "metadata": {},
   "outputs": [
    {
     "data": {
      "image/png": "[encoded data removed]",
      "text/plain": [
       "<Figure size 432x288 with 1 Axes>"
      ]
     },
     "metadata": {
      "needs_background": "light"
     },
     "output_type": "display_data"
    }
   ],
   "source": [
    "# Create a scatter plot of JP Sales for the Platforms and then save the figure\n",
    "plt.scatter(updated_df2['JP_Sales'],updated_df2['Platform'],marker=\".\",facecolors=\"white\",\\\n",
    "           edgecolors=\"green\",alpha=1)\n",
    "plt.title(\"JP Sales for Each Platform\")\n",
    "plt.xlabel(\"JP Sales\")\n",
    "plt.ylabel(\"Platform\")\n",
    "plt.savefig('Resources/Platforms_JP_Sales')\n",
    "plt.show()"
   ]
  },
  {
   "cell_type": "code",
   "execution_count": 17,
   "id": "46c06edb",
   "metadata": {},
   "outputs": [],
   "source": [
    "import pandas as pd\n",
    "import matplotlib.pyplot as plt\n",
    "import numpy as np\n",
    "import random\n",
    "import matplotlib.style as style\n",
    "import seaborn as sns\n"
   ]
  },
  {
   "cell_type": "code",
   "execution_count": 18,
   "id": "5f318bbc",
   "metadata": {},
   "outputs": [],
   "source": [
    "video_game_sales_path = \"Resources/Video_Games_Sales_as_at_22_Dec_2016.csv\"\n",
    "video_game_sales_df = pd.read_csv(video_game_sales_path)"
   ]
  },
  {
   "cell_type": "code",
   "execution_count": 19,
   "id": "e8b0c14f",
   "metadata": {},
   "outputs": [
    {
     "data": {
      "text/html": [
       "<div>\n",
       "<style scoped>\n",
       "    .dataframe tbody tr th:only-of-type {\n",
       "        vertical-align: middle;\n",
       "    }\n",
       "\n",
       "    .dataframe tbody tr th {\n",
       "        vertical-align: top;\n",
       "    }\n",
       "\n",
       "    .dataframe thead th {\n",
       "        text-align: right;\n",
       "    }\n",
       "</style>\n",
       "<table border=\"1\" class=\"dataframe\">\n",
       "  <thead>\n",
       "    <tr style=\"text-align: right;\">\n",
       "      <th></th>\n",
       "      <th>Year_of_Release</th>\n",
       "      <th>Genre</th>\n",
       "      <th>Global_Sales</th>\n",
       "      <th>Rating</th>\n",
       "    </tr>\n",
       "  </thead>\n",
       "  <tbody>\n",
       "    <tr>\n",
       "      <th>0</th>\n",
       "      <td>2006.0</td>\n",
       "      <td>Sports</td>\n",
       "      <td>82.53</td>\n",
       "      <td>E</td>\n",
       "    </tr>\n",
       "    <tr>\n",
       "      <th>1</th>\n",
       "      <td>1985.0</td>\n",
       "      <td>Platform</td>\n",
       "      <td>40.24</td>\n",
       "      <td>NaN</td>\n",
       "    </tr>\n",
       "    <tr>\n",
       "      <th>2</th>\n",
       "      <td>2008.0</td>\n",
       "      <td>Racing</td>\n",
       "      <td>35.52</td>\n",
       "      <td>E</td>\n",
       "    </tr>\n",
       "    <tr>\n",
       "      <th>3</th>\n",
       "      <td>2009.0</td>\n",
       "      <td>Sports</td>\n",
       "      <td>32.77</td>\n",
       "      <td>E</td>\n",
       "    </tr>\n",
       "    <tr>\n",
       "      <th>4</th>\n",
       "      <td>1996.0</td>\n",
       "      <td>Role-Playing</td>\n",
       "      <td>31.37</td>\n",
       "      <td>NaN</td>\n",
       "    </tr>\n",
       "    <tr>\n",
       "      <th>...</th>\n",
       "      <td>...</td>\n",
       "      <td>...</td>\n",
       "      <td>...</td>\n",
       "      <td>...</td>\n",
       "    </tr>\n",
       "    <tr>\n",
       "      <th>16714</th>\n",
       "      <td>2016.0</td>\n",
       "      <td>Action</td>\n",
       "      <td>0.01</td>\n",
       "      <td>NaN</td>\n",
       "    </tr>\n",
       "    <tr>\n",
       "      <th>16715</th>\n",
       "      <td>2006.0</td>\n",
       "      <td>Sports</td>\n",
       "      <td>0.01</td>\n",
       "      <td>NaN</td>\n",
       "    </tr>\n",
       "    <tr>\n",
       "      <th>16716</th>\n",
       "      <td>2016.0</td>\n",
       "      <td>Adventure</td>\n",
       "      <td>0.01</td>\n",
       "      <td>NaN</td>\n",
       "    </tr>\n",
       "    <tr>\n",
       "      <th>16717</th>\n",
       "      <td>2003.0</td>\n",
       "      <td>Platform</td>\n",
       "      <td>0.01</td>\n",
       "      <td>NaN</td>\n",
       "    </tr>\n",
       "    <tr>\n",
       "      <th>16718</th>\n",
       "      <td>2016.0</td>\n",
       "      <td>Simulation</td>\n",
       "      <td>0.01</td>\n",
       "      <td>NaN</td>\n",
       "    </tr>\n",
       "  </tbody>\n",
       "</table>\n",
       "<p>16719 rows × 4 columns</p>\n",
       "</div>"
      ],
      "text/plain": [
       "       Year_of_Release         Genre  Global_Sales Rating\n",
       "0               2006.0        Sports         82.53      E\n",
       "1               1985.0      Platform         40.24    NaN\n",
       "2               2008.0        Racing         35.52      E\n",
       "3               2009.0        Sports         32.77      E\n",
       "4               1996.0  Role-Playing         31.37    NaN\n",
       "...                ...           ...           ...    ...\n",
       "16714           2016.0        Action          0.01    NaN\n",
       "16715           2006.0        Sports          0.01    NaN\n",
       "16716           2016.0     Adventure          0.01    NaN\n",
       "16717           2003.0      Platform          0.01    NaN\n",
       "16718           2016.0    Simulation          0.01    NaN\n",
       "\n",
       "[16719 rows x 4 columns]"
      ]
     },
     "execution_count": 19,
     "metadata": {},
     "output_type": "execute_result"
    }
   ],
   "source": [
    "#Drop all rows that contain a NaN value\n",
    "video_game_sales_df.dropna()\n",
    "\n",
    "#Show multiple specific columns \n",
    "video_game_sales_df[['Year_of_Release','Genre','Global_Sales','Rating']]"
   ]
  },
  {
   "cell_type": "code",
   "execution_count": 20,
   "id": "efedc88a",
   "metadata": {},
   "outputs": [
    {
     "data": {
      "text/plain": [
       "Action          3370\n",
       "Sports          2348\n",
       "Misc            1750\n",
       "Role-Playing    1500\n",
       "Shooter         1323\n",
       "Adventure       1303\n",
       "Racing          1249\n",
       "Platform         888\n",
       "Simulation       874\n",
       "Fighting         849\n",
       "Strategy         683\n",
       "Puzzle           580\n",
       "Name: Genre, dtype: int64"
      ]
     },
     "execution_count": 20,
     "metadata": {},
     "output_type": "execute_result"
    }
   ],
   "source": [
    "#Count the Genres that have occured within each year\n",
    "year_counts = video_game_sales_df[\"Genre\"].value_counts()\n",
    "year_counts"
   ]
  },
  {
   "cell_type": "code",
   "execution_count": 21,
   "id": "e6830405",
   "metadata": {},
   "outputs": [],
   "source": [
    "data_path = \"Resources/Video_Games_Sales_as_at_22_Dec_2016.csv\""
   ]
  },
  {
   "cell_type": "code",
   "execution_count": 22,
   "id": "e1691a12",
   "metadata": {},
   "outputs": [
    {
     "data": {
      "text/html": [
       "<div>\n",
       "<style scoped>\n",
       "    .dataframe tbody tr th:only-of-type {\n",
       "        vertical-align: middle;\n",
       "    }\n",
       "\n",
       "    .dataframe tbody tr th {\n",
       "        vertical-align: top;\n",
       "    }\n",
       "\n",
       "    .dataframe thead th {\n",
       "        text-align: right;\n",
       "    }\n",
       "</style>\n",
       "<table border=\"1\" class=\"dataframe\">\n",
       "  <thead>\n",
       "    <tr style=\"text-align: right;\">\n",
       "      <th></th>\n",
       "      <th>Name</th>\n",
       "      <th>Platform</th>\n",
       "      <th>Year_of_Release</th>\n",
       "      <th>Genre</th>\n",
       "      <th>Publisher</th>\n",
       "      <th>NA_Sales</th>\n",
       "      <th>EU_Sales</th>\n",
       "      <th>JP_Sales</th>\n",
       "      <th>Other_Sales</th>\n",
       "      <th>Global_Sales</th>\n",
       "      <th>Critic_Score</th>\n",
       "      <th>Critic_Count</th>\n",
       "      <th>User_Score</th>\n",
       "      <th>User_Count</th>\n",
       "      <th>Developer</th>\n",
       "      <th>Rating</th>\n",
       "    </tr>\n",
       "  </thead>\n",
       "  <tbody>\n",
       "    <tr>\n",
       "      <th>0</th>\n",
       "      <td>Wii Sports</td>\n",
       "      <td>Wii</td>\n",
       "      <td>2006.0</td>\n",
       "      <td>Sports</td>\n",
       "      <td>Nintendo</td>\n",
       "      <td>41.36</td>\n",
       "      <td>28.96</td>\n",
       "      <td>3.77</td>\n",
       "      <td>8.45</td>\n",
       "      <td>82.53</td>\n",
       "      <td>76.0</td>\n",
       "      <td>51.0</td>\n",
       "      <td>8</td>\n",
       "      <td>322.0</td>\n",
       "      <td>Nintendo</td>\n",
       "      <td>E</td>\n",
       "    </tr>\n",
       "    <tr>\n",
       "      <th>2</th>\n",
       "      <td>Mario Kart Wii</td>\n",
       "      <td>Wii</td>\n",
       "      <td>2008.0</td>\n",
       "      <td>Racing</td>\n",
       "      <td>Nintendo</td>\n",
       "      <td>15.68</td>\n",
       "      <td>12.76</td>\n",
       "      <td>3.79</td>\n",
       "      <td>3.29</td>\n",
       "      <td>35.52</td>\n",
       "      <td>82.0</td>\n",
       "      <td>73.0</td>\n",
       "      <td>8.3</td>\n",
       "      <td>709.0</td>\n",
       "      <td>Nintendo</td>\n",
       "      <td>E</td>\n",
       "    </tr>\n",
       "    <tr>\n",
       "      <th>3</th>\n",
       "      <td>Wii Sports Resort</td>\n",
       "      <td>Wii</td>\n",
       "      <td>2009.0</td>\n",
       "      <td>Sports</td>\n",
       "      <td>Nintendo</td>\n",
       "      <td>15.61</td>\n",
       "      <td>10.93</td>\n",
       "      <td>3.28</td>\n",
       "      <td>2.95</td>\n",
       "      <td>32.77</td>\n",
       "      <td>80.0</td>\n",
       "      <td>73.0</td>\n",
       "      <td>8</td>\n",
       "      <td>192.0</td>\n",
       "      <td>Nintendo</td>\n",
       "      <td>E</td>\n",
       "    </tr>\n",
       "    <tr>\n",
       "      <th>6</th>\n",
       "      <td>New Super Mario Bros.</td>\n",
       "      <td>DS</td>\n",
       "      <td>2006.0</td>\n",
       "      <td>Platform</td>\n",
       "      <td>Nintendo</td>\n",
       "      <td>11.28</td>\n",
       "      <td>9.14</td>\n",
       "      <td>6.50</td>\n",
       "      <td>2.88</td>\n",
       "      <td>29.80</td>\n",
       "      <td>89.0</td>\n",
       "      <td>65.0</td>\n",
       "      <td>8.5</td>\n",
       "      <td>431.0</td>\n",
       "      <td>Nintendo</td>\n",
       "      <td>E</td>\n",
       "    </tr>\n",
       "    <tr>\n",
       "      <th>7</th>\n",
       "      <td>Wii Play</td>\n",
       "      <td>Wii</td>\n",
       "      <td>2006.0</td>\n",
       "      <td>Misc</td>\n",
       "      <td>Nintendo</td>\n",
       "      <td>13.96</td>\n",
       "      <td>9.18</td>\n",
       "      <td>2.93</td>\n",
       "      <td>2.84</td>\n",
       "      <td>28.92</td>\n",
       "      <td>58.0</td>\n",
       "      <td>41.0</td>\n",
       "      <td>6.6</td>\n",
       "      <td>129.0</td>\n",
       "      <td>Nintendo</td>\n",
       "      <td>E</td>\n",
       "    </tr>\n",
       "  </tbody>\n",
       "</table>\n",
       "</div>"
      ],
      "text/plain": [
       "                    Name Platform  Year_of_Release     Genre Publisher  \\\n",
       "0             Wii Sports      Wii           2006.0    Sports  Nintendo   \n",
       "2         Mario Kart Wii      Wii           2008.0    Racing  Nintendo   \n",
       "3      Wii Sports Resort      Wii           2009.0    Sports  Nintendo   \n",
       "6  New Super Mario Bros.       DS           2006.0  Platform  Nintendo   \n",
       "7               Wii Play      Wii           2006.0      Misc  Nintendo   \n",
       "\n",
       "   NA_Sales  EU_Sales  JP_Sales  Other_Sales  Global_Sales  Critic_Score  \\\n",
       "0     41.36     28.96      3.77         8.45         82.53          76.0   \n",
       "2     15.68     12.76      3.79         3.29         35.52          82.0   \n",
       "3     15.61     10.93      3.28         2.95         32.77          80.0   \n",
       "6     11.28      9.14      6.50         2.88         29.80          89.0   \n",
       "7     13.96      9.18      2.93         2.84         28.92          58.0   \n",
       "\n",
       "   Critic_Count User_Score  User_Count Developer Rating  \n",
       "0          51.0          8       322.0  Nintendo      E  \n",
       "2          73.0        8.3       709.0  Nintendo      E  \n",
       "3          73.0          8       192.0  Nintendo      E  \n",
       "6          65.0        8.5       431.0  Nintendo      E  \n",
       "7          41.0        6.6       129.0  Nintendo      E  "
      ]
     },
     "execution_count": 22,
     "metadata": {},
     "output_type": "execute_result"
    }
   ],
   "source": [
    "# Read in the table with headers\n",
    "df = pd.read_csv(data_path, header=0)\n",
    "# First, get rid of games missing ratings\n",
    "dfsub = df[df.Rating.notnull()]\n",
    "dfsub.head()"
   ]
  },
  {
   "cell_type": "code",
   "execution_count": 23,
   "id": "5a16ab55",
   "metadata": {},
   "outputs": [
    {
     "data": {
      "text/html": [
       "<div>\n",
       "<style scoped>\n",
       "    .dataframe tbody tr th:only-of-type {\n",
       "        vertical-align: middle;\n",
       "    }\n",
       "\n",
       "    .dataframe tbody tr th {\n",
       "        vertical-align: top;\n",
       "    }\n",
       "\n",
       "    .dataframe thead th {\n",
       "        text-align: right;\n",
       "    }\n",
       "</style>\n",
       "<table border=\"1\" class=\"dataframe\">\n",
       "  <thead>\n",
       "    <tr style=\"text-align: right;\">\n",
       "      <th></th>\n",
       "      <th>Name</th>\n",
       "      <th>Platform</th>\n",
       "      <th>Year_of_Release</th>\n",
       "      <th>Genre</th>\n",
       "      <th>Publisher</th>\n",
       "      <th>NA_Sales</th>\n",
       "      <th>EU_Sales</th>\n",
       "      <th>JP_Sales</th>\n",
       "      <th>Other_Sales</th>\n",
       "      <th>Global_Sales</th>\n",
       "      <th>Critic_Score</th>\n",
       "      <th>Critic_Count</th>\n",
       "      <th>User_Score</th>\n",
       "      <th>User_Count</th>\n",
       "      <th>Developer</th>\n",
       "      <th>Rating</th>\n",
       "    </tr>\n",
       "    <tr>\n",
       "      <th>Rating</th>\n",
       "      <th></th>\n",
       "      <th></th>\n",
       "      <th></th>\n",
       "      <th></th>\n",
       "      <th></th>\n",
       "      <th></th>\n",
       "      <th></th>\n",
       "      <th></th>\n",
       "      <th></th>\n",
       "      <th></th>\n",
       "      <th></th>\n",
       "      <th></th>\n",
       "      <th></th>\n",
       "      <th></th>\n",
       "      <th></th>\n",
       "      <th></th>\n",
       "    </tr>\n",
       "  </thead>\n",
       "  <tbody>\n",
       "    <tr>\n",
       "      <th>AO</th>\n",
       "      <td>1</td>\n",
       "      <td>1</td>\n",
       "      <td>1</td>\n",
       "      <td>1</td>\n",
       "      <td>1</td>\n",
       "      <td>1</td>\n",
       "      <td>1</td>\n",
       "      <td>1</td>\n",
       "      <td>1</td>\n",
       "      <td>1</td>\n",
       "      <td>1</td>\n",
       "      <td>1</td>\n",
       "      <td>1</td>\n",
       "      <td>1</td>\n",
       "      <td>1</td>\n",
       "      <td>1</td>\n",
       "    </tr>\n",
       "    <tr>\n",
       "      <th>E</th>\n",
       "      <td>3991</td>\n",
       "      <td>3991</td>\n",
       "      <td>3922</td>\n",
       "      <td>3991</td>\n",
       "      <td>3989</td>\n",
       "      <td>3991</td>\n",
       "      <td>3991</td>\n",
       "      <td>3991</td>\n",
       "      <td>3991</td>\n",
       "      <td>3991</td>\n",
       "      <td>2808</td>\n",
       "      <td>2808</td>\n",
       "      <td>3951</td>\n",
       "      <td>2375</td>\n",
       "      <td>3991</td>\n",
       "      <td>3991</td>\n",
       "    </tr>\n",
       "    <tr>\n",
       "      <th>E10+</th>\n",
       "      <td>1420</td>\n",
       "      <td>1420</td>\n",
       "      <td>1393</td>\n",
       "      <td>1420</td>\n",
       "      <td>1418</td>\n",
       "      <td>1420</td>\n",
       "      <td>1420</td>\n",
       "      <td>1420</td>\n",
       "      <td>1420</td>\n",
       "      <td>1420</td>\n",
       "      <td>1118</td>\n",
       "      <td>1118</td>\n",
       "      <td>1413</td>\n",
       "      <td>1043</td>\n",
       "      <td>1420</td>\n",
       "      <td>1420</td>\n",
       "    </tr>\n",
       "    <tr>\n",
       "      <th>EC</th>\n",
       "      <td>8</td>\n",
       "      <td>8</td>\n",
       "      <td>8</td>\n",
       "      <td>8</td>\n",
       "      <td>8</td>\n",
       "      <td>8</td>\n",
       "      <td>8</td>\n",
       "      <td>8</td>\n",
       "      <td>8</td>\n",
       "      <td>8</td>\n",
       "      <td>0</td>\n",
       "      <td>0</td>\n",
       "      <td>8</td>\n",
       "      <td>1</td>\n",
       "      <td>8</td>\n",
       "      <td>8</td>\n",
       "    </tr>\n",
       "    <tr>\n",
       "      <th>K-A</th>\n",
       "      <td>3</td>\n",
       "      <td>3</td>\n",
       "      <td>3</td>\n",
       "      <td>3</td>\n",
       "      <td>3</td>\n",
       "      <td>3</td>\n",
       "      <td>3</td>\n",
       "      <td>3</td>\n",
       "      <td>3</td>\n",
       "      <td>3</td>\n",
       "      <td>1</td>\n",
       "      <td>1</td>\n",
       "      <td>3</td>\n",
       "      <td>3</td>\n",
       "      <td>3</td>\n",
       "      <td>3</td>\n",
       "    </tr>\n",
       "    <tr>\n",
       "      <th>M</th>\n",
       "      <td>1563</td>\n",
       "      <td>1563</td>\n",
       "      <td>1536</td>\n",
       "      <td>1563</td>\n",
       "      <td>1562</td>\n",
       "      <td>1563</td>\n",
       "      <td>1563</td>\n",
       "      <td>1563</td>\n",
       "      <td>1563</td>\n",
       "      <td>1563</td>\n",
       "      <td>1483</td>\n",
       "      <td>1483</td>\n",
       "      <td>1560</td>\n",
       "      <td>1518</td>\n",
       "      <td>1563</td>\n",
       "      <td>1563</td>\n",
       "    </tr>\n",
       "    <tr>\n",
       "      <th>RP</th>\n",
       "      <td>3</td>\n",
       "      <td>3</td>\n",
       "      <td>1</td>\n",
       "      <td>3</td>\n",
       "      <td>3</td>\n",
       "      <td>3</td>\n",
       "      <td>3</td>\n",
       "      <td>3</td>\n",
       "      <td>3</td>\n",
       "      <td>3</td>\n",
       "      <td>3</td>\n",
       "      <td>3</td>\n",
       "      <td>2</td>\n",
       "      <td>2</td>\n",
       "      <td>3</td>\n",
       "      <td>3</td>\n",
       "    </tr>\n",
       "    <tr>\n",
       "      <th>T</th>\n",
       "      <td>2961</td>\n",
       "      <td>2961</td>\n",
       "      <td>2905</td>\n",
       "      <td>2961</td>\n",
       "      <td>2959</td>\n",
       "      <td>2961</td>\n",
       "      <td>2961</td>\n",
       "      <td>2961</td>\n",
       "      <td>2961</td>\n",
       "      <td>2961</td>\n",
       "      <td>2640</td>\n",
       "      <td>2640</td>\n",
       "      <td>2941</td>\n",
       "      <td>2561</td>\n",
       "      <td>2961</td>\n",
       "      <td>2961</td>\n",
       "    </tr>\n",
       "  </tbody>\n",
       "</table>\n",
       "</div>"
      ],
      "text/plain": [
       "        Name  Platform  Year_of_Release  Genre  Publisher  NA_Sales  EU_Sales  \\\n",
       "Rating                                                                          \n",
       "AO         1         1                1      1          1         1         1   \n",
       "E       3991      3991             3922   3991       3989      3991      3991   \n",
       "E10+    1420      1420             1393   1420       1418      1420      1420   \n",
       "EC         8         8                8      8          8         8         8   \n",
       "K-A        3         3                3      3          3         3         3   \n",
       "M       1563      1563             1536   1563       1562      1563      1563   \n",
       "RP         3         3                1      3          3         3         3   \n",
       "T       2961      2961             2905   2961       2959      2961      2961   \n",
       "\n",
       "        JP_Sales  Other_Sales  Global_Sales  Critic_Score  Critic_Count  \\\n",
       "Rating                                                                    \n",
       "AO             1            1             1             1             1   \n",
       "E           3991         3991          3991          2808          2808   \n",
       "E10+        1420         1420          1420          1118          1118   \n",
       "EC             8            8             8             0             0   \n",
       "K-A            3            3             3             1             1   \n",
       "M           1563         1563          1563          1483          1483   \n",
       "RP             3            3             3             3             3   \n",
       "T           2961         2961          2961          2640          2640   \n",
       "\n",
       "        User_Score  User_Count  Developer  Rating  \n",
       "Rating                                             \n",
       "AO               1           1          1       1  \n",
       "E             3951        2375       3991    3991  \n",
       "E10+          1413        1043       1420    1420  \n",
       "EC               8           1          8       8  \n",
       "K-A              3           3          3       3  \n",
       "M             1560        1518       1563    1563  \n",
       "RP               2           2          3       3  \n",
       "T             2941        2561       2961    2961  "
      ]
     },
     "execution_count": 23,
     "metadata": {},
     "output_type": "execute_result"
    }
   ],
   "source": [
    "dfsub.groupby(df['Rating']).count()"
   ]
  },
  {
   "cell_type": "code",
   "execution_count": 24,
   "id": "bf75c115",
   "metadata": {},
   "outputs": [
    {
     "data": {
      "text/plain": [
       "(array([ 0,  1,  2,  3,  4,  5,  6,  7,  8,  9, 10, 11, 12, 13, 14, 15, 16,\n",
       "        17, 18, 19, 20, 21, 22, 23, 24, 25, 26, 27, 28, 29, 30, 31, 32, 33,\n",
       "        34, 35, 36, 37, 38]),\n",
       " [Text(0, 0, '1980.0'),\n",
       "  Text(1, 0, '1981.0'),\n",
       "  Text(2, 0, '1982.0'),\n",
       "  Text(3, 0, '1983.0'),\n",
       "  Text(4, 0, '1984.0'),\n",
       "  Text(5, 0, '1985.0'),\n",
       "  Text(6, 0, '1986.0'),\n",
       "  Text(7, 0, '1987.0'),\n",
       "  Text(8, 0, '1988.0'),\n",
       "  Text(9, 0, '1989.0'),\n",
       "  Text(10, 0, '1990.0'),\n",
       "  Text(11, 0, '1991.0'),\n",
       "  Text(12, 0, '1992.0'),\n",
       "  Text(13, 0, '1993.0'),\n",
       "  Text(14, 0, '1994.0'),\n",
       "  Text(15, 0, '1995.0'),\n",
       "  Text(16, 0, '1996.0'),\n",
       "  Text(17, 0, '1997.0'),\n",
       "  Text(18, 0, '1998.0'),\n",
       "  Text(19, 0, '1999.0'),\n",
       "  Text(20, 0, '2000.0'),\n",
       "  Text(21, 0, '2001.0'),\n",
       "  Text(22, 0, '2002.0'),\n",
       "  Text(23, 0, '2003.0'),\n",
       "  Text(24, 0, '2004.0'),\n",
       "  Text(25, 0, '2005.0'),\n",
       "  Text(26, 0, '2006.0'),\n",
       "  Text(27, 0, '2007.0'),\n",
       "  Text(28, 0, '2008.0'),\n",
       "  Text(29, 0, '2009.0'),\n",
       "  Text(30, 0, '2010.0'),\n",
       "  Text(31, 0, '2011.0'),\n",
       "  Text(32, 0, '2012.0'),\n",
       "  Text(33, 0, '2013.0'),\n",
       "  Text(34, 0, '2014.0'),\n",
       "  Text(35, 0, '2015.0'),\n",
       "  Text(36, 0, '2016.0'),\n",
       "  Text(37, 0, '2017.0'),\n",
       "  Text(38, 0, '2020.0')])"
      ]
     },
     "execution_count": 24,
     "metadata": {},
     "output_type": "execute_result"
    },
    {
     "data": {
      "image/png": "[encoded data removed]",
      "text/plain": [
       "<Figure size 432x288 with 1 Axes>"
      ]
     },
     "metadata": {
      "needs_background": "light"
     },
     "output_type": "display_data"
    }
   ],
   "source": [
    "#How do components such as Critic Rating change over time?\n",
    "dfsub = df[df.Year_of_Release.notnull()]\n",
    "sns.barplot(x=\"Year_of_Release\", y=\"Critic_Score\", data=dfsub)\n",
    "plt.xticks(rotation=75)"
   ]
  },
  {
   "cell_type": "code",
   "execution_count": 25,
   "id": "3032cc4a",
   "metadata": {},
   "outputs": [],
   "source": [
    "import pandas as pd\n",
    "import matplotlib.pyplot as plt\n",
    "import numpy as np\n",
    "import seaborn as sns\n",
    "import matplotlib.style as style"
   ]
  },
  {
   "cell_type": "code",
   "execution_count": 26,
   "id": "14e964a8",
   "metadata": {},
   "outputs": [],
   "source": [
    "video_game_sales_path = \"Resources/Video_Games_Sales_as_at_22_Dec_2016.csv\"\n",
    "video_game_sales_df = pd.read_csv(video_game_sales_path)"
   ]
  },
  {
   "cell_type": "code",
   "execution_count": 27,
   "id": "97445e3f",
   "metadata": {},
   "outputs": [
    {
     "data": {
      "text/html": [
       "<div>\n",
       "<style scoped>\n",
       "    .dataframe tbody tr th:only-of-type {\n",
       "        vertical-align: middle;\n",
       "    }\n",
       "\n",
       "    .dataframe tbody tr th {\n",
       "        vertical-align: top;\n",
       "    }\n",
       "\n",
       "    .dataframe thead th {\n",
       "        text-align: right;\n",
       "    }\n",
       "</style>\n",
       "<table border=\"1\" class=\"dataframe\">\n",
       "  <thead>\n",
       "    <tr style=\"text-align: right;\">\n",
       "      <th></th>\n",
       "      <th>Name</th>\n",
       "      <th>Platform</th>\n",
       "      <th>Year_of_Release</th>\n",
       "      <th>Genre</th>\n",
       "      <th>Publisher</th>\n",
       "      <th>NA_Sales</th>\n",
       "      <th>EU_Sales</th>\n",
       "      <th>JP_Sales</th>\n",
       "      <th>Other_Sales</th>\n",
       "      <th>Global_Sales</th>\n",
       "      <th>Critic_Score</th>\n",
       "      <th>Critic_Count</th>\n",
       "      <th>User_Score</th>\n",
       "      <th>User_Count</th>\n",
       "      <th>Developer</th>\n",
       "      <th>Rating</th>\n",
       "    </tr>\n",
       "  </thead>\n",
       "  <tbody>\n",
       "    <tr>\n",
       "      <th>0</th>\n",
       "      <td>Wii Sports</td>\n",
       "      <td>Wii</td>\n",
       "      <td>2006.0</td>\n",
       "      <td>Sports</td>\n",
       "      <td>Nintendo</td>\n",
       "      <td>41.36</td>\n",
       "      <td>28.96</td>\n",
       "      <td>3.77</td>\n",
       "      <td>8.45</td>\n",
       "      <td>82.53</td>\n",
       "      <td>76.0</td>\n",
       "      <td>51.0</td>\n",
       "      <td>8</td>\n",
       "      <td>322.0</td>\n",
       "      <td>Nintendo</td>\n",
       "      <td>E</td>\n",
       "    </tr>\n",
       "    <tr>\n",
       "      <th>1</th>\n",
       "      <td>Super Mario Bros.</td>\n",
       "      <td>NES</td>\n",
       "      <td>1985.0</td>\n",
       "      <td>Platform</td>\n",
       "      <td>Nintendo</td>\n",
       "      <td>29.08</td>\n",
       "      <td>3.58</td>\n",
       "      <td>6.81</td>\n",
       "      <td>0.77</td>\n",
       "      <td>40.24</td>\n",
       "      <td>NaN</td>\n",
       "      <td>NaN</td>\n",
       "      <td>NaN</td>\n",
       "      <td>NaN</td>\n",
       "      <td>NaN</td>\n",
       "      <td>NaN</td>\n",
       "    </tr>\n",
       "    <tr>\n",
       "      <th>2</th>\n",
       "      <td>Mario Kart Wii</td>\n",
       "      <td>Wii</td>\n",
       "      <td>2008.0</td>\n",
       "      <td>Racing</td>\n",
       "      <td>Nintendo</td>\n",
       "      <td>15.68</td>\n",
       "      <td>12.76</td>\n",
       "      <td>3.79</td>\n",
       "      <td>3.29</td>\n",
       "      <td>35.52</td>\n",
       "      <td>82.0</td>\n",
       "      <td>73.0</td>\n",
       "      <td>8.3</td>\n",
       "      <td>709.0</td>\n",
       "      <td>Nintendo</td>\n",
       "      <td>E</td>\n",
       "    </tr>\n",
       "    <tr>\n",
       "      <th>3</th>\n",
       "      <td>Wii Sports Resort</td>\n",
       "      <td>Wii</td>\n",
       "      <td>2009.0</td>\n",
       "      <td>Sports</td>\n",
       "      <td>Nintendo</td>\n",
       "      <td>15.61</td>\n",
       "      <td>10.93</td>\n",
       "      <td>3.28</td>\n",
       "      <td>2.95</td>\n",
       "      <td>32.77</td>\n",
       "      <td>80.0</td>\n",
       "      <td>73.0</td>\n",
       "      <td>8</td>\n",
       "      <td>192.0</td>\n",
       "      <td>Nintendo</td>\n",
       "      <td>E</td>\n",
       "    </tr>\n",
       "    <tr>\n",
       "      <th>4</th>\n",
       "      <td>Pokemon Red/Pokemon Blue</td>\n",
       "      <td>GB</td>\n",
       "      <td>1996.0</td>\n",
       "      <td>Role-Playing</td>\n",
       "      <td>Nintendo</td>\n",
       "      <td>11.27</td>\n",
       "      <td>8.89</td>\n",
       "      <td>10.22</td>\n",
       "      <td>1.00</td>\n",
       "      <td>31.37</td>\n",
       "      <td>NaN</td>\n",
       "      <td>NaN</td>\n",
       "      <td>NaN</td>\n",
       "      <td>NaN</td>\n",
       "      <td>NaN</td>\n",
       "      <td>NaN</td>\n",
       "    </tr>\n",
       "    <tr>\n",
       "      <th>...</th>\n",
       "      <td>...</td>\n",
       "      <td>...</td>\n",
       "      <td>...</td>\n",
       "      <td>...</td>\n",
       "      <td>...</td>\n",
       "      <td>...</td>\n",
       "      <td>...</td>\n",
       "      <td>...</td>\n",
       "      <td>...</td>\n",
       "      <td>...</td>\n",
       "      <td>...</td>\n",
       "      <td>...</td>\n",
       "      <td>...</td>\n",
       "      <td>...</td>\n",
       "      <td>...</td>\n",
       "      <td>...</td>\n",
       "    </tr>\n",
       "    <tr>\n",
       "      <th>16714</th>\n",
       "      <td>Samurai Warriors: Sanada Maru</td>\n",
       "      <td>PS3</td>\n",
       "      <td>2016.0</td>\n",
       "      <td>Action</td>\n",
       "      <td>Tecmo Koei</td>\n",
       "      <td>0.00</td>\n",
       "      <td>0.00</td>\n",
       "      <td>0.01</td>\n",
       "      <td>0.00</td>\n",
       "      <td>0.01</td>\n",
       "      <td>NaN</td>\n",
       "      <td>NaN</td>\n",
       "      <td>NaN</td>\n",
       "      <td>NaN</td>\n",
       "      <td>NaN</td>\n",
       "      <td>NaN</td>\n",
       "    </tr>\n",
       "    <tr>\n",
       "      <th>16715</th>\n",
       "      <td>LMA Manager 2007</td>\n",
       "      <td>X360</td>\n",
       "      <td>2006.0</td>\n",
       "      <td>Sports</td>\n",
       "      <td>Codemasters</td>\n",
       "      <td>0.00</td>\n",
       "      <td>0.01</td>\n",
       "      <td>0.00</td>\n",
       "      <td>0.00</td>\n",
       "      <td>0.01</td>\n",
       "      <td>NaN</td>\n",
       "      <td>NaN</td>\n",
       "      <td>NaN</td>\n",
       "      <td>NaN</td>\n",
       "      <td>NaN</td>\n",
       "      <td>NaN</td>\n",
       "    </tr>\n",
       "    <tr>\n",
       "      <th>16716</th>\n",
       "      <td>Haitaka no Psychedelica</td>\n",
       "      <td>PSV</td>\n",
       "      <td>2016.0</td>\n",
       "      <td>Adventure</td>\n",
       "      <td>Idea Factory</td>\n",
       "      <td>0.00</td>\n",
       "      <td>0.00</td>\n",
       "      <td>0.01</td>\n",
       "      <td>0.00</td>\n",
       "      <td>0.01</td>\n",
       "      <td>NaN</td>\n",
       "      <td>NaN</td>\n",
       "      <td>NaN</td>\n",
       "      <td>NaN</td>\n",
       "      <td>NaN</td>\n",
       "      <td>NaN</td>\n",
       "    </tr>\n",
       "    <tr>\n",
       "      <th>16717</th>\n",
       "      <td>Spirits &amp; Spells</td>\n",
       "      <td>GBA</td>\n",
       "      <td>2003.0</td>\n",
       "      <td>Platform</td>\n",
       "      <td>Wanadoo</td>\n",
       "      <td>0.01</td>\n",
       "      <td>0.00</td>\n",
       "      <td>0.00</td>\n",
       "      <td>0.00</td>\n",
       "      <td>0.01</td>\n",
       "      <td>NaN</td>\n",
       "      <td>NaN</td>\n",
       "      <td>NaN</td>\n",
       "      <td>NaN</td>\n",
       "      <td>NaN</td>\n",
       "      <td>NaN</td>\n",
       "    </tr>\n",
       "    <tr>\n",
       "      <th>16718</th>\n",
       "      <td>Winning Post 8 2016</td>\n",
       "      <td>PSV</td>\n",
       "      <td>2016.0</td>\n",
       "      <td>Simulation</td>\n",
       "      <td>Tecmo Koei</td>\n",
       "      <td>0.00</td>\n",
       "      <td>0.00</td>\n",
       "      <td>0.01</td>\n",
       "      <td>0.00</td>\n",
       "      <td>0.01</td>\n",
       "      <td>NaN</td>\n",
       "      <td>NaN</td>\n",
       "      <td>NaN</td>\n",
       "      <td>NaN</td>\n",
       "      <td>NaN</td>\n",
       "      <td>NaN</td>\n",
       "    </tr>\n",
       "  </tbody>\n",
       "</table>\n",
       "<p>16719 rows × 16 columns</p>\n",
       "</div>"
      ],
      "text/plain": [
       "                                Name Platform  Year_of_Release         Genre  \\\n",
       "0                         Wii Sports      Wii           2006.0        Sports   \n",
       "1                  Super Mario Bros.      NES           1985.0      Platform   \n",
       "2                     Mario Kart Wii      Wii           2008.0        Racing   \n",
       "3                  Wii Sports Resort      Wii           2009.0        Sports   \n",
       "4           Pokemon Red/Pokemon Blue       GB           1996.0  Role-Playing   \n",
       "...                              ...      ...              ...           ...   \n",
       "16714  Samurai Warriors: Sanada Maru      PS3           2016.0        Action   \n",
       "16715               LMA Manager 2007     X360           2006.0        Sports   \n",
       "16716        Haitaka no Psychedelica      PSV           2016.0     Adventure   \n",
       "16717               Spirits & Spells      GBA           2003.0      Platform   \n",
       "16718            Winning Post 8 2016      PSV           2016.0    Simulation   \n",
       "\n",
       "          Publisher  NA_Sales  EU_Sales  JP_Sales  Other_Sales  Global_Sales  \\\n",
       "0          Nintendo     41.36     28.96      3.77         8.45         82.53   \n",
       "1          Nintendo     29.08      3.58      6.81         0.77         40.24   \n",
       "2          Nintendo     15.68     12.76      3.79         3.29         35.52   \n",
       "3          Nintendo     15.61     10.93      3.28         2.95         32.77   \n",
       "4          Nintendo     11.27      8.89     10.22         1.00         31.37   \n",
       "...             ...       ...       ...       ...          ...           ...   \n",
       "16714    Tecmo Koei      0.00      0.00      0.01         0.00          0.01   \n",
       "16715   Codemasters      0.00      0.01      0.00         0.00          0.01   \n",
       "16716  Idea Factory      0.00      0.00      0.01         0.00          0.01   \n",
       "16717       Wanadoo      0.01      0.00      0.00         0.00          0.01   \n",
       "16718    Tecmo Koei      0.00      0.00      0.01         0.00          0.01   \n",
       "\n",
       "       Critic_Score  Critic_Count User_Score  User_Count Developer Rating  \n",
       "0              76.0          51.0          8       322.0  Nintendo      E  \n",
       "1               NaN           NaN        NaN         NaN       NaN    NaN  \n",
       "2              82.0          73.0        8.3       709.0  Nintendo      E  \n",
       "3              80.0          73.0          8       192.0  Nintendo      E  \n",
       "4               NaN           NaN        NaN         NaN       NaN    NaN  \n",
       "...             ...           ...        ...         ...       ...    ...  \n",
       "16714           NaN           NaN        NaN         NaN       NaN    NaN  \n",
       "16715           NaN           NaN        NaN         NaN       NaN    NaN  \n",
       "16716           NaN           NaN        NaN         NaN       NaN    NaN  \n",
       "16717           NaN           NaN        NaN         NaN       NaN    NaN  \n",
       "16718           NaN           NaN        NaN         NaN       NaN    NaN  \n",
       "\n",
       "[16719 rows x 16 columns]"
      ]
     },
     "execution_count": 27,
     "metadata": {},
     "output_type": "execute_result"
    }
   ],
   "source": [
    "video_game_sales_df"
   ]
  },
  {
   "cell_type": "code",
   "execution_count": 28,
   "id": "ee0058cf",
   "metadata": {},
   "outputs": [
    {
     "data": {
      "text/html": [
       "<div>\n",
       "<style scoped>\n",
       "    .dataframe tbody tr th:only-of-type {\n",
       "        vertical-align: middle;\n",
       "    }\n",
       "\n",
       "    .dataframe tbody tr th {\n",
       "        vertical-align: top;\n",
       "    }\n",
       "\n",
       "    .dataframe thead th {\n",
       "        text-align: right;\n",
       "    }\n",
       "</style>\n",
       "<table border=\"1\" class=\"dataframe\">\n",
       "  <thead>\n",
       "    <tr style=\"text-align: right;\">\n",
       "      <th></th>\n",
       "      <th>Year_of_Release</th>\n",
       "      <th>NA_Sales</th>\n",
       "      <th>EU_Sales</th>\n",
       "      <th>JP_Sales</th>\n",
       "      <th>Other_Sales</th>\n",
       "      <th>Global_Sales</th>\n",
       "      <th>Critic_Score</th>\n",
       "      <th>Critic_Count</th>\n",
       "      <th>User_Count</th>\n",
       "    </tr>\n",
       "  </thead>\n",
       "  <tbody>\n",
       "    <tr>\n",
       "      <th>count</th>\n",
       "      <td>16450.000000</td>\n",
       "      <td>16719.000000</td>\n",
       "      <td>16719.000000</td>\n",
       "      <td>16719.000000</td>\n",
       "      <td>16719.000000</td>\n",
       "      <td>16719.000000</td>\n",
       "      <td>8137.000000</td>\n",
       "      <td>8137.000000</td>\n",
       "      <td>7590.000000</td>\n",
       "    </tr>\n",
       "    <tr>\n",
       "      <th>mean</th>\n",
       "      <td>2006.487356</td>\n",
       "      <td>0.263330</td>\n",
       "      <td>0.145025</td>\n",
       "      <td>0.077602</td>\n",
       "      <td>0.047332</td>\n",
       "      <td>0.533543</td>\n",
       "      <td>68.967679</td>\n",
       "      <td>26.360821</td>\n",
       "      <td>162.229908</td>\n",
       "    </tr>\n",
       "    <tr>\n",
       "      <th>std</th>\n",
       "      <td>5.878995</td>\n",
       "      <td>0.813514</td>\n",
       "      <td>0.503283</td>\n",
       "      <td>0.308818</td>\n",
       "      <td>0.186710</td>\n",
       "      <td>1.547935</td>\n",
       "      <td>13.938165</td>\n",
       "      <td>18.980495</td>\n",
       "      <td>561.282326</td>\n",
       "    </tr>\n",
       "    <tr>\n",
       "      <th>min</th>\n",
       "      <td>1980.000000</td>\n",
       "      <td>0.000000</td>\n",
       "      <td>0.000000</td>\n",
       "      <td>0.000000</td>\n",
       "      <td>0.000000</td>\n",
       "      <td>0.010000</td>\n",
       "      <td>13.000000</td>\n",
       "      <td>3.000000</td>\n",
       "      <td>4.000000</td>\n",
       "    </tr>\n",
       "    <tr>\n",
       "      <th>25%</th>\n",
       "      <td>2003.000000</td>\n",
       "      <td>0.000000</td>\n",
       "      <td>0.000000</td>\n",
       "      <td>0.000000</td>\n",
       "      <td>0.000000</td>\n",
       "      <td>0.060000</td>\n",
       "      <td>60.000000</td>\n",
       "      <td>12.000000</td>\n",
       "      <td>10.000000</td>\n",
       "    </tr>\n",
       "    <tr>\n",
       "      <th>50%</th>\n",
       "      <td>2007.000000</td>\n",
       "      <td>0.080000</td>\n",
       "      <td>0.020000</td>\n",
       "      <td>0.000000</td>\n",
       "      <td>0.010000</td>\n",
       "      <td>0.170000</td>\n",
       "      <td>71.000000</td>\n",
       "      <td>21.000000</td>\n",
       "      <td>24.000000</td>\n",
       "    </tr>\n",
       "    <tr>\n",
       "      <th>75%</th>\n",
       "      <td>2010.000000</td>\n",
       "      <td>0.240000</td>\n",
       "      <td>0.110000</td>\n",
       "      <td>0.040000</td>\n",
       "      <td>0.030000</td>\n",
       "      <td>0.470000</td>\n",
       "      <td>79.000000</td>\n",
       "      <td>36.000000</td>\n",
       "      <td>81.000000</td>\n",
       "    </tr>\n",
       "    <tr>\n",
       "      <th>max</th>\n",
       "      <td>2020.000000</td>\n",
       "      <td>41.360000</td>\n",
       "      <td>28.960000</td>\n",
       "      <td>10.220000</td>\n",
       "      <td>10.570000</td>\n",
       "      <td>82.530000</td>\n",
       "      <td>98.000000</td>\n",
       "      <td>113.000000</td>\n",
       "      <td>10665.000000</td>\n",
       "    </tr>\n",
       "  </tbody>\n",
       "</table>\n",
       "</div>"
      ],
      "text/plain": [
       "       Year_of_Release      NA_Sales      EU_Sales      JP_Sales  \\\n",
       "count     16450.000000  16719.000000  16719.000000  16719.000000   \n",
       "mean       2006.487356      0.263330      0.145025      0.077602   \n",
       "std           5.878995      0.813514      0.503283      0.308818   \n",
       "min        1980.000000      0.000000      0.000000      0.000000   \n",
       "25%        2003.000000      0.000000      0.000000      0.000000   \n",
       "50%        2007.000000      0.080000      0.020000      0.000000   \n",
       "75%        2010.000000      0.240000      0.110000      0.040000   \n",
       "max        2020.000000     41.360000     28.960000     10.220000   \n",
       "\n",
       "        Other_Sales  Global_Sales  Critic_Score  Critic_Count    User_Count  \n",
       "count  16719.000000  16719.000000   8137.000000   8137.000000   7590.000000  \n",
       "mean       0.047332      0.533543     68.967679     26.360821    162.229908  \n",
       "std        0.186710      1.547935     13.938165     18.980495    561.282326  \n",
       "min        0.000000      0.010000     13.000000      3.000000      4.000000  \n",
       "25%        0.000000      0.060000     60.000000     12.000000     10.000000  \n",
       "50%        0.010000      0.170000     71.000000     21.000000     24.000000  \n",
       "75%        0.030000      0.470000     79.000000     36.000000     81.000000  \n",
       "max       10.570000     82.530000     98.000000    113.000000  10665.000000  "
      ]
     },
     "execution_count": 28,
     "metadata": {},
     "output_type": "execute_result"
    }
   ],
   "source": [
    "#Checking for null values in the dataset.\n",
    "video_game_sales_df.count()\n",
    "video_game_sales_df.describe()"
   ]
  },
  {
   "cell_type": "code",
   "execution_count": 29,
   "id": "809d0544",
   "metadata": {},
   "outputs": [
    {
     "data": {
      "text/plain": [
       "Name               6825\n",
       "Platform           6825\n",
       "Year_of_Release    6825\n",
       "Genre              6825\n",
       "Publisher          6825\n",
       "NA_Sales           6825\n",
       "EU_Sales           6825\n",
       "JP_Sales           6825\n",
       "Other_Sales        6825\n",
       "Global_Sales       6825\n",
       "Critic_Score       6825\n",
       "Critic_Count       6825\n",
       "User_Score         6825\n",
       "User_Count         6825\n",
       "Developer          6825\n",
       "Rating             6825\n",
       "dtype: int64"
      ]
     },
     "execution_count": 29,
     "metadata": {},
     "output_type": "execute_result"
    }
   ],
   "source": [
    "# Dropping Null Values \n",
    "no_null_video_game_sales_df = video_game_sales_df.dropna(how='any')\n",
    "video_game_sales_df=no_null_video_game_sales_df \n",
    "no_null_video_game_sales_df.count()"
   ]
  },
  {
   "cell_type": "code",
   "execution_count": 30,
   "id": "1bba51ee",
   "metadata": {},
   "outputs": [
    {
     "name": "stdout",
     "output_type": "stream",
     "text": [
      "<class 'pandas.core.frame.DataFrame'>\n",
      "Int64Index: 6825 entries, 0 to 16706\n",
      "Data columns (total 16 columns):\n",
      " #   Column           Non-Null Count  Dtype  \n",
      "---  ------           --------------  -----  \n",
      " 0   Name             6825 non-null   object \n",
      " 1   Platform         6825 non-null   object \n",
      " 2   Year_of_Release  6825 non-null   float64\n",
      " 3   Genre            6825 non-null   object \n",
      " 4   Publisher        6825 non-null   object \n",
      " 5   NA_Sales         6825 non-null   float64\n",
      " 6   EU_Sales         6825 non-null   float64\n",
      " 7   JP_Sales         6825 non-null   float64\n",
      " 8   Other_Sales      6825 non-null   float64\n",
      " 9   Global_Sales     6825 non-null   float64\n",
      " 10  Critic_Score     6825 non-null   float64\n",
      " 11  Critic_Count     6825 non-null   float64\n",
      " 12  User_Score       6825 non-null   object \n",
      " 13  User_Count       6825 non-null   float64\n",
      " 14  Developer        6825 non-null   object \n",
      " 15  Rating           6825 non-null   object \n",
      "dtypes: float64(9), object(7)\n",
      "memory usage: 906.4+ KB\n"
     ]
    }
   ],
   "source": [
    "# Verifying Dropped Null Values and Dtypes\n",
    "no_null_video_game_sales_df.info()"
   ]
  },
  {
   "cell_type": "code",
   "execution_count": 31,
   "id": "1e1dbd07",
   "metadata": {},
   "outputs": [],
   "source": [
    "# Changing dtype of User_Score\n",
    "no_null_video_game_sales_df['User_Score'] = no_null_video_game_sales_df['User_Score'].astype(float)"
   ]
  },
  {
   "cell_type": "code",
   "execution_count": 32,
   "id": "4ac4b757",
   "metadata": {},
   "outputs": [
    {
     "name": "stdout",
     "output_type": "stream",
     "text": [
      "<class 'pandas.core.frame.DataFrame'>\n",
      "Int64Index: 6825 entries, 0 to 16706\n",
      "Data columns (total 16 columns):\n",
      " #   Column           Non-Null Count  Dtype  \n",
      "---  ------           --------------  -----  \n",
      " 0   Name             6825 non-null   object \n",
      " 1   Platform         6825 non-null   object \n",
      " 2   Year_of_Release  6825 non-null   float64\n",
      " 3   Genre            6825 non-null   object \n",
      " 4   Publisher        6825 non-null   object \n",
      " 5   NA_Sales         6825 non-null   float64\n",
      " 6   EU_Sales         6825 non-null   float64\n",
      " 7   JP_Sales         6825 non-null   float64\n",
      " 8   Other_Sales      6825 non-null   float64\n",
      " 9   Global_Sales     6825 non-null   float64\n",
      " 10  Critic_Score     6825 non-null   float64\n",
      " 11  Critic_Count     6825 non-null   float64\n",
      " 12  User_Score       6825 non-null   float64\n",
      " 13  User_Count       6825 non-null   float64\n",
      " 14  Developer        6825 non-null   object \n",
      " 15  Rating           6825 non-null   object \n",
      "dtypes: float64(10), object(6)\n",
      "memory usage: 906.4+ KB\n"
     ]
    },
    {
     "data": {
      "text/plain": [
       "1192480.0"
      ]
     },
     "execution_count": 32,
     "metadata": {},
     "output_type": "execute_result"
    }
   ],
   "source": [
    "#Verifying change and checking the sum\n",
    "no_null_video_game_sales_df.info()\n",
    "no_null_video_game_sales_df[\"User_Count\"].sum()"
   ]
  },
  {
   "cell_type": "code",
   "execution_count": 33,
   "id": "30b7c7e3",
   "metadata": {},
   "outputs": [
    {
     "data": {
      "text/html": [
       "<div>\n",
       "<style scoped>\n",
       "    .dataframe tbody tr th:only-of-type {\n",
       "        vertical-align: middle;\n",
       "    }\n",
       "\n",
       "    .dataframe tbody tr th {\n",
       "        vertical-align: top;\n",
       "    }\n",
       "\n",
       "    .dataframe thead th {\n",
       "        text-align: right;\n",
       "    }\n",
       "</style>\n",
       "<table border=\"1\" class=\"dataframe\">\n",
       "  <thead>\n",
       "    <tr style=\"text-align: right;\">\n",
       "      <th></th>\n",
       "      <th></th>\n",
       "      <th>User_Score</th>\n",
       "    </tr>\n",
       "    <tr>\n",
       "      <th>Genre</th>\n",
       "      <th>Rating</th>\n",
       "      <th></th>\n",
       "    </tr>\n",
       "  </thead>\n",
       "  <tbody>\n",
       "    <tr>\n",
       "      <th rowspan=\"5\" valign=\"top\">Action</th>\n",
       "      <th>AO</th>\n",
       "      <td>8.600000</td>\n",
       "    </tr>\n",
       "    <tr>\n",
       "      <th>E</th>\n",
       "      <td>6.742932</td>\n",
       "    </tr>\n",
       "    <tr>\n",
       "      <th>E10+</th>\n",
       "      <td>6.831438</td>\n",
       "    </tr>\n",
       "    <tr>\n",
       "      <th>M</th>\n",
       "      <td>7.312926</td>\n",
       "    </tr>\n",
       "    <tr>\n",
       "      <th>T</th>\n",
       "      <td>7.137113</td>\n",
       "    </tr>\n",
       "    <tr>\n",
       "      <th rowspan=\"4\" valign=\"top\">Adventure</th>\n",
       "      <th>E</th>\n",
       "      <td>6.546939</td>\n",
       "    </tr>\n",
       "    <tr>\n",
       "      <th>E10+</th>\n",
       "      <td>6.375000</td>\n",
       "    </tr>\n",
       "    <tr>\n",
       "      <th>M</th>\n",
       "      <td>7.518824</td>\n",
       "    </tr>\n",
       "    <tr>\n",
       "      <th>T</th>\n",
       "      <td>7.463415</td>\n",
       "    </tr>\n",
       "    <tr>\n",
       "      <th rowspan=\"4\" valign=\"top\">Fighting</th>\n",
       "      <th>E</th>\n",
       "      <td>6.350000</td>\n",
       "    </tr>\n",
       "    <tr>\n",
       "      <th>E10+</th>\n",
       "      <td>6.607143</td>\n",
       "    </tr>\n",
       "    <tr>\n",
       "      <th>M</th>\n",
       "      <td>7.297778</td>\n",
       "    </tr>\n",
       "    <tr>\n",
       "      <th>T</th>\n",
       "      <td>7.351757</td>\n",
       "    </tr>\n",
       "    <tr>\n",
       "      <th rowspan=\"5\" valign=\"top\">Misc</th>\n",
       "      <th>E</th>\n",
       "      <td>6.758896</td>\n",
       "    </tr>\n",
       "    <tr>\n",
       "      <th>E10+</th>\n",
       "      <td>6.837500</td>\n",
       "    </tr>\n",
       "    <tr>\n",
       "      <th>K-A</th>\n",
       "      <td>7.400000</td>\n",
       "    </tr>\n",
       "    <tr>\n",
       "      <th>M</th>\n",
       "      <td>6.736364</td>\n",
       "    </tr>\n",
       "    <tr>\n",
       "      <th>T</th>\n",
       "      <td>6.977519</td>\n",
       "    </tr>\n",
       "    <tr>\n",
       "      <th rowspan=\"4\" valign=\"top\">Platform</th>\n",
       "      <th>E</th>\n",
       "      <td>7.552917</td>\n",
       "    </tr>\n",
       "    <tr>\n",
       "      <th>E10+</th>\n",
       "      <td>6.892308</td>\n",
       "    </tr>\n",
       "    <tr>\n",
       "      <th>M</th>\n",
       "      <td>7.533333</td>\n",
       "    </tr>\n",
       "    <tr>\n",
       "      <th>T</th>\n",
       "      <td>7.516071</td>\n",
       "    </tr>\n",
       "    <tr>\n",
       "      <th rowspan=\"3\" valign=\"top\">Puzzle</th>\n",
       "      <th>E</th>\n",
       "      <td>7.317978</td>\n",
       "    </tr>\n",
       "    <tr>\n",
       "      <th>E10+</th>\n",
       "      <td>7.179167</td>\n",
       "    </tr>\n",
       "    <tr>\n",
       "      <th>T</th>\n",
       "      <td>6.400000</td>\n",
       "    </tr>\n",
       "    <tr>\n",
       "      <th rowspan=\"4\" valign=\"top\">Racing</th>\n",
       "      <th>E</th>\n",
       "      <td>7.161143</td>\n",
       "    </tr>\n",
       "    <tr>\n",
       "      <th>E10+</th>\n",
       "      <td>7.025316</td>\n",
       "    </tr>\n",
       "    <tr>\n",
       "      <th>M</th>\n",
       "      <td>5.288235</td>\n",
       "    </tr>\n",
       "    <tr>\n",
       "      <th>T</th>\n",
       "      <td>7.231852</td>\n",
       "    </tr>\n",
       "    <tr>\n",
       "      <th rowspan=\"4\" valign=\"top\">Role-Playing</th>\n",
       "      <th>E</th>\n",
       "      <td>7.972603</td>\n",
       "    </tr>\n",
       "    <tr>\n",
       "      <th>E10+</th>\n",
       "      <td>7.399000</td>\n",
       "    </tr>\n",
       "    <tr>\n",
       "      <th>M</th>\n",
       "      <td>7.325658</td>\n",
       "    </tr>\n",
       "    <tr>\n",
       "      <th>T</th>\n",
       "      <td>7.723514</td>\n",
       "    </tr>\n",
       "    <tr>\n",
       "      <th rowspan=\"4\" valign=\"top\">Shooter</th>\n",
       "      <th>E</th>\n",
       "      <td>7.640909</td>\n",
       "    </tr>\n",
       "    <tr>\n",
       "      <th>E10+</th>\n",
       "      <td>7.261765</td>\n",
       "    </tr>\n",
       "    <tr>\n",
       "      <th>M</th>\n",
       "      <td>6.997706</td>\n",
       "    </tr>\n",
       "    <tr>\n",
       "      <th>T</th>\n",
       "      <td>7.185614</td>\n",
       "    </tr>\n",
       "    <tr>\n",
       "      <th rowspan=\"4\" valign=\"top\">Simulation</th>\n",
       "      <th>E</th>\n",
       "      <td>7.028155</td>\n",
       "    </tr>\n",
       "    <tr>\n",
       "      <th>E10+</th>\n",
       "      <td>6.885714</td>\n",
       "    </tr>\n",
       "    <tr>\n",
       "      <th>M</th>\n",
       "      <td>7.460000</td>\n",
       "    </tr>\n",
       "    <tr>\n",
       "      <th>T</th>\n",
       "      <td>7.350311</td>\n",
       "    </tr>\n",
       "    <tr>\n",
       "      <th rowspan=\"4\" valign=\"top\">Sports</th>\n",
       "      <th>E</th>\n",
       "      <td>7.173475</td>\n",
       "    </tr>\n",
       "    <tr>\n",
       "      <th>E10+</th>\n",
       "      <td>6.616216</td>\n",
       "    </tr>\n",
       "    <tr>\n",
       "      <th>M</th>\n",
       "      <td>7.036364</td>\n",
       "    </tr>\n",
       "    <tr>\n",
       "      <th>T</th>\n",
       "      <td>7.016346</td>\n",
       "    </tr>\n",
       "    <tr>\n",
       "      <th rowspan=\"5\" valign=\"top\">Strategy</th>\n",
       "      <th>E</th>\n",
       "      <td>7.352381</td>\n",
       "    </tr>\n",
       "    <tr>\n",
       "      <th>E10+</th>\n",
       "      <td>6.782258</td>\n",
       "    </tr>\n",
       "    <tr>\n",
       "      <th>M</th>\n",
       "      <td>7.029167</td>\n",
       "    </tr>\n",
       "    <tr>\n",
       "      <th>RP</th>\n",
       "      <td>6.800000</td>\n",
       "    </tr>\n",
       "    <tr>\n",
       "      <th>T</th>\n",
       "      <td>7.669565</td>\n",
       "    </tr>\n",
       "  </tbody>\n",
       "</table>\n",
       "</div>"
      ],
      "text/plain": [
       "                     User_Score\n",
       "Genre        Rating            \n",
       "Action       AO        8.600000\n",
       "             E         6.742932\n",
       "             E10+      6.831438\n",
       "             M         7.312926\n",
       "             T         7.137113\n",
       "Adventure    E         6.546939\n",
       "             E10+      6.375000\n",
       "             M         7.518824\n",
       "             T         7.463415\n",
       "Fighting     E         6.350000\n",
       "             E10+      6.607143\n",
       "             M         7.297778\n",
       "             T         7.351757\n",
       "Misc         E         6.758896\n",
       "             E10+      6.837500\n",
       "             K-A       7.400000\n",
       "             M         6.736364\n",
       "             T         6.977519\n",
       "Platform     E         7.552917\n",
       "             E10+      6.892308\n",
       "             M         7.533333\n",
       "             T         7.516071\n",
       "Puzzle       E         7.317978\n",
       "             E10+      7.179167\n",
       "             T         6.400000\n",
       "Racing       E         7.161143\n",
       "             E10+      7.025316\n",
       "             M         5.288235\n",
       "             T         7.231852\n",
       "Role-Playing E         7.972603\n",
       "             E10+      7.399000\n",
       "             M         7.325658\n",
       "             T         7.723514\n",
       "Shooter      E         7.640909\n",
       "             E10+      7.261765\n",
       "             M         6.997706\n",
       "             T         7.185614\n",
       "Simulation   E         7.028155\n",
       "             E10+      6.885714\n",
       "             M         7.460000\n",
       "             T         7.350311\n",
       "Sports       E         7.173475\n",
       "             E10+      6.616216\n",
       "             M         7.036364\n",
       "             T         7.016346\n",
       "Strategy     E         7.352381\n",
       "             E10+      6.782258\n",
       "             M         7.029167\n",
       "             RP        6.800000\n",
       "             T         7.669565"
      ]
     },
     "execution_count": 33,
     "metadata": {},
     "output_type": "execute_result"
    }
   ],
   "source": [
    "#Aggregrating the mean of the user_score based on the rating and genre\n",
    "rating_by_genre= pd.DataFrame(no_null_video_game_sales_df.groupby(['Genre','Rating'])['User_Score'].agg('mean'))\n",
    "rating_by_genre"
   ]
  },
  {
   "cell_type": "code",
   "execution_count": 34,
   "id": "bc7905f7",
   "metadata": {},
   "outputs": [],
   "source": [
    "#reseting the index and deleting bad data\n",
    "no_index_rating_by_genre=rating_by_genre.reset_index()\n",
    "cleaned_no_index_rating_by_genre=no_index_rating_by_genre.drop(no_index_rating_by_genre.index[[0,15,48]])"
   ]
  },
  {
   "cell_type": "code",
   "execution_count": 35,
   "id": "8744c2ca",
   "metadata": {},
   "outputs": [
    {
     "data": {
      "text/html": [
       "<div>\n",
       "<style scoped>\n",
       "    .dataframe tbody tr th:only-of-type {\n",
       "        vertical-align: middle;\n",
       "    }\n",
       "\n",
       "    .dataframe tbody tr th {\n",
       "        vertical-align: top;\n",
       "    }\n",
       "\n",
       "    .dataframe thead th {\n",
       "        text-align: right;\n",
       "    }\n",
       "</style>\n",
       "<table border=\"1\" class=\"dataframe\">\n",
       "  <thead>\n",
       "    <tr style=\"text-align: right;\">\n",
       "      <th></th>\n",
       "      <th>Genre</th>\n",
       "      <th>Rating</th>\n",
       "      <th>User_Score</th>\n",
       "    </tr>\n",
       "  </thead>\n",
       "  <tbody>\n",
       "    <tr>\n",
       "      <th>1</th>\n",
       "      <td>Action</td>\n",
       "      <td>E</td>\n",
       "      <td>6.742932</td>\n",
       "    </tr>\n",
       "    <tr>\n",
       "      <th>2</th>\n",
       "      <td>Action</td>\n",
       "      <td>E10+</td>\n",
       "      <td>6.831438</td>\n",
       "    </tr>\n",
       "    <tr>\n",
       "      <th>3</th>\n",
       "      <td>Action</td>\n",
       "      <td>M</td>\n",
       "      <td>7.312926</td>\n",
       "    </tr>\n",
       "    <tr>\n",
       "      <th>4</th>\n",
       "      <td>Action</td>\n",
       "      <td>T</td>\n",
       "      <td>7.137113</td>\n",
       "    </tr>\n",
       "    <tr>\n",
       "      <th>5</th>\n",
       "      <td>Adventure</td>\n",
       "      <td>E</td>\n",
       "      <td>6.546939</td>\n",
       "    </tr>\n",
       "    <tr>\n",
       "      <th>6</th>\n",
       "      <td>Adventure</td>\n",
       "      <td>E10+</td>\n",
       "      <td>6.375000</td>\n",
       "    </tr>\n",
       "    <tr>\n",
       "      <th>7</th>\n",
       "      <td>Adventure</td>\n",
       "      <td>M</td>\n",
       "      <td>7.518824</td>\n",
       "    </tr>\n",
       "    <tr>\n",
       "      <th>8</th>\n",
       "      <td>Adventure</td>\n",
       "      <td>T</td>\n",
       "      <td>7.463415</td>\n",
       "    </tr>\n",
       "    <tr>\n",
       "      <th>9</th>\n",
       "      <td>Fighting</td>\n",
       "      <td>E</td>\n",
       "      <td>6.350000</td>\n",
       "    </tr>\n",
       "    <tr>\n",
       "      <th>10</th>\n",
       "      <td>Fighting</td>\n",
       "      <td>E10+</td>\n",
       "      <td>6.607143</td>\n",
       "    </tr>\n",
       "    <tr>\n",
       "      <th>11</th>\n",
       "      <td>Fighting</td>\n",
       "      <td>M</td>\n",
       "      <td>7.297778</td>\n",
       "    </tr>\n",
       "    <tr>\n",
       "      <th>12</th>\n",
       "      <td>Fighting</td>\n",
       "      <td>T</td>\n",
       "      <td>7.351757</td>\n",
       "    </tr>\n",
       "    <tr>\n",
       "      <th>13</th>\n",
       "      <td>Misc</td>\n",
       "      <td>E</td>\n",
       "      <td>6.758896</td>\n",
       "    </tr>\n",
       "    <tr>\n",
       "      <th>14</th>\n",
       "      <td>Misc</td>\n",
       "      <td>E10+</td>\n",
       "      <td>6.837500</td>\n",
       "    </tr>\n",
       "    <tr>\n",
       "      <th>16</th>\n",
       "      <td>Misc</td>\n",
       "      <td>M</td>\n",
       "      <td>6.736364</td>\n",
       "    </tr>\n",
       "    <tr>\n",
       "      <th>17</th>\n",
       "      <td>Misc</td>\n",
       "      <td>T</td>\n",
       "      <td>6.977519</td>\n",
       "    </tr>\n",
       "    <tr>\n",
       "      <th>18</th>\n",
       "      <td>Platform</td>\n",
       "      <td>E</td>\n",
       "      <td>7.552917</td>\n",
       "    </tr>\n",
       "    <tr>\n",
       "      <th>19</th>\n",
       "      <td>Platform</td>\n",
       "      <td>E10+</td>\n",
       "      <td>6.892308</td>\n",
       "    </tr>\n",
       "    <tr>\n",
       "      <th>20</th>\n",
       "      <td>Platform</td>\n",
       "      <td>M</td>\n",
       "      <td>7.533333</td>\n",
       "    </tr>\n",
       "    <tr>\n",
       "      <th>21</th>\n",
       "      <td>Platform</td>\n",
       "      <td>T</td>\n",
       "      <td>7.516071</td>\n",
       "    </tr>\n",
       "    <tr>\n",
       "      <th>22</th>\n",
       "      <td>Puzzle</td>\n",
       "      <td>E</td>\n",
       "      <td>7.317978</td>\n",
       "    </tr>\n",
       "    <tr>\n",
       "      <th>23</th>\n",
       "      <td>Puzzle</td>\n",
       "      <td>E10+</td>\n",
       "      <td>7.179167</td>\n",
       "    </tr>\n",
       "    <tr>\n",
       "      <th>24</th>\n",
       "      <td>Puzzle</td>\n",
       "      <td>T</td>\n",
       "      <td>6.400000</td>\n",
       "    </tr>\n",
       "    <tr>\n",
       "      <th>25</th>\n",
       "      <td>Racing</td>\n",
       "      <td>E</td>\n",
       "      <td>7.161143</td>\n",
       "    </tr>\n",
       "    <tr>\n",
       "      <th>26</th>\n",
       "      <td>Racing</td>\n",
       "      <td>E10+</td>\n",
       "      <td>7.025316</td>\n",
       "    </tr>\n",
       "    <tr>\n",
       "      <th>27</th>\n",
       "      <td>Racing</td>\n",
       "      <td>M</td>\n",
       "      <td>5.288235</td>\n",
       "    </tr>\n",
       "    <tr>\n",
       "      <th>28</th>\n",
       "      <td>Racing</td>\n",
       "      <td>T</td>\n",
       "      <td>7.231852</td>\n",
       "    </tr>\n",
       "    <tr>\n",
       "      <th>29</th>\n",
       "      <td>Role-Playing</td>\n",
       "      <td>E</td>\n",
       "      <td>7.972603</td>\n",
       "    </tr>\n",
       "    <tr>\n",
       "      <th>30</th>\n",
       "      <td>Role-Playing</td>\n",
       "      <td>E10+</td>\n",
       "      <td>7.399000</td>\n",
       "    </tr>\n",
       "    <tr>\n",
       "      <th>31</th>\n",
       "      <td>Role-Playing</td>\n",
       "      <td>M</td>\n",
       "      <td>7.325658</td>\n",
       "    </tr>\n",
       "    <tr>\n",
       "      <th>32</th>\n",
       "      <td>Role-Playing</td>\n",
       "      <td>T</td>\n",
       "      <td>7.723514</td>\n",
       "    </tr>\n",
       "    <tr>\n",
       "      <th>33</th>\n",
       "      <td>Shooter</td>\n",
       "      <td>E</td>\n",
       "      <td>7.640909</td>\n",
       "    </tr>\n",
       "    <tr>\n",
       "      <th>34</th>\n",
       "      <td>Shooter</td>\n",
       "      <td>E10+</td>\n",
       "      <td>7.261765</td>\n",
       "    </tr>\n",
       "    <tr>\n",
       "      <th>35</th>\n",
       "      <td>Shooter</td>\n",
       "      <td>M</td>\n",
       "      <td>6.997706</td>\n",
       "    </tr>\n",
       "    <tr>\n",
       "      <th>36</th>\n",
       "      <td>Shooter</td>\n",
       "      <td>T</td>\n",
       "      <td>7.185614</td>\n",
       "    </tr>\n",
       "    <tr>\n",
       "      <th>37</th>\n",
       "      <td>Simulation</td>\n",
       "      <td>E</td>\n",
       "      <td>7.028155</td>\n",
       "    </tr>\n",
       "    <tr>\n",
       "      <th>38</th>\n",
       "      <td>Simulation</td>\n",
       "      <td>E10+</td>\n",
       "      <td>6.885714</td>\n",
       "    </tr>\n",
       "    <tr>\n",
       "      <th>39</th>\n",
       "      <td>Simulation</td>\n",
       "      <td>M</td>\n",
       "      <td>7.460000</td>\n",
       "    </tr>\n",
       "    <tr>\n",
       "      <th>40</th>\n",
       "      <td>Simulation</td>\n",
       "      <td>T</td>\n",
       "      <td>7.350311</td>\n",
       "    </tr>\n",
       "    <tr>\n",
       "      <th>41</th>\n",
       "      <td>Sports</td>\n",
       "      <td>E</td>\n",
       "      <td>7.173475</td>\n",
       "    </tr>\n",
       "    <tr>\n",
       "      <th>42</th>\n",
       "      <td>Sports</td>\n",
       "      <td>E10+</td>\n",
       "      <td>6.616216</td>\n",
       "    </tr>\n",
       "    <tr>\n",
       "      <th>43</th>\n",
       "      <td>Sports</td>\n",
       "      <td>M</td>\n",
       "      <td>7.036364</td>\n",
       "    </tr>\n",
       "    <tr>\n",
       "      <th>44</th>\n",
       "      <td>Sports</td>\n",
       "      <td>T</td>\n",
       "      <td>7.016346</td>\n",
       "    </tr>\n",
       "    <tr>\n",
       "      <th>45</th>\n",
       "      <td>Strategy</td>\n",
       "      <td>E</td>\n",
       "      <td>7.352381</td>\n",
       "    </tr>\n",
       "    <tr>\n",
       "      <th>46</th>\n",
       "      <td>Strategy</td>\n",
       "      <td>E10+</td>\n",
       "      <td>6.782258</td>\n",
       "    </tr>\n",
       "    <tr>\n",
       "      <th>47</th>\n",
       "      <td>Strategy</td>\n",
       "      <td>M</td>\n",
       "      <td>7.029167</td>\n",
       "    </tr>\n",
       "    <tr>\n",
       "      <th>49</th>\n",
       "      <td>Strategy</td>\n",
       "      <td>T</td>\n",
       "      <td>7.669565</td>\n",
       "    </tr>\n",
       "  </tbody>\n",
       "</table>\n",
       "</div>"
      ],
      "text/plain": [
       "           Genre Rating  User_Score\n",
       "1         Action      E    6.742932\n",
       "2         Action   E10+    6.831438\n",
       "3         Action      M    7.312926\n",
       "4         Action      T    7.137113\n",
       "5      Adventure      E    6.546939\n",
       "6      Adventure   E10+    6.375000\n",
       "7      Adventure      M    7.518824\n",
       "8      Adventure      T    7.463415\n",
       "9       Fighting      E    6.350000\n",
       "10      Fighting   E10+    6.607143\n",
       "11      Fighting      M    7.297778\n",
       "12      Fighting      T    7.351757\n",
       "13          Misc      E    6.758896\n",
       "14          Misc   E10+    6.837500\n",
       "16          Misc      M    6.736364\n",
       "17          Misc      T    6.977519\n",
       "18      Platform      E    7.552917\n",
       "19      Platform   E10+    6.892308\n",
       "20      Platform      M    7.533333\n",
       "21      Platform      T    7.516071\n",
       "22        Puzzle      E    7.317978\n",
       "23        Puzzle   E10+    7.179167\n",
       "24        Puzzle      T    6.400000\n",
       "25        Racing      E    7.161143\n",
       "26        Racing   E10+    7.025316\n",
       "27        Racing      M    5.288235\n",
       "28        Racing      T    7.231852\n",
       "29  Role-Playing      E    7.972603\n",
       "30  Role-Playing   E10+    7.399000\n",
       "31  Role-Playing      M    7.325658\n",
       "32  Role-Playing      T    7.723514\n",
       "33       Shooter      E    7.640909\n",
       "34       Shooter   E10+    7.261765\n",
       "35       Shooter      M    6.997706\n",
       "36       Shooter      T    7.185614\n",
       "37    Simulation      E    7.028155\n",
       "38    Simulation   E10+    6.885714\n",
       "39    Simulation      M    7.460000\n",
       "40    Simulation      T    7.350311\n",
       "41        Sports      E    7.173475\n",
       "42        Sports   E10+    6.616216\n",
       "43        Sports      M    7.036364\n",
       "44        Sports      T    7.016346\n",
       "45      Strategy      E    7.352381\n",
       "46      Strategy   E10+    6.782258\n",
       "47      Strategy      M    7.029167\n",
       "49      Strategy      T    7.669565"
      ]
     },
     "execution_count": 35,
     "metadata": {},
     "output_type": "execute_result"
    }
   ],
   "source": [
    "#looks like Puzzle Genre type is missing a value (have to set to 0)\n",
    "cleaned_no_index_rating_by_genre['Rating'].value_counts()\n",
    "cleaned_no_index_rating_by_genre"
   ]
  },
  {
   "cell_type": "code",
   "execution_count": 36,
   "id": "b811e8d5",
   "metadata": {},
   "outputs": [],
   "source": [
    "#Used this code to check for individiluzed rating and user_score\n",
    "#E_Rating=cleaned_no_index_rating_by_genre.loc[cleaned_no_index_rating_by_genre['Rating']==\"E\"]\n",
    "#E_Rating\n",
    "#E_Rating['User_Score'].tolist()"
   ]
  },
  {
   "cell_type": "code",
   "execution_count": 37,
   "id": "fe0bcae7",
   "metadata": {},
   "outputs": [
    {
     "data": {
      "image/png": "[encoded data removed]",
      "text/plain": [
       "<Figure size 432x288 with 1 Axes>"
      ]
     },
     "metadata": {
      "needs_background": "light"
     },
     "output_type": "display_data"
    }
   ],
   "source": [
    "#Graph of the average user score by genre type\n",
    "stacked_bar_chart_avg_user_genre = pd.DataFrame(index=['Action', 'Adventure', 'Fighting', 'Misc', 'Platform', 'Puzzle','Racing', 'Role-Playing', 'Shooter', 'Simulation', 'Sports','Strategy'], \n",
    "                                                data = {'E': [6.277486910994765,6.122448979591836,5.833333333333333,6.306748466257669,7.104166666666667,6.876404494382022,6.731428571428571,7.534246575342466,7.2272727272727275,6.592233009708738,6.704244031830239,6.880952380952381], \n",
    "                        'E10+': [6.431438127090301,5.84375,6.142857142857143,6.3875,6.4423076923076925,6.75,6.620253164556962,6.96,6.794117647058823,6.5,6.162162162162162,6.241935483870968], \n",
    "                        'M': [6.861759425493716,7.0588235294117645,6.8,6.2727272727272725,7.0,0,4.823529411764706,6.842105263157895,6.537284894837476,7.0,6.545454545454546,6.583333333333333], \n",
    "                        'T': [6.694158075601375, 7.048780487804878,6.875399361022364,6.51937984496124,7.089285714285714,6.0,6.792592592592593,7.281653746770026,6.76140350877193,6.906832298136646,6.586538461538462,7.239130434782608]})\n",
    "\n",
    "ax = stacked_bar_chart_avg_user_genre.plot(kind=\"bar\", stacked=True)\n",
    "plt.title(\"Average User Score By Genre Types\")\n",
    "plt.xlabel(\"Genre\")\n",
    "plt.ylabel(\"Average User Score\")\n",
    "plt.show()\n"
   ]
  },
  {
   "cell_type": "code",
   "execution_count": 38,
   "id": "88518bce",
   "metadata": {},
   "outputs": [
    {
     "data": {
      "text/html": [
       "<div>\n",
       "<style scoped>\n",
       "    .dataframe tbody tr th:only-of-type {\n",
       "        vertical-align: middle;\n",
       "    }\n",
       "\n",
       "    .dataframe tbody tr th {\n",
       "        vertical-align: top;\n",
       "    }\n",
       "\n",
       "    .dataframe thead th {\n",
       "        text-align: right;\n",
       "    }\n",
       "</style>\n",
       "<table border=\"1\" class=\"dataframe\">\n",
       "  <thead>\n",
       "    <tr style=\"text-align: right;\">\n",
       "      <th></th>\n",
       "      <th></th>\n",
       "      <th>User_Score</th>\n",
       "    </tr>\n",
       "    <tr>\n",
       "      <th>Genre</th>\n",
       "      <th>Rating</th>\n",
       "      <th></th>\n",
       "    </tr>\n",
       "  </thead>\n",
       "  <tbody>\n",
       "    <tr>\n",
       "      <th rowspan=\"5\" valign=\"top\">Action</th>\n",
       "      <th>AO</th>\n",
       "      <td>1</td>\n",
       "    </tr>\n",
       "    <tr>\n",
       "      <th>E</th>\n",
       "      <td>191</td>\n",
       "    </tr>\n",
       "    <tr>\n",
       "      <th>E10+</th>\n",
       "      <td>299</td>\n",
       "    </tr>\n",
       "    <tr>\n",
       "      <th>M</th>\n",
       "      <td>557</td>\n",
       "    </tr>\n",
       "    <tr>\n",
       "      <th>T</th>\n",
       "      <td>582</td>\n",
       "    </tr>\n",
       "    <tr>\n",
       "      <th rowspan=\"4\" valign=\"top\">Adventure</th>\n",
       "      <th>E</th>\n",
       "      <td>49</td>\n",
       "    </tr>\n",
       "    <tr>\n",
       "      <th>E10+</th>\n",
       "      <td>32</td>\n",
       "    </tr>\n",
       "    <tr>\n",
       "      <th>M</th>\n",
       "      <td>85</td>\n",
       "    </tr>\n",
       "    <tr>\n",
       "      <th>T</th>\n",
       "      <td>82</td>\n",
       "    </tr>\n",
       "    <tr>\n",
       "      <th rowspan=\"4\" valign=\"top\">Fighting</th>\n",
       "      <th>E</th>\n",
       "      <td>6</td>\n",
       "    </tr>\n",
       "    <tr>\n",
       "      <th>E10+</th>\n",
       "      <td>14</td>\n",
       "    </tr>\n",
       "    <tr>\n",
       "      <th>M</th>\n",
       "      <td>45</td>\n",
       "    </tr>\n",
       "    <tr>\n",
       "      <th>T</th>\n",
       "      <td>313</td>\n",
       "    </tr>\n",
       "    <tr>\n",
       "      <th rowspan=\"5\" valign=\"top\">Misc</th>\n",
       "      <th>E</th>\n",
       "      <td>163</td>\n",
       "    </tr>\n",
       "    <tr>\n",
       "      <th>E10+</th>\n",
       "      <td>80</td>\n",
       "    </tr>\n",
       "    <tr>\n",
       "      <th>K-A</th>\n",
       "      <td>1</td>\n",
       "    </tr>\n",
       "    <tr>\n",
       "      <th>M</th>\n",
       "      <td>11</td>\n",
       "    </tr>\n",
       "    <tr>\n",
       "      <th>T</th>\n",
       "      <td>129</td>\n",
       "    </tr>\n",
       "    <tr>\n",
       "      <th rowspan=\"4\" valign=\"top\">Platform</th>\n",
       "      <th>E</th>\n",
       "      <td>240</td>\n",
       "    </tr>\n",
       "    <tr>\n",
       "      <th>E10+</th>\n",
       "      <td>104</td>\n",
       "    </tr>\n",
       "    <tr>\n",
       "      <th>M</th>\n",
       "      <td>3</td>\n",
       "    </tr>\n",
       "    <tr>\n",
       "      <th>T</th>\n",
       "      <td>56</td>\n",
       "    </tr>\n",
       "    <tr>\n",
       "      <th rowspan=\"3\" valign=\"top\">Puzzle</th>\n",
       "      <th>E</th>\n",
       "      <td>89</td>\n",
       "    </tr>\n",
       "    <tr>\n",
       "      <th>E10+</th>\n",
       "      <td>24</td>\n",
       "    </tr>\n",
       "    <tr>\n",
       "      <th>T</th>\n",
       "      <td>5</td>\n",
       "    </tr>\n",
       "    <tr>\n",
       "      <th rowspan=\"4\" valign=\"top\">Racing</th>\n",
       "      <th>E</th>\n",
       "      <td>350</td>\n",
       "    </tr>\n",
       "    <tr>\n",
       "      <th>E10+</th>\n",
       "      <td>79</td>\n",
       "    </tr>\n",
       "    <tr>\n",
       "      <th>M</th>\n",
       "      <td>17</td>\n",
       "    </tr>\n",
       "    <tr>\n",
       "      <th>T</th>\n",
       "      <td>135</td>\n",
       "    </tr>\n",
       "    <tr>\n",
       "      <th rowspan=\"4\" valign=\"top\">Role-Playing</th>\n",
       "      <th>E</th>\n",
       "      <td>73</td>\n",
       "    </tr>\n",
       "    <tr>\n",
       "      <th>E10+</th>\n",
       "      <td>100</td>\n",
       "    </tr>\n",
       "    <tr>\n",
       "      <th>M</th>\n",
       "      <td>152</td>\n",
       "    </tr>\n",
       "    <tr>\n",
       "      <th>T</th>\n",
       "      <td>387</td>\n",
       "    </tr>\n",
       "    <tr>\n",
       "      <th rowspan=\"4\" valign=\"top\">Shooter</th>\n",
       "      <th>E</th>\n",
       "      <td>22</td>\n",
       "    </tr>\n",
       "    <tr>\n",
       "      <th>E10+</th>\n",
       "      <td>34</td>\n",
       "    </tr>\n",
       "    <tr>\n",
       "      <th>M</th>\n",
       "      <td>523</td>\n",
       "    </tr>\n",
       "    <tr>\n",
       "      <th>T</th>\n",
       "      <td>285</td>\n",
       "    </tr>\n",
       "    <tr>\n",
       "      <th rowspan=\"4\" valign=\"top\">Simulation</th>\n",
       "      <th>E</th>\n",
       "      <td>103</td>\n",
       "    </tr>\n",
       "    <tr>\n",
       "      <th>E10+</th>\n",
       "      <td>28</td>\n",
       "    </tr>\n",
       "    <tr>\n",
       "      <th>M</th>\n",
       "      <td>5</td>\n",
       "    </tr>\n",
       "    <tr>\n",
       "      <th>T</th>\n",
       "      <td>161</td>\n",
       "    </tr>\n",
       "    <tr>\n",
       "      <th rowspan=\"4\" valign=\"top\">Sports</th>\n",
       "      <th>E</th>\n",
       "      <td>754</td>\n",
       "    </tr>\n",
       "    <tr>\n",
       "      <th>E10+</th>\n",
       "      <td>74</td>\n",
       "    </tr>\n",
       "    <tr>\n",
       "      <th>M</th>\n",
       "      <td>11</td>\n",
       "    </tr>\n",
       "    <tr>\n",
       "      <th>T</th>\n",
       "      <td>104</td>\n",
       "    </tr>\n",
       "    <tr>\n",
       "      <th rowspan=\"5\" valign=\"top\">Strategy</th>\n",
       "      <th>E</th>\n",
       "      <td>42</td>\n",
       "    </tr>\n",
       "    <tr>\n",
       "      <th>E10+</th>\n",
       "      <td>62</td>\n",
       "    </tr>\n",
       "    <tr>\n",
       "      <th>M</th>\n",
       "      <td>24</td>\n",
       "    </tr>\n",
       "    <tr>\n",
       "      <th>RP</th>\n",
       "      <td>1</td>\n",
       "    </tr>\n",
       "    <tr>\n",
       "      <th>T</th>\n",
       "      <td>138</td>\n",
       "    </tr>\n",
       "  </tbody>\n",
       "</table>\n",
       "</div>"
      ],
      "text/plain": [
       "                     User_Score\n",
       "Genre        Rating            \n",
       "Action       AO               1\n",
       "             E              191\n",
       "             E10+           299\n",
       "             M              557\n",
       "             T              582\n",
       "Adventure    E               49\n",
       "             E10+            32\n",
       "             M               85\n",
       "             T               82\n",
       "Fighting     E                6\n",
       "             E10+            14\n",
       "             M               45\n",
       "             T              313\n",
       "Misc         E              163\n",
       "             E10+            80\n",
       "             K-A              1\n",
       "             M               11\n",
       "             T              129\n",
       "Platform     E              240\n",
       "             E10+           104\n",
       "             M                3\n",
       "             T               56\n",
       "Puzzle       E               89\n",
       "             E10+            24\n",
       "             T                5\n",
       "Racing       E              350\n",
       "             E10+            79\n",
       "             M               17\n",
       "             T              135\n",
       "Role-Playing E               73\n",
       "             E10+           100\n",
       "             M              152\n",
       "             T              387\n",
       "Shooter      E               22\n",
       "             E10+            34\n",
       "             M              523\n",
       "             T              285\n",
       "Simulation   E              103\n",
       "             E10+            28\n",
       "             M                5\n",
       "             T              161\n",
       "Sports       E              754\n",
       "             E10+            74\n",
       "             M               11\n",
       "             T              104\n",
       "Strategy     E               42\n",
       "             E10+            62\n",
       "             M               24\n",
       "             RP               1\n",
       "             T              138"
      ]
     },
     "execution_count": 38,
     "metadata": {},
     "output_type": "execute_result"
    }
   ],
   "source": [
    "#aggregation of games purchased\n",
    "games_purchased= pd.DataFrame(no_null_video_game_sales_df.groupby(['Genre','Rating'])['User_Score'].agg('count'))\n",
    "games_purchased"
   ]
  },
  {
   "cell_type": "code",
   "execution_count": 39,
   "id": "25aebe02",
   "metadata": {},
   "outputs": [
    {
     "data": {
      "text/html": [
       "<div>\n",
       "<style scoped>\n",
       "    .dataframe tbody tr th:only-of-type {\n",
       "        vertical-align: middle;\n",
       "    }\n",
       "\n",
       "    .dataframe tbody tr th {\n",
       "        vertical-align: top;\n",
       "    }\n",
       "\n",
       "    .dataframe thead th {\n",
       "        text-align: right;\n",
       "    }\n",
       "</style>\n",
       "<table border=\"1\" class=\"dataframe\">\n",
       "  <thead>\n",
       "    <tr style=\"text-align: right;\">\n",
       "      <th></th>\n",
       "      <th>Genre</th>\n",
       "      <th>Rating</th>\n",
       "      <th>Number of Games</th>\n",
       "    </tr>\n",
       "  </thead>\n",
       "  <tbody>\n",
       "    <tr>\n",
       "      <th>1</th>\n",
       "      <td>Action</td>\n",
       "      <td>E</td>\n",
       "      <td>191</td>\n",
       "    </tr>\n",
       "    <tr>\n",
       "      <th>2</th>\n",
       "      <td>Action</td>\n",
       "      <td>E10+</td>\n",
       "      <td>299</td>\n",
       "    </tr>\n",
       "    <tr>\n",
       "      <th>3</th>\n",
       "      <td>Action</td>\n",
       "      <td>M</td>\n",
       "      <td>557</td>\n",
       "    </tr>\n",
       "    <tr>\n",
       "      <th>4</th>\n",
       "      <td>Action</td>\n",
       "      <td>T</td>\n",
       "      <td>582</td>\n",
       "    </tr>\n",
       "    <tr>\n",
       "      <th>5</th>\n",
       "      <td>Adventure</td>\n",
       "      <td>E</td>\n",
       "      <td>49</td>\n",
       "    </tr>\n",
       "    <tr>\n",
       "      <th>6</th>\n",
       "      <td>Adventure</td>\n",
       "      <td>E10+</td>\n",
       "      <td>32</td>\n",
       "    </tr>\n",
       "    <tr>\n",
       "      <th>7</th>\n",
       "      <td>Adventure</td>\n",
       "      <td>M</td>\n",
       "      <td>85</td>\n",
       "    </tr>\n",
       "    <tr>\n",
       "      <th>8</th>\n",
       "      <td>Adventure</td>\n",
       "      <td>T</td>\n",
       "      <td>82</td>\n",
       "    </tr>\n",
       "    <tr>\n",
       "      <th>9</th>\n",
       "      <td>Fighting</td>\n",
       "      <td>E</td>\n",
       "      <td>6</td>\n",
       "    </tr>\n",
       "    <tr>\n",
       "      <th>10</th>\n",
       "      <td>Fighting</td>\n",
       "      <td>E10+</td>\n",
       "      <td>14</td>\n",
       "    </tr>\n",
       "    <tr>\n",
       "      <th>11</th>\n",
       "      <td>Fighting</td>\n",
       "      <td>M</td>\n",
       "      <td>45</td>\n",
       "    </tr>\n",
       "    <tr>\n",
       "      <th>12</th>\n",
       "      <td>Fighting</td>\n",
       "      <td>T</td>\n",
       "      <td>313</td>\n",
       "    </tr>\n",
       "    <tr>\n",
       "      <th>13</th>\n",
       "      <td>Misc</td>\n",
       "      <td>E</td>\n",
       "      <td>163</td>\n",
       "    </tr>\n",
       "    <tr>\n",
       "      <th>14</th>\n",
       "      <td>Misc</td>\n",
       "      <td>E10+</td>\n",
       "      <td>80</td>\n",
       "    </tr>\n",
       "    <tr>\n",
       "      <th>16</th>\n",
       "      <td>Misc</td>\n",
       "      <td>M</td>\n",
       "      <td>11</td>\n",
       "    </tr>\n",
       "    <tr>\n",
       "      <th>17</th>\n",
       "      <td>Misc</td>\n",
       "      <td>T</td>\n",
       "      <td>129</td>\n",
       "    </tr>\n",
       "    <tr>\n",
       "      <th>18</th>\n",
       "      <td>Platform</td>\n",
       "      <td>E</td>\n",
       "      <td>240</td>\n",
       "    </tr>\n",
       "    <tr>\n",
       "      <th>19</th>\n",
       "      <td>Platform</td>\n",
       "      <td>E10+</td>\n",
       "      <td>104</td>\n",
       "    </tr>\n",
       "    <tr>\n",
       "      <th>20</th>\n",
       "      <td>Platform</td>\n",
       "      <td>M</td>\n",
       "      <td>3</td>\n",
       "    </tr>\n",
       "    <tr>\n",
       "      <th>21</th>\n",
       "      <td>Platform</td>\n",
       "      <td>T</td>\n",
       "      <td>56</td>\n",
       "    </tr>\n",
       "    <tr>\n",
       "      <th>22</th>\n",
       "      <td>Puzzle</td>\n",
       "      <td>E</td>\n",
       "      <td>89</td>\n",
       "    </tr>\n",
       "    <tr>\n",
       "      <th>23</th>\n",
       "      <td>Puzzle</td>\n",
       "      <td>E10+</td>\n",
       "      <td>24</td>\n",
       "    </tr>\n",
       "    <tr>\n",
       "      <th>24</th>\n",
       "      <td>Puzzle</td>\n",
       "      <td>T</td>\n",
       "      <td>5</td>\n",
       "    </tr>\n",
       "    <tr>\n",
       "      <th>25</th>\n",
       "      <td>Racing</td>\n",
       "      <td>E</td>\n",
       "      <td>350</td>\n",
       "    </tr>\n",
       "    <tr>\n",
       "      <th>26</th>\n",
       "      <td>Racing</td>\n",
       "      <td>E10+</td>\n",
       "      <td>79</td>\n",
       "    </tr>\n",
       "    <tr>\n",
       "      <th>27</th>\n",
       "      <td>Racing</td>\n",
       "      <td>M</td>\n",
       "      <td>17</td>\n",
       "    </tr>\n",
       "    <tr>\n",
       "      <th>28</th>\n",
       "      <td>Racing</td>\n",
       "      <td>T</td>\n",
       "      <td>135</td>\n",
       "    </tr>\n",
       "    <tr>\n",
       "      <th>29</th>\n",
       "      <td>Role-Playing</td>\n",
       "      <td>E</td>\n",
       "      <td>73</td>\n",
       "    </tr>\n",
       "    <tr>\n",
       "      <th>30</th>\n",
       "      <td>Role-Playing</td>\n",
       "      <td>E10+</td>\n",
       "      <td>100</td>\n",
       "    </tr>\n",
       "    <tr>\n",
       "      <th>31</th>\n",
       "      <td>Role-Playing</td>\n",
       "      <td>M</td>\n",
       "      <td>152</td>\n",
       "    </tr>\n",
       "    <tr>\n",
       "      <th>32</th>\n",
       "      <td>Role-Playing</td>\n",
       "      <td>T</td>\n",
       "      <td>387</td>\n",
       "    </tr>\n",
       "    <tr>\n",
       "      <th>33</th>\n",
       "      <td>Shooter</td>\n",
       "      <td>E</td>\n",
       "      <td>22</td>\n",
       "    </tr>\n",
       "    <tr>\n",
       "      <th>34</th>\n",
       "      <td>Shooter</td>\n",
       "      <td>E10+</td>\n",
       "      <td>34</td>\n",
       "    </tr>\n",
       "    <tr>\n",
       "      <th>35</th>\n",
       "      <td>Shooter</td>\n",
       "      <td>M</td>\n",
       "      <td>523</td>\n",
       "    </tr>\n",
       "    <tr>\n",
       "      <th>36</th>\n",
       "      <td>Shooter</td>\n",
       "      <td>T</td>\n",
       "      <td>285</td>\n",
       "    </tr>\n",
       "    <tr>\n",
       "      <th>37</th>\n",
       "      <td>Simulation</td>\n",
       "      <td>E</td>\n",
       "      <td>103</td>\n",
       "    </tr>\n",
       "    <tr>\n",
       "      <th>38</th>\n",
       "      <td>Simulation</td>\n",
       "      <td>E10+</td>\n",
       "      <td>28</td>\n",
       "    </tr>\n",
       "    <tr>\n",
       "      <th>39</th>\n",
       "      <td>Simulation</td>\n",
       "      <td>M</td>\n",
       "      <td>5</td>\n",
       "    </tr>\n",
       "    <tr>\n",
       "      <th>40</th>\n",
       "      <td>Simulation</td>\n",
       "      <td>T</td>\n",
       "      <td>161</td>\n",
       "    </tr>\n",
       "    <tr>\n",
       "      <th>41</th>\n",
       "      <td>Sports</td>\n",
       "      <td>E</td>\n",
       "      <td>754</td>\n",
       "    </tr>\n",
       "    <tr>\n",
       "      <th>42</th>\n",
       "      <td>Sports</td>\n",
       "      <td>E10+</td>\n",
       "      <td>74</td>\n",
       "    </tr>\n",
       "    <tr>\n",
       "      <th>43</th>\n",
       "      <td>Sports</td>\n",
       "      <td>M</td>\n",
       "      <td>11</td>\n",
       "    </tr>\n",
       "    <tr>\n",
       "      <th>44</th>\n",
       "      <td>Sports</td>\n",
       "      <td>T</td>\n",
       "      <td>104</td>\n",
       "    </tr>\n",
       "    <tr>\n",
       "      <th>45</th>\n",
       "      <td>Strategy</td>\n",
       "      <td>E</td>\n",
       "      <td>42</td>\n",
       "    </tr>\n",
       "    <tr>\n",
       "      <th>46</th>\n",
       "      <td>Strategy</td>\n",
       "      <td>E10+</td>\n",
       "      <td>62</td>\n",
       "    </tr>\n",
       "    <tr>\n",
       "      <th>47</th>\n",
       "      <td>Strategy</td>\n",
       "      <td>M</td>\n",
       "      <td>24</td>\n",
       "    </tr>\n",
       "    <tr>\n",
       "      <th>49</th>\n",
       "      <td>Strategy</td>\n",
       "      <td>T</td>\n",
       "      <td>138</td>\n",
       "    </tr>\n",
       "  </tbody>\n",
       "</table>\n",
       "</div>"
      ],
      "text/plain": [
       "           Genre Rating  Number of Games\n",
       "1         Action      E              191\n",
       "2         Action   E10+              299\n",
       "3         Action      M              557\n",
       "4         Action      T              582\n",
       "5      Adventure      E               49\n",
       "6      Adventure   E10+               32\n",
       "7      Adventure      M               85\n",
       "8      Adventure      T               82\n",
       "9       Fighting      E                6\n",
       "10      Fighting   E10+               14\n",
       "11      Fighting      M               45\n",
       "12      Fighting      T              313\n",
       "13          Misc      E              163\n",
       "14          Misc   E10+               80\n",
       "16          Misc      M               11\n",
       "17          Misc      T              129\n",
       "18      Platform      E              240\n",
       "19      Platform   E10+              104\n",
       "20      Platform      M                3\n",
       "21      Platform      T               56\n",
       "22        Puzzle      E               89\n",
       "23        Puzzle   E10+               24\n",
       "24        Puzzle      T                5\n",
       "25        Racing      E              350\n",
       "26        Racing   E10+               79\n",
       "27        Racing      M               17\n",
       "28        Racing      T              135\n",
       "29  Role-Playing      E               73\n",
       "30  Role-Playing   E10+              100\n",
       "31  Role-Playing      M              152\n",
       "32  Role-Playing      T              387\n",
       "33       Shooter      E               22\n",
       "34       Shooter   E10+               34\n",
       "35       Shooter      M              523\n",
       "36       Shooter      T              285\n",
       "37    Simulation      E              103\n",
       "38    Simulation   E10+               28\n",
       "39    Simulation      M                5\n",
       "40    Simulation      T              161\n",
       "41        Sports      E              754\n",
       "42        Sports   E10+               74\n",
       "43        Sports      M               11\n",
       "44        Sports      T              104\n",
       "45      Strategy      E               42\n",
       "46      Strategy   E10+               62\n",
       "47      Strategy      M               24\n",
       "49      Strategy      T              138"
      ]
     },
     "execution_count": 39,
     "metadata": {},
     "output_type": "execute_result"
    }
   ],
   "source": [
    "#reset index\n",
    "no_index_games_purchased=games_purchased.reset_index()\n",
    "#dropped bad data\n",
    "cleaned_no_index_games_purchased=no_index_games_purchased.drop(no_index_games_purchased.index[[0,15,48]])\n",
    "#checked data deletion\n",
    "cleaned_no_index_games_purchased\n",
    "#renamed column\n",
    "number_of_purchased_games = cleaned_no_index_games_purchased.rename(columns={'User_Score': 'Number of Games'})\n",
    "#quick check\n",
    "number_of_purchased_games"
   ]
  },
  {
   "cell_type": "code",
   "execution_count": 40,
   "id": "4f6e5d7e",
   "metadata": {},
   "outputs": [
    {
     "data": {
      "image/png": "[encoded data removed]",
      "text/plain": [
       "<Figure size 432x288 with 1 Axes>"
      ]
     },
     "metadata": {
      "needs_background": "light"
     },
     "output_type": "display_data"
    }
   ],
   "source": [
    "#Graph of the number of games purchased by genre type\n",
    "stacked_bar_chart_games_purchased_by_genre = pd.DataFrame(index=['Action', 'Adventure', 'Fighting', 'Misc', 'Platform', 'Puzzle','Racing', 'Role-Playing', 'Shooter', 'Simulation', 'Sports','Strategy'], \n",
    "                                                data = {'E': [191, 49, 6, 163, 240, 89, 350, 73, 22, 103, 754, 42], \n",
    "                        'E10+': [299, 32, 14, 80, 104, 24, 79, 100, 34, 28, 74, 62], \n",
    "                        'M': [557, 85, 45, 11, 3, 0, 17, 152, 523, 5, 11, 24], \n",
    "                        'T': [582, 82, 313, 129, 56, 5, 135, 387, 285, 161, 104, 138]})\n",
    "\n",
    "stacked_bar_chart_games_purchased_by_genre=stacked_bar_chart_games_purchased_by_genre.plot(kind=\"bar\", stacked=True)\n",
    "plt.title(\"Number of Games By Genre\")\n",
    "plt.xlabel(\"Genre\")\n",
    "plt.ylabel(\"Number of Games\")\n",
    "plt.show()"
   ]
  },
  {
   "cell_type": "code",
   "execution_count": 41,
   "id": "6cc60898",
   "metadata": {},
   "outputs": [
    {
     "data": {
      "text/html": [
       "<div>\n",
       "<style scoped>\n",
       "    .dataframe tbody tr th:only-of-type {\n",
       "        vertical-align: middle;\n",
       "    }\n",
       "\n",
       "    .dataframe tbody tr th {\n",
       "        vertical-align: top;\n",
       "    }\n",
       "\n",
       "    .dataframe thead th {\n",
       "        text-align: right;\n",
       "    }\n",
       "</style>\n",
       "<table border=\"1\" class=\"dataframe\">\n",
       "  <thead>\n",
       "    <tr style=\"text-align: right;\">\n",
       "      <th></th>\n",
       "      <th></th>\n",
       "      <th>Genre_Count</th>\n",
       "    </tr>\n",
       "    <tr>\n",
       "      <th>Genre</th>\n",
       "      <th>Rating</th>\n",
       "      <th></th>\n",
       "    </tr>\n",
       "  </thead>\n",
       "  <tbody>\n",
       "    <tr>\n",
       "      <th rowspan=\"5\" valign=\"top\">Action</th>\n",
       "      <th>AO</th>\n",
       "      <td>1</td>\n",
       "    </tr>\n",
       "    <tr>\n",
       "      <th>E</th>\n",
       "      <td>191</td>\n",
       "    </tr>\n",
       "    <tr>\n",
       "      <th>E10+</th>\n",
       "      <td>299</td>\n",
       "    </tr>\n",
       "    <tr>\n",
       "      <th>M</th>\n",
       "      <td>557</td>\n",
       "    </tr>\n",
       "    <tr>\n",
       "      <th>T</th>\n",
       "      <td>582</td>\n",
       "    </tr>\n",
       "    <tr>\n",
       "      <th rowspan=\"4\" valign=\"top\">Adventure</th>\n",
       "      <th>E</th>\n",
       "      <td>49</td>\n",
       "    </tr>\n",
       "    <tr>\n",
       "      <th>E10+</th>\n",
       "      <td>32</td>\n",
       "    </tr>\n",
       "    <tr>\n",
       "      <th>M</th>\n",
       "      <td>85</td>\n",
       "    </tr>\n",
       "    <tr>\n",
       "      <th>T</th>\n",
       "      <td>82</td>\n",
       "    </tr>\n",
       "    <tr>\n",
       "      <th rowspan=\"4\" valign=\"top\">Fighting</th>\n",
       "      <th>E</th>\n",
       "      <td>6</td>\n",
       "    </tr>\n",
       "    <tr>\n",
       "      <th>E10+</th>\n",
       "      <td>14</td>\n",
       "    </tr>\n",
       "    <tr>\n",
       "      <th>M</th>\n",
       "      <td>45</td>\n",
       "    </tr>\n",
       "    <tr>\n",
       "      <th>T</th>\n",
       "      <td>313</td>\n",
       "    </tr>\n",
       "    <tr>\n",
       "      <th rowspan=\"5\" valign=\"top\">Misc</th>\n",
       "      <th>E</th>\n",
       "      <td>163</td>\n",
       "    </tr>\n",
       "    <tr>\n",
       "      <th>E10+</th>\n",
       "      <td>80</td>\n",
       "    </tr>\n",
       "    <tr>\n",
       "      <th>K-A</th>\n",
       "      <td>1</td>\n",
       "    </tr>\n",
       "    <tr>\n",
       "      <th>M</th>\n",
       "      <td>11</td>\n",
       "    </tr>\n",
       "    <tr>\n",
       "      <th>T</th>\n",
       "      <td>129</td>\n",
       "    </tr>\n",
       "    <tr>\n",
       "      <th rowspan=\"4\" valign=\"top\">Platform</th>\n",
       "      <th>E</th>\n",
       "      <td>240</td>\n",
       "    </tr>\n",
       "    <tr>\n",
       "      <th>E10+</th>\n",
       "      <td>104</td>\n",
       "    </tr>\n",
       "    <tr>\n",
       "      <th>M</th>\n",
       "      <td>3</td>\n",
       "    </tr>\n",
       "    <tr>\n",
       "      <th>T</th>\n",
       "      <td>56</td>\n",
       "    </tr>\n",
       "    <tr>\n",
       "      <th rowspan=\"3\" valign=\"top\">Puzzle</th>\n",
       "      <th>E</th>\n",
       "      <td>89</td>\n",
       "    </tr>\n",
       "    <tr>\n",
       "      <th>E10+</th>\n",
       "      <td>24</td>\n",
       "    </tr>\n",
       "    <tr>\n",
       "      <th>T</th>\n",
       "      <td>5</td>\n",
       "    </tr>\n",
       "    <tr>\n",
       "      <th rowspan=\"4\" valign=\"top\">Racing</th>\n",
       "      <th>E</th>\n",
       "      <td>350</td>\n",
       "    </tr>\n",
       "    <tr>\n",
       "      <th>E10+</th>\n",
       "      <td>79</td>\n",
       "    </tr>\n",
       "    <tr>\n",
       "      <th>M</th>\n",
       "      <td>17</td>\n",
       "    </tr>\n",
       "    <tr>\n",
       "      <th>T</th>\n",
       "      <td>135</td>\n",
       "    </tr>\n",
       "    <tr>\n",
       "      <th rowspan=\"4\" valign=\"top\">Role-Playing</th>\n",
       "      <th>E</th>\n",
       "      <td>73</td>\n",
       "    </tr>\n",
       "    <tr>\n",
       "      <th>E10+</th>\n",
       "      <td>100</td>\n",
       "    </tr>\n",
       "    <tr>\n",
       "      <th>M</th>\n",
       "      <td>152</td>\n",
       "    </tr>\n",
       "    <tr>\n",
       "      <th>T</th>\n",
       "      <td>387</td>\n",
       "    </tr>\n",
       "    <tr>\n",
       "      <th rowspan=\"4\" valign=\"top\">Shooter</th>\n",
       "      <th>E</th>\n",
       "      <td>22</td>\n",
       "    </tr>\n",
       "    <tr>\n",
       "      <th>E10+</th>\n",
       "      <td>34</td>\n",
       "    </tr>\n",
       "    <tr>\n",
       "      <th>M</th>\n",
       "      <td>523</td>\n",
       "    </tr>\n",
       "    <tr>\n",
       "      <th>T</th>\n",
       "      <td>285</td>\n",
       "    </tr>\n",
       "    <tr>\n",
       "      <th rowspan=\"4\" valign=\"top\">Simulation</th>\n",
       "      <th>E</th>\n",
       "      <td>103</td>\n",
       "    </tr>\n",
       "    <tr>\n",
       "      <th>E10+</th>\n",
       "      <td>28</td>\n",
       "    </tr>\n",
       "    <tr>\n",
       "      <th>M</th>\n",
       "      <td>5</td>\n",
       "    </tr>\n",
       "    <tr>\n",
       "      <th>T</th>\n",
       "      <td>161</td>\n",
       "    </tr>\n",
       "    <tr>\n",
       "      <th rowspan=\"4\" valign=\"top\">Sports</th>\n",
       "      <th>E</th>\n",
       "      <td>754</td>\n",
       "    </tr>\n",
       "    <tr>\n",
       "      <th>E10+</th>\n",
       "      <td>74</td>\n",
       "    </tr>\n",
       "    <tr>\n",
       "      <th>M</th>\n",
       "      <td>11</td>\n",
       "    </tr>\n",
       "    <tr>\n",
       "      <th>T</th>\n",
       "      <td>104</td>\n",
       "    </tr>\n",
       "    <tr>\n",
       "      <th rowspan=\"5\" valign=\"top\">Strategy</th>\n",
       "      <th>E</th>\n",
       "      <td>42</td>\n",
       "    </tr>\n",
       "    <tr>\n",
       "      <th>E10+</th>\n",
       "      <td>62</td>\n",
       "    </tr>\n",
       "    <tr>\n",
       "      <th>M</th>\n",
       "      <td>24</td>\n",
       "    </tr>\n",
       "    <tr>\n",
       "      <th>RP</th>\n",
       "      <td>1</td>\n",
       "    </tr>\n",
       "    <tr>\n",
       "      <th>T</th>\n",
       "      <td>138</td>\n",
       "    </tr>\n",
       "  </tbody>\n",
       "</table>\n",
       "</div>"
      ],
      "text/plain": [
       "                     Genre_Count\n",
       "Genre        Rating             \n",
       "Action       AO                1\n",
       "             E               191\n",
       "             E10+            299\n",
       "             M               557\n",
       "             T               582\n",
       "Adventure    E                49\n",
       "             E10+             32\n",
       "             M                85\n",
       "             T                82\n",
       "Fighting     E                 6\n",
       "             E10+             14\n",
       "             M                45\n",
       "             T               313\n",
       "Misc         E               163\n",
       "             E10+             80\n",
       "             K-A               1\n",
       "             M                11\n",
       "             T               129\n",
       "Platform     E               240\n",
       "             E10+            104\n",
       "             M                 3\n",
       "             T                56\n",
       "Puzzle       E                89\n",
       "             E10+             24\n",
       "             T                 5\n",
       "Racing       E               350\n",
       "             E10+             79\n",
       "             M                17\n",
       "             T               135\n",
       "Role-Playing E                73\n",
       "             E10+            100\n",
       "             M               152\n",
       "             T               387\n",
       "Shooter      E                22\n",
       "             E10+             34\n",
       "             M               523\n",
       "             T               285\n",
       "Simulation   E               103\n",
       "             E10+             28\n",
       "             M                 5\n",
       "             T               161\n",
       "Sports       E               754\n",
       "             E10+             74\n",
       "             M                11\n",
       "             T               104\n",
       "Strategy     E                42\n",
       "             E10+             62\n",
       "             M                24\n",
       "             RP                1\n",
       "             T               138"
      ]
     },
     "execution_count": 41,
     "metadata": {},
     "output_type": "execute_result"
    }
   ],
   "source": [
    "#count aggregation to genre by rating\n",
    "count_genre_by_rating= pd.DataFrame(no_null_video_game_sales_df.groupby(['Genre','Rating'])['Genre'].agg('count'))\n",
    "#rename column\n",
    "count_genre_by_rating= count_genre_by_rating.rename(columns={'Genre': 'Genre_Count'})\n",
    "#checking df\n",
    "count_genre_by_rating"
   ]
  },
  {
   "cell_type": "code",
   "execution_count": 42,
   "id": "351a5537",
   "metadata": {},
   "outputs": [],
   "source": [
    "#seting df to new df\n",
    "reset_genre_count=count_genre_by_rating \n",
    "#resetting the index\n",
    "reset_genre_count=count_genre_by_rating.reset_index()\n",
    "#checking \n",
    "reset_genre_count\n",
    "#deleting bad data\n",
    "reset_genre_count=reset_genre_count.drop(reset_genre_count.index[[0,15,48]])"
   ]
  },
  {
   "cell_type": "code",
   "execution_count": 43,
   "id": "41bd556d",
   "metadata": {},
   "outputs": [],
   "source": [
    "#Creating the Table for Rating and Genre types\n",
    "genre_counting_df=pd.DataFrame([('E',191, 49, 6, 163, 240, 89, 350, 73, 22, 103, 754, 42), ('E10+',299, 32, 14, 80, 104, 24, 79, 100, 34, 28, 74, 62), ('M',557, 85, 45, 11, 3,0,17, 152, 523, 5, 11, 24),('T',582, 82, 313, 129, 56, 5, 135, 387, 285, 161, 104, 138)],\n",
    "                                columns=['Rating','Action',\n",
    " 'Adventure',\n",
    " 'Fighting',\n",
    " 'Misc',\n",
    " 'Platform',\n",
    " 'Puzzle',\n",
    " 'Racing',\n",
    " 'Role-Playing',\n",
    " 'Shooter',\n",
    " 'Simulation',\n",
    " 'Sports',\n",
    " 'Strategy'])"
   ]
  },
  {
   "cell_type": "code",
   "execution_count": 44,
   "id": "eb2a41c4",
   "metadata": {},
   "outputs": [
    {
     "data": {
      "text/html": [
       "<div>\n",
       "<style scoped>\n",
       "    .dataframe tbody tr th:only-of-type {\n",
       "        vertical-align: middle;\n",
       "    }\n",
       "\n",
       "    .dataframe tbody tr th {\n",
       "        vertical-align: top;\n",
       "    }\n",
       "\n",
       "    .dataframe thead th {\n",
       "        text-align: right;\n",
       "    }\n",
       "</style>\n",
       "<table border=\"1\" class=\"dataframe\">\n",
       "  <thead>\n",
       "    <tr style=\"text-align: right;\">\n",
       "      <th></th>\n",
       "      <th>Action</th>\n",
       "      <th>Adventure</th>\n",
       "      <th>Fighting</th>\n",
       "      <th>Misc</th>\n",
       "      <th>Platform</th>\n",
       "      <th>Puzzle</th>\n",
       "      <th>Racing</th>\n",
       "      <th>Role-Playing</th>\n",
       "      <th>Shooter</th>\n",
       "      <th>Simulation</th>\n",
       "      <th>Sports</th>\n",
       "      <th>Strategy</th>\n",
       "    </tr>\n",
       "    <tr>\n",
       "      <th>Rating</th>\n",
       "      <th></th>\n",
       "      <th></th>\n",
       "      <th></th>\n",
       "      <th></th>\n",
       "      <th></th>\n",
       "      <th></th>\n",
       "      <th></th>\n",
       "      <th></th>\n",
       "      <th></th>\n",
       "      <th></th>\n",
       "      <th></th>\n",
       "      <th></th>\n",
       "    </tr>\n",
       "  </thead>\n",
       "  <tbody>\n",
       "    <tr>\n",
       "      <th>E</th>\n",
       "      <td>191</td>\n",
       "      <td>49</td>\n",
       "      <td>6</td>\n",
       "      <td>163</td>\n",
       "      <td>240</td>\n",
       "      <td>89</td>\n",
       "      <td>350</td>\n",
       "      <td>73</td>\n",
       "      <td>22</td>\n",
       "      <td>103</td>\n",
       "      <td>754</td>\n",
       "      <td>42</td>\n",
       "    </tr>\n",
       "    <tr>\n",
       "      <th>E10+</th>\n",
       "      <td>299</td>\n",
       "      <td>32</td>\n",
       "      <td>14</td>\n",
       "      <td>80</td>\n",
       "      <td>104</td>\n",
       "      <td>24</td>\n",
       "      <td>79</td>\n",
       "      <td>100</td>\n",
       "      <td>34</td>\n",
       "      <td>28</td>\n",
       "      <td>74</td>\n",
       "      <td>62</td>\n",
       "    </tr>\n",
       "    <tr>\n",
       "      <th>M</th>\n",
       "      <td>557</td>\n",
       "      <td>85</td>\n",
       "      <td>45</td>\n",
       "      <td>11</td>\n",
       "      <td>3</td>\n",
       "      <td>0</td>\n",
       "      <td>17</td>\n",
       "      <td>152</td>\n",
       "      <td>523</td>\n",
       "      <td>5</td>\n",
       "      <td>11</td>\n",
       "      <td>24</td>\n",
       "    </tr>\n",
       "    <tr>\n",
       "      <th>T</th>\n",
       "      <td>582</td>\n",
       "      <td>82</td>\n",
       "      <td>313</td>\n",
       "      <td>129</td>\n",
       "      <td>56</td>\n",
       "      <td>5</td>\n",
       "      <td>135</td>\n",
       "      <td>387</td>\n",
       "      <td>285</td>\n",
       "      <td>161</td>\n",
       "      <td>104</td>\n",
       "      <td>138</td>\n",
       "    </tr>\n",
       "  </tbody>\n",
       "</table>\n",
       "</div>"
      ],
      "text/plain": [
       "        Action  Adventure  Fighting  Misc  Platform  Puzzle  Racing  \\\n",
       "Rating                                                                \n",
       "E          191         49         6   163       240      89     350   \n",
       "E10+       299         32        14    80       104      24      79   \n",
       "M          557         85        45    11         3       0      17   \n",
       "T          582         82       313   129        56       5     135   \n",
       "\n",
       "        Role-Playing  Shooter  Simulation  Sports  Strategy  \n",
       "Rating                                                       \n",
       "E                 73       22         103     754        42  \n",
       "E10+             100       34          28      74        62  \n",
       "M                152      523           5      11        24  \n",
       "T                387      285         161     104       138  "
      ]
     },
     "execution_count": 44,
     "metadata": {},
     "output_type": "execute_result"
    }
   ],
   "source": [
    "#checking df\n",
    "genre_counting_df\n",
    "#setting new index\n",
    "genre_counting_df_indexed=genre_counting_df.set_index(\"Rating\", inplace=True)\n",
    "#checking if df was indexed\n",
    "genre_counting_df"
   ]
  },
  {
   "cell_type": "code",
   "execution_count": 45,
   "id": "ce03995d",
   "metadata": {},
   "outputs": [
    {
     "data": {
      "text/html": [
       "<div>\n",
       "<style scoped>\n",
       "    .dataframe tbody tr th:only-of-type {\n",
       "        vertical-align: middle;\n",
       "    }\n",
       "\n",
       "    .dataframe tbody tr th {\n",
       "        vertical-align: top;\n",
       "    }\n",
       "\n",
       "    .dataframe thead th {\n",
       "        text-align: right;\n",
       "    }\n",
       "</style>\n",
       "<table border=\"1\" class=\"dataframe\">\n",
       "  <thead>\n",
       "    <tr style=\"text-align: right;\">\n",
       "      <th></th>\n",
       "      <th>Action</th>\n",
       "      <th>Adventure</th>\n",
       "      <th>Fighting</th>\n",
       "      <th>Misc</th>\n",
       "      <th>Platform</th>\n",
       "      <th>Puzzle</th>\n",
       "      <th>Racing</th>\n",
       "      <th>Role-Playing</th>\n",
       "      <th>Shooter</th>\n",
       "      <th>Simulation</th>\n",
       "      <th>Sports</th>\n",
       "      <th>Strategy</th>\n",
       "      <th>Total Genre Count</th>\n",
       "    </tr>\n",
       "    <tr>\n",
       "      <th>Rating</th>\n",
       "      <th></th>\n",
       "      <th></th>\n",
       "      <th></th>\n",
       "      <th></th>\n",
       "      <th></th>\n",
       "      <th></th>\n",
       "      <th></th>\n",
       "      <th></th>\n",
       "      <th></th>\n",
       "      <th></th>\n",
       "      <th></th>\n",
       "      <th></th>\n",
       "      <th></th>\n",
       "    </tr>\n",
       "  </thead>\n",
       "  <tbody>\n",
       "    <tr>\n",
       "      <th>T</th>\n",
       "      <td>582</td>\n",
       "      <td>82</td>\n",
       "      <td>313</td>\n",
       "      <td>129</td>\n",
       "      <td>56</td>\n",
       "      <td>5</td>\n",
       "      <td>135</td>\n",
       "      <td>387</td>\n",
       "      <td>285</td>\n",
       "      <td>161</td>\n",
       "      <td>104</td>\n",
       "      <td>138</td>\n",
       "      <td>2377</td>\n",
       "    </tr>\n",
       "    <tr>\n",
       "      <th>E</th>\n",
       "      <td>191</td>\n",
       "      <td>49</td>\n",
       "      <td>6</td>\n",
       "      <td>163</td>\n",
       "      <td>240</td>\n",
       "      <td>89</td>\n",
       "      <td>350</td>\n",
       "      <td>73</td>\n",
       "      <td>22</td>\n",
       "      <td>103</td>\n",
       "      <td>754</td>\n",
       "      <td>42</td>\n",
       "      <td>2082</td>\n",
       "    </tr>\n",
       "    <tr>\n",
       "      <th>M</th>\n",
       "      <td>557</td>\n",
       "      <td>85</td>\n",
       "      <td>45</td>\n",
       "      <td>11</td>\n",
       "      <td>3</td>\n",
       "      <td>0</td>\n",
       "      <td>17</td>\n",
       "      <td>152</td>\n",
       "      <td>523</td>\n",
       "      <td>5</td>\n",
       "      <td>11</td>\n",
       "      <td>24</td>\n",
       "      <td>1433</td>\n",
       "    </tr>\n",
       "    <tr>\n",
       "      <th>E10+</th>\n",
       "      <td>299</td>\n",
       "      <td>32</td>\n",
       "      <td>14</td>\n",
       "      <td>80</td>\n",
       "      <td>104</td>\n",
       "      <td>24</td>\n",
       "      <td>79</td>\n",
       "      <td>100</td>\n",
       "      <td>34</td>\n",
       "      <td>28</td>\n",
       "      <td>74</td>\n",
       "      <td>62</td>\n",
       "      <td>930</td>\n",
       "    </tr>\n",
       "  </tbody>\n",
       "</table>\n",
       "</div>"
      ],
      "text/plain": [
       "        Action  Adventure  Fighting  Misc  Platform  Puzzle  Racing  \\\n",
       "Rating                                                                \n",
       "T          582         82       313   129        56       5     135   \n",
       "E          191         49         6   163       240      89     350   \n",
       "M          557         85        45    11         3       0      17   \n",
       "E10+       299         32        14    80       104      24      79   \n",
       "\n",
       "        Role-Playing  Shooter  Simulation  Sports  Strategy  Total Genre Count  \n",
       "Rating                                                                          \n",
       "T                387      285         161     104       138               2377  \n",
       "E                 73       22         103     754        42               2082  \n",
       "M                152      523           5      11        24               1433  \n",
       "E10+             100       34          28      74        62                930  "
      ]
     },
     "execution_count": 45,
     "metadata": {},
     "output_type": "execute_result"
    }
   ],
   "source": [
    "#Creating a new \"Total column\"\n",
    "genre_counting_df[\"Total Genre Count\"] = pd.NaT\n",
    "genre_counting_df\n",
    "#summing across values\n",
    "sumed_genre_counting=genre_counting_df[\"Total Genre Count\"] = genre_counting_df.iloc[0:4,:12].sum(axis=1)\n",
    "#checking df\n",
    "genre_counting_df\n",
    "#sorted by desc\n",
    "sorted_genre_counting_df= genre_counting_df.sort_values(by='Total Genre Count',ascending=False)\n",
    "#checking sorted \n",
    "sorted_genre_counting_df"
   ]
  },
  {
   "cell_type": "code",
   "execution_count": 46,
   "id": "b351f6c0",
   "metadata": {},
   "outputs": [],
   "source": [
    "#Table for average user score\n",
    "\n",
    "genre_user_score_df=pd.DataFrame([('E',6.742931937172772,\n",
    " 6.546938775510204,\n",
    " 6.3500000000000005,\n",
    " 6.758895705521471,\n",
    " 7.552916666666666,\n",
    " 7.317977528089888,\n",
    " 7.161142857142854,\n",
    " 7.972602739726029,\n",
    " 7.640909090909091,\n",
    " 7.028155339805826,\n",
    " 7.173474801061013,\n",
    " 7.352380952380953), ('E10+',6.8314381270902915,\n",
    " 6.375,\n",
    " 6.607142857142857,\n",
    " 6.837500000000003,\n",
    " 6.892307692307693,\n",
    " 7.179166666666667,\n",
    " 7.0253164556962036,\n",
    " 7.399,\n",
    " 7.261764705882353,\n",
    " 6.885714285714287,\n",
    " 6.616216216216217,\n",
    " 6.782258064516129), ('M',7.312926391382414,\n",
    " 7.518823529411764,\n",
    " 7.29777777777778,\n",
    " 6.736363636363637,\n",
    " 7.533333333333334,\n",
    " 0,\n",
    " 5.288235294117648,\n",
    " 7.325657894736847,\n",
    " 6.997705544933083,\n",
    " 7.460000000000001,\n",
    " 7.036363636363637,\n",
    " 7.029166666666665),('T',7.137113402061859,\n",
    " 7.463414634146337,\n",
    " 7.35175718849841,\n",
    " 6.977519379844959,\n",
    " 7.51607142857143,\n",
    " 6.3999999999999995,\n",
    " 7.231851851851851,\n",
    " 7.723514211886308,\n",
    " 7.185614035087716,\n",
    " 7.350310559006209,\n",
    " 7.016346153846152,\n",
    " 7.669565217391304)],\n",
    "                                columns=['User Score','Action',\n",
    " 'Adventure',\n",
    " 'Fighting',\n",
    " 'Misc',\n",
    " 'Platform',\n",
    " 'Puzzle',\n",
    " 'Racing',\n",
    " 'Role-Playing',\n",
    " 'Shooter',\n",
    " 'Simulation',\n",
    " 'Sports',\n",
    " 'Strategy'])"
   ]
  },
  {
   "cell_type": "code",
   "execution_count": 47,
   "id": "2a634106",
   "metadata": {},
   "outputs": [
    {
     "data": {
      "text/html": [
       "<div>\n",
       "<style scoped>\n",
       "    .dataframe tbody tr th:only-of-type {\n",
       "        vertical-align: middle;\n",
       "    }\n",
       "\n",
       "    .dataframe tbody tr th {\n",
       "        vertical-align: top;\n",
       "    }\n",
       "\n",
       "    .dataframe thead th {\n",
       "        text-align: right;\n",
       "    }\n",
       "</style>\n",
       "<table border=\"1\" class=\"dataframe\">\n",
       "  <thead>\n",
       "    <tr style=\"text-align: right;\">\n",
       "      <th></th>\n",
       "      <th>Action</th>\n",
       "      <th>Adventure</th>\n",
       "      <th>Fighting</th>\n",
       "      <th>Misc</th>\n",
       "      <th>Platform</th>\n",
       "      <th>Puzzle</th>\n",
       "      <th>Racing</th>\n",
       "      <th>Role-Playing</th>\n",
       "      <th>Shooter</th>\n",
       "      <th>Simulation</th>\n",
       "      <th>Sports</th>\n",
       "      <th>Strategy</th>\n",
       "    </tr>\n",
       "    <tr>\n",
       "      <th>User Score</th>\n",
       "      <th></th>\n",
       "      <th></th>\n",
       "      <th></th>\n",
       "      <th></th>\n",
       "      <th></th>\n",
       "      <th></th>\n",
       "      <th></th>\n",
       "      <th></th>\n",
       "      <th></th>\n",
       "      <th></th>\n",
       "      <th></th>\n",
       "      <th></th>\n",
       "    </tr>\n",
       "  </thead>\n",
       "  <tbody>\n",
       "    <tr>\n",
       "      <th>E</th>\n",
       "      <td>6.742932</td>\n",
       "      <td>6.546939</td>\n",
       "      <td>6.350000</td>\n",
       "      <td>6.758896</td>\n",
       "      <td>7.552917</td>\n",
       "      <td>7.317978</td>\n",
       "      <td>7.161143</td>\n",
       "      <td>7.972603</td>\n",
       "      <td>7.640909</td>\n",
       "      <td>7.028155</td>\n",
       "      <td>7.173475</td>\n",
       "      <td>7.352381</td>\n",
       "    </tr>\n",
       "    <tr>\n",
       "      <th>E10+</th>\n",
       "      <td>6.831438</td>\n",
       "      <td>6.375000</td>\n",
       "      <td>6.607143</td>\n",
       "      <td>6.837500</td>\n",
       "      <td>6.892308</td>\n",
       "      <td>7.179167</td>\n",
       "      <td>7.025316</td>\n",
       "      <td>7.399000</td>\n",
       "      <td>7.261765</td>\n",
       "      <td>6.885714</td>\n",
       "      <td>6.616216</td>\n",
       "      <td>6.782258</td>\n",
       "    </tr>\n",
       "    <tr>\n",
       "      <th>M</th>\n",
       "      <td>7.312926</td>\n",
       "      <td>7.518824</td>\n",
       "      <td>7.297778</td>\n",
       "      <td>6.736364</td>\n",
       "      <td>7.533333</td>\n",
       "      <td>0.000000</td>\n",
       "      <td>5.288235</td>\n",
       "      <td>7.325658</td>\n",
       "      <td>6.997706</td>\n",
       "      <td>7.460000</td>\n",
       "      <td>7.036364</td>\n",
       "      <td>7.029167</td>\n",
       "    </tr>\n",
       "    <tr>\n",
       "      <th>T</th>\n",
       "      <td>7.137113</td>\n",
       "      <td>7.463415</td>\n",
       "      <td>7.351757</td>\n",
       "      <td>6.977519</td>\n",
       "      <td>7.516071</td>\n",
       "      <td>6.400000</td>\n",
       "      <td>7.231852</td>\n",
       "      <td>7.723514</td>\n",
       "      <td>7.185614</td>\n",
       "      <td>7.350311</td>\n",
       "      <td>7.016346</td>\n",
       "      <td>7.669565</td>\n",
       "    </tr>\n",
       "  </tbody>\n",
       "</table>\n",
       "</div>"
      ],
      "text/plain": [
       "              Action  Adventure  Fighting      Misc  Platform    Puzzle  \\\n",
       "User Score                                                                \n",
       "E           6.742932   6.546939  6.350000  6.758896  7.552917  7.317978   \n",
       "E10+        6.831438   6.375000  6.607143  6.837500  6.892308  7.179167   \n",
       "M           7.312926   7.518824  7.297778  6.736364  7.533333  0.000000   \n",
       "T           7.137113   7.463415  7.351757  6.977519  7.516071  6.400000   \n",
       "\n",
       "              Racing  Role-Playing   Shooter  Simulation    Sports  Strategy  \n",
       "User Score                                                                    \n",
       "E           7.161143      7.972603  7.640909    7.028155  7.173475  7.352381  \n",
       "E10+        7.025316      7.399000  7.261765    6.885714  6.616216  6.782258  \n",
       "M           5.288235      7.325658  6.997706    7.460000  7.036364  7.029167  \n",
       "T           7.231852      7.723514  7.185614    7.350311  7.016346  7.669565  "
      ]
     },
     "execution_count": 47,
     "metadata": {},
     "output_type": "execute_result"
    }
   ],
   "source": [
    "#checking df\n",
    "genre_user_score_df\n",
    "#setting new index \n",
    "genre_user_score_df_indexed=genre_user_score_df.set_index(\"User Score\", inplace=True)\n",
    "#checking indexed d\n",
    "genre_user_score_df"
   ]
  },
  {
   "cell_type": "code",
   "execution_count": 48,
   "id": "85f644ab",
   "metadata": {},
   "outputs": [
    {
     "data": {
      "text/html": [
       "<div>\n",
       "<style scoped>\n",
       "    .dataframe tbody tr th:only-of-type {\n",
       "        vertical-align: middle;\n",
       "    }\n",
       "\n",
       "    .dataframe tbody tr th {\n",
       "        vertical-align: top;\n",
       "    }\n",
       "\n",
       "    .dataframe thead th {\n",
       "        text-align: right;\n",
       "    }\n",
       "</style>\n",
       "<table border=\"1\" class=\"dataframe\">\n",
       "  <thead>\n",
       "    <tr style=\"text-align: right;\">\n",
       "      <th></th>\n",
       "      <th>Action</th>\n",
       "      <th>Adventure</th>\n",
       "      <th>Fighting</th>\n",
       "      <th>Misc</th>\n",
       "      <th>Platform</th>\n",
       "      <th>Puzzle</th>\n",
       "      <th>Racing</th>\n",
       "      <th>Role-Playing</th>\n",
       "      <th>Shooter</th>\n",
       "      <th>Simulation</th>\n",
       "      <th>Sports</th>\n",
       "      <th>Strategy</th>\n",
       "      <th>Total_Average_User_Score</th>\n",
       "    </tr>\n",
       "    <tr>\n",
       "      <th>User Score</th>\n",
       "      <th></th>\n",
       "      <th></th>\n",
       "      <th></th>\n",
       "      <th></th>\n",
       "      <th></th>\n",
       "      <th></th>\n",
       "      <th></th>\n",
       "      <th></th>\n",
       "      <th></th>\n",
       "      <th></th>\n",
       "      <th></th>\n",
       "      <th></th>\n",
       "      <th></th>\n",
       "    </tr>\n",
       "  </thead>\n",
       "  <tbody>\n",
       "    <tr>\n",
       "      <th>T</th>\n",
       "      <td>7.137113</td>\n",
       "      <td>7.463415</td>\n",
       "      <td>7.351757</td>\n",
       "      <td>6.977519</td>\n",
       "      <td>7.516071</td>\n",
       "      <td>6.400000</td>\n",
       "      <td>7.231852</td>\n",
       "      <td>7.723514</td>\n",
       "      <td>7.185614</td>\n",
       "      <td>7.350311</td>\n",
       "      <td>7.016346</td>\n",
       "      <td>7.669565</td>\n",
       "      <td>7.251923</td>\n",
       "    </tr>\n",
       "    <tr>\n",
       "      <th>E</th>\n",
       "      <td>6.742932</td>\n",
       "      <td>6.546939</td>\n",
       "      <td>6.350000</td>\n",
       "      <td>6.758896</td>\n",
       "      <td>7.552917</td>\n",
       "      <td>7.317978</td>\n",
       "      <td>7.161143</td>\n",
       "      <td>7.972603</td>\n",
       "      <td>7.640909</td>\n",
       "      <td>7.028155</td>\n",
       "      <td>7.173475</td>\n",
       "      <td>7.352381</td>\n",
       "      <td>7.133194</td>\n",
       "    </tr>\n",
       "    <tr>\n",
       "      <th>E10+</th>\n",
       "      <td>6.831438</td>\n",
       "      <td>6.375000</td>\n",
       "      <td>6.607143</td>\n",
       "      <td>6.837500</td>\n",
       "      <td>6.892308</td>\n",
       "      <td>7.179167</td>\n",
       "      <td>7.025316</td>\n",
       "      <td>7.399000</td>\n",
       "      <td>7.261765</td>\n",
       "      <td>6.885714</td>\n",
       "      <td>6.616216</td>\n",
       "      <td>6.782258</td>\n",
       "      <td>6.891069</td>\n",
       "    </tr>\n",
       "    <tr>\n",
       "      <th>M</th>\n",
       "      <td>7.312926</td>\n",
       "      <td>7.518824</td>\n",
       "      <td>7.297778</td>\n",
       "      <td>6.736364</td>\n",
       "      <td>7.533333</td>\n",
       "      <td>0.000000</td>\n",
       "      <td>5.288235</td>\n",
       "      <td>7.325658</td>\n",
       "      <td>6.997706</td>\n",
       "      <td>7.460000</td>\n",
       "      <td>7.036364</td>\n",
       "      <td>7.029167</td>\n",
       "      <td>6.461363</td>\n",
       "    </tr>\n",
       "  </tbody>\n",
       "</table>\n",
       "</div>"
      ],
      "text/plain": [
       "              Action  Adventure  Fighting      Misc  Platform    Puzzle  \\\n",
       "User Score                                                                \n",
       "T           7.137113   7.463415  7.351757  6.977519  7.516071  6.400000   \n",
       "E           6.742932   6.546939  6.350000  6.758896  7.552917  7.317978   \n",
       "E10+        6.831438   6.375000  6.607143  6.837500  6.892308  7.179167   \n",
       "M           7.312926   7.518824  7.297778  6.736364  7.533333  0.000000   \n",
       "\n",
       "              Racing  Role-Playing   Shooter  Simulation    Sports  Strategy  \\\n",
       "User Score                                                                     \n",
       "T           7.231852      7.723514  7.185614    7.350311  7.016346  7.669565   \n",
       "E           7.161143      7.972603  7.640909    7.028155  7.173475  7.352381   \n",
       "E10+        7.025316      7.399000  7.261765    6.885714  6.616216  6.782258   \n",
       "M           5.288235      7.325658  6.997706    7.460000  7.036364  7.029167   \n",
       "\n",
       "            Total_Average_User_Score  \n",
       "User Score                            \n",
       "T                           7.251923  \n",
       "E                           7.133194  \n",
       "E10+                        6.891069  \n",
       "M                           6.461363  "
      ]
     },
     "execution_count": 48,
     "metadata": {},
     "output_type": "execute_result"
    }
   ],
   "source": [
    "#creating new column & checking df\n",
    "genre_user_score_df[\"Total_Average_User_Score\"] = pd.NaT\n",
    "genre_user_score_df\n",
    "#summing across\n",
    "genre_user_score_df[\"Total_Average_User_Score\"]= genre_user_score_df.iloc[0:4,:12].sum(axis=1)\n",
    "#dividing by 12\n",
    "avg_user = genre_user_score_df[\"Total_Average_User_Score\"]/12\n",
    "genre_user_score_df[\"Total_Average_User_Score\"] = avg_user\n",
    "\n",
    "\n",
    "#checking df\n",
    "genre_user_score_df\n",
    "#sorting values by greatest\n",
    "sorted_genre_user_score_df= genre_user_score_df.sort_values(by='Total_Average_User_Score',ascending=False)\n",
    "#checking new sorted\n",
    "sorted_genre_user_score_df"
   ]
  }
 ],
 "metadata": {
  "kernelspec": {
   "display_name": "Python 3",
   "language": "python",
   "name": "python3"
  },
  "language_info": {
   "codemirror_mode": {
    "name": "ipython",
    "version": 3
   },
   "file_extension": ".py",
   "mimetype": "text/x-python",
   "name": "python",
   "nbconvert_exporter": "python",
   "pygments_lexer": "ipython3",
   "version": "3.8.8"
  }
 },
 "nbformat": 4,
 "nbformat_minor": 5
}
